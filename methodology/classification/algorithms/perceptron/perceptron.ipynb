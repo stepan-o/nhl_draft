{
  "cells": [
    {
      "cell_type": "markdown",
      "metadata": {
        "collapsed": true,
        "pycharm": {
          "name": "#%% md\n"
        }
      },
      "source": "# Description of methodology\n# Classification algorithms\n# Perceptron\nFrom [Python Machine Learning - Second Edition By Sebastian Raschka, Vahid Mirjalili](https://www.packtpub.com/big-data-and-business-intelligence/python-machine-learning-second-edition)\n\nTrying to understand how the biological brain works, in order to design AI, Warren McCulloch and Walter Pitts published the first concept of a simplified brain cell, the so-called McCulloch-Pitts (MCP) neuron, in 1943 ([A Logical Calculus of the Ideas Immanent in Nervous Activity, W. S. McCulloch and W. Pitts](https://www.cs.cmu.edu/~./epxing/Class/10715/reading/McCulloch.and.Pitts.pdf), Bulletin of Mathematical Biophysics, 5(4): 115-133, 1943). Neurons are interconnected nerve cells in the brain that are involved in the processing and transmitting of chemical and electrical signals, which is illustrated in the following figure:\n\n![neuron](img/neuron.jpg)\n\nMcCulloch and Pitts described such a nerve cell as a simple logic gate with binary outputs; multiple signals arrive at the dendrites, are then integrated into the cell body, and, if the accumulated signal exceeds a certain threshold, an output signal is generated that will be passed on by the axon.\n\nOnly a few years later, Frank Rosenblatt published the first concept of the perceptron learning rule based on the MCP neuron model ([The Perceptron: A Perceiving and Recognizing Automaton](https://blogs.umass.edu/brain-wars/files/2016/03/rosenblatt-1957.pdf), F. Rosenblatt, Cornell Aeronautical Laboratory, 1957). With his perceptron rule, Rosenblatt proposed an algorithm that would automatically learn the optimal weight coefficients that are then multiplied with the input features in order to make the decision of whether a neuron fires or not. In the context of supervised learning and classification, such an algorithm could then be used to predict if a sample belongs to one class or the other."
    },
    {
      "cell_type": "markdown",
      "source": "## The formal definition of an artificial neuron\nMore formally, we can put the idea behind artificial neurons into the context of a binary classification task where we refer to our two classes as 1 (positive class) and -1 (negative class) for simplicity. We can then define a decision function ($\\phi(z)$) that takes a linear combination of certain input values $x$ and a corresponding weight vector $w$, where $z$ is the so-called net input:\n\n$ \\boldsymbol{w} \u003d \\begin{bmatrix} w_1 \\\\ \\vdots \\\\ w_m \\end{bmatrix}, \\quad $ \n$ \\boldsymbol{x} \u003d \\begin{bmatrix} x_1 \\\\ \\vdots \\\\ x_m \\end{bmatrix}, \\quad $\n$ z \u003d w_1 x_1 + \\dots + w_m x_m $\n\nNow, if the net input of a particular sample $\\boldsymbol{x}^{(i)}$ is greater than a defined threshold $\\theta$, we predict class 1, and class -1 otherwise. In the perceptron algorithm, the decision function $\\phi(\\sign )$ is a variant of a unit step function:\n\n$ \\phi(z) \u003d\\begin{cases}1\u0026{\\text{if }}\\ z \\geq \\theta,\\\\-1\u0026{\\text{otherwise}}\\end{cases}$\n\nFor simplicity, we can bring the threshold $\\theta$ to the left side of the equation and define a weight-zero as $w_0 \u003d - \\theta$ and $x_0 \u003d 1$ so that we write $z$ in a more compact form:\n\n$ z \u003d w_0 x_0 + w_1 x_1 + \\dots + w_m x_m \u003d \\sum_{j\u003d0}^m \\boldsymbol{x}_j \\boldsymbol{w}_j \u003d \\boldsymbol{w}^T \\boldsymbol{x} $\n\nIn machine learning literature, the negative threshold, or weight, $w_0 \u003d - \\theta$, is usually called the bias unit.\n\nThe following figure illustrates how the net input $ z \u003d \\boldsymbol{w}^T \\boldsymbol{x} $ is squashed into a binary output (`-1` or `1`) by the decision function of the perceptron (left subfigure) and how it can be used to discriminate between two linearly separable classes (right subfigure):\n\n\u003cimg src\u003d\u0027img/perceptron.jpg\u0027 alt\u003d\"perceptron\"\u003e",
      "metadata": {
        "pycharm": {
          "metadata": false,
          "name": "#%% md\n"
        }
      }
    },
    {
      "cell_type": "markdown",
      "source": "## The perceptron learning rule\nThe whole idea behind the MCP neuron and Rosenblatt\u0027s thresholded perceptron model is to use a reductionist approach to mimic how a single neuron in the brain works: it either fires or it doesn\u0027t. Thus, Rosenblatt\u0027s initial perceptron rule is fairly simple and can be summarized by the following steps:\n1. Initialize the weights to 0 or small random numbers.\n2. For each training sample:   \n    a. Compute the output value.  \n    b. Update the weights.\n\nHere, the output value is the class label predicted by the unit step function that we defined earlier, and the simultaneous update of each weight $w_j$ in the weight vector $\\boldsymbol{w}$ can be more formally written as:\n\n$ w_j :\u003d w_j + \\Delta w_j $\n\nThe value of $\\Delta w_j$, which is used to update the weight $w_j$, is calculated by the perceptron learning rule:\n\n$ \\Delta w_j \u003d \\eta \\left( y^{(i)} - \\hat{y}^{(i)} \\right) x_j^{(i)} $\n\nWhere $\\eta$ is the **learning rate** (typically a constant between 0.0 and 1.0), $y^{(i)}$ is the **true class label** of the ith training sample, and $\\hat{y}^{(i)}$ is the **predicted class label**. It is important to note that all weights in the weight vector are being updated simultaneously, which means that we don\u0027t recompute the $\\hat{y}^{(i)}$ before all of the weights $\\Delta w_j$ are updated. Concretely, for a two-dimensional dataset, we would write the update as:\n\n$ \\Delta w_0 \u003d \\eta \\left( y^{(i)} - \\text{output}^{(i)} \\right) $  \n$ \\Delta w_1 \u003d \\eta \\left( y^{(i)} - \\text{output}^{(i)} \\right) x_1^{(i)} $  \n$ \\Delta w_2 \u003d \\eta \\left( y^{(i)} - \\text{output}^{(i)} \\right) x_2^{(i)} $\n\nLet us make a simple thought experiment to illustrate how beautifully simple this learning rule really is. In the two scenarios where the perceptron predicts the class label correctly, the weights remain unchanged. However, in the case of a wrong prediction, the weights are being pushed towards the direction of the positive or negative target class.\n\nTo get a better intuition for the multiplicative factor $x_j^{(i)}$, let us go through another simple example, where:\n\n$ y^{(i)} \u003d +1, \\hat{y}_j^{(i)} \u003d -1, \\eta \u003d 1 $\n\nLet\u0027s assume that $x_j^{(i)} \u003d 0.5$, and we mis-classify this sample as `-1`. In this case, we would increase the corresponding weight by 1 so that the net input $x_j^{(i)} \\times w_j^{(i)}$ would be more positive the next time we encounter this sample, and thus be more likely to be above the threshold of the unit step function to classify the sample as `+1`:\n\n$ \\Delta w_j^{(i)} \u003d \\left( 1 - (-1) \\right)0.5 \u003d \\left( 2 \\right) 0.5 \u003d 1 $\n\nThe weight update is proportional to the value of $x_j^{(i)}$. For example, if we have another sample $x_j^{(i)} \u003d 2$ that is incorrectly classified as -1, we\u0027d push the decision boundary by an even larger extent to classify this sample correctly the next time:\n\n$ \\Delta w_j^{(i)} \u003d \\left( 1 - (-1) \\right)2 \u003d \\left( 2 \\right) 2 \u003d 4 $\n\nIt is important to note that the convergence of the perceptron is only guaranteed if the two classes are linearly separable and the learning rate is sufficiently small. If the two classes can\u0027t be separated by a linear decision boundary, we can set a maximum number of passes over the training dataset (epochs) and/or a threshold for the number of tolerated mis-classifications—the perceptron would never stop updating the weights otherwise:\n\n![lin_nonlin](../img/lin_nonlin.jpg)\n\nThis simple diagram illustrates the general concept of the perceptron:\n\n![perceptron_dag](img/perceptron_dag.jpg)\n\nThe preceding diagram illustrates how the perceptron receives the inputs of a sample $\\boldsymbol{x}$ and combines them with the weights $\\boldsymbol{w}$ to compute the net input. The net input is then passed on to the threshold function, which generates a binary output `-1` or `+1`—the predicted class label of the sample. During the learning phase, this output is used to calculate the error of the prediction and update the weights.\n",
      "metadata": {
        "pycharm": {
          "metadata": false,
          "name": "#%% md\n"
        }
      }
    },
    {
      "cell_type": "markdown",
      "source": "## An object-oriented perceptron API\nFor class definition see `src.classifiers`.\n\nWe will take an object-oriented approach to define the perceptron interface as a Python class, which allows us to initialize new `Perceptron` objects that can learn from data via a `fit` method, and make predictions via a separate `predict` method. As a convention, we append an underscore (`_`) to attributes that are not being created upon the initialization of the object but by calling the object\u0027s other methods, for example, `self.w_`.\n\nUsing this perceptron implementation, we can now initialize new `Perceptron` objects with a given learning rate `eta` and `n_iter`, which is the number of epochs (passes over the training set). Via the `fit` method, we initialize the weights in `self.w_` to a vector $\\mathbb{R}^{m+1}$, where m stands for the number of dimensions (features) in the dataset, where we add 1 for the first element in this vector that represents the bias unit. Remember that the first element in this vector, `self.w_[0]`, represents the so-called bias unit.\n\nAlso notice that this vector contains small random numbers drawn from a normal distribution with standard deviation `0.01` via `rgen.normal(loc\u003d0.0, scale\u003d0.01, size\u003d1 + X.shape[1])`, where `rgen` is a NumPy random number generator that we seeded with a user-specified random seed so that we can reproduce previous results if desired.\n\nNow, the reason we don\u0027t initialize the weights to zero is that the learning rate $\\eta$ (`eta`) only has an effect on the classification outcome if the weights are initialized to non-zero values. If all the weights are initialized to zero, the learning rate parameter `eta` affects only the scale of the weight vector, not the direction. If you are familiar with trigonometry, consider a vector $v1 \u003d \\begin{bmatrix} 1 \u0026 2 \u0026 3 \\end{bmatrix}$, where the angle between $v1$ and a vector $v2\u003d0.5 \\times{v1} $ would be exactly zero, as demonstrated by the following code snippet:",
      "metadata": {
        "pycharm": {
          "metadata": false,
          "name": "#%% md\n"
        }
      }
    },
    {
      "cell_type": "code",
      "execution_count": 2,
      "outputs": [
        {
          "data": {
            "text/plain": "0.0"
          },
          "metadata": {},
          "output_type": "execute_result",
          "execution_count": 2
        }
      ],
      "source": "import numpy as np\nv1 \u003d np.array([1, 2, 3])\nv2 \u003d 0.5 * v1\nnp.arccos(v1.dot(v2) / (np.linalg.norm(v1) * \n          np.linalg.norm(v2)))",
      "metadata": {
        "pycharm": {
          "metadata": false,
          "name": "#%%\n",
          "is_executing": false
        }
      }
    },
    {
      "cell_type": "markdown",
      "source": "Here, `np.arccos` is the trigonometric inverse cosine and `np.linalg.norm` is a function that computes the length of a vector. (The reason why we have drawn the random numbers from a random normal distribution—for example, instead from a uniform distribution—and why we used a standard deviation of `0.01` was arbitrary; remember, we are just interested in small random values to avoid the properties of all-zero vectors as discussed earlier.)\n\nAfter the weights have been initialized, the `fit` method loops over all individual samples in the training set and updates the weights according to the perceptron learning rule that we discussed in the previous section. The class labels are predicted by the `predict` method, which is called in the `fit` method to predict the class label for the weight update, but `predict` can also be used to predict the class labels of new data after we have fitted our model. Furthermore, we also collect the number of misclassifications during each epoch in the `self.errors_` list so that we can later analyze how well our perceptron performed during the training. The `np.dot` function that is used in the `net_input` method simply calculates the vector dot product $\\boldsymbol{w}^T \\boldsymbol{x}$.\n\n## Vectorization\nOne of the main advantages of using `NumPy` over classic Python `for` loop structures is that its arithmetic operations are vectorized. **Vectorization** means that an elemental arithmetic operation is automatically applied to all elements in an array. By formulating our arithmetic operations as a sequence of instructions on an array, rather than performing a set of operations for each element at the time, we can make better use of our modern CPU architectures with **Single Instruction, Multiple Data (SIMD)** support. Furthermore, NumPy uses highly optimized linear algebra libraries such as **Basic Linear Algebra Subprograms (BLAS)** and **Linear Algebra Package (LAPACK)** that have been written in C or Fortran. Lastly, NumPy also allows us to write our code in a more compact and intuitive way using the basics of linear algebra, such as vector and matrix dot products.\n## Training a perceptron model on the Iris dataset\nTo test our perceptron implementation, we will load the two flower classes Setosa and Versicolor from the Iris dataset. Although the perceptron rule is not restricted to two dimensions, we will only consider the two features sepal length and petal length for visualization purposes. Also, we only chose the two flower classes Setosa and Versicolor for practical reasons. However, the perceptron algorithm can be extended to multi-class classification—for example, the **One-versus-All (OvA)** technique.",
      "metadata": {
        "pycharm": {
          "metadata": false
        }
      }
    },
    {
      "cell_type": "code",
      "execution_count": 1,
      "outputs": [
        {
          "data": {
            "text/plain": "     0    1    2    3            4\n0  5.1  3.5  1.4  0.2  Iris-setosa\n1  4.9  3.0  1.4  0.2  Iris-setosa\n2  4.7  3.2  1.3  0.2  Iris-setosa\n3  4.6  3.1  1.5  0.2  Iris-setosa\n4  5.0  3.6  1.4  0.2  Iris-setosa",
            "text/html": "\u003cdiv\u003e\n\u003cstyle scoped\u003e\n    .dataframe tbody tr th:only-of-type {\n        vertical-align: middle;\n    }\n\n    .dataframe tbody tr th {\n        vertical-align: top;\n    }\n\n    .dataframe thead th {\n        text-align: right;\n    }\n\u003c/style\u003e\n\u003ctable border\u003d\"1\" class\u003d\"dataframe\"\u003e\n  \u003cthead\u003e\n    \u003ctr style\u003d\"text-align: right;\"\u003e\n      \u003cth\u003e\u003c/th\u003e\n      \u003cth\u003e0\u003c/th\u003e\n      \u003cth\u003e1\u003c/th\u003e\n      \u003cth\u003e2\u003c/th\u003e\n      \u003cth\u003e3\u003c/th\u003e\n      \u003cth\u003e4\u003c/th\u003e\n    \u003c/tr\u003e\n  \u003c/thead\u003e\n  \u003ctbody\u003e\n    \u003ctr\u003e\n      \u003cth\u003e0\u003c/th\u003e\n      \u003ctd\u003e5.1\u003c/td\u003e\n      \u003ctd\u003e3.5\u003c/td\u003e\n      \u003ctd\u003e1.4\u003c/td\u003e\n      \u003ctd\u003e0.2\u003c/td\u003e\n      \u003ctd\u003eIris-setosa\u003c/td\u003e\n    \u003c/tr\u003e\n    \u003ctr\u003e\n      \u003cth\u003e1\u003c/th\u003e\n      \u003ctd\u003e4.9\u003c/td\u003e\n      \u003ctd\u003e3.0\u003c/td\u003e\n      \u003ctd\u003e1.4\u003c/td\u003e\n      \u003ctd\u003e0.2\u003c/td\u003e\n      \u003ctd\u003eIris-setosa\u003c/td\u003e\n    \u003c/tr\u003e\n    \u003ctr\u003e\n      \u003cth\u003e2\u003c/th\u003e\n      \u003ctd\u003e4.7\u003c/td\u003e\n      \u003ctd\u003e3.2\u003c/td\u003e\n      \u003ctd\u003e1.3\u003c/td\u003e\n      \u003ctd\u003e0.2\u003c/td\u003e\n      \u003ctd\u003eIris-setosa\u003c/td\u003e\n    \u003c/tr\u003e\n    \u003ctr\u003e\n      \u003cth\u003e3\u003c/th\u003e\n      \u003ctd\u003e4.6\u003c/td\u003e\n      \u003ctd\u003e3.1\u003c/td\u003e\n      \u003ctd\u003e1.5\u003c/td\u003e\n      \u003ctd\u003e0.2\u003c/td\u003e\n      \u003ctd\u003eIris-setosa\u003c/td\u003e\n    \u003c/tr\u003e\n    \u003ctr\u003e\n      \u003cth\u003e4\u003c/th\u003e\n      \u003ctd\u003e5.0\u003c/td\u003e\n      \u003ctd\u003e3.6\u003c/td\u003e\n      \u003ctd\u003e1.4\u003c/td\u003e\n      \u003ctd\u003e0.2\u003c/td\u003e\n      \u003ctd\u003eIris-setosa\u003c/td\u003e\n    \u003c/tr\u003e\n  \u003c/tbody\u003e\n\u003c/table\u003e\n\u003c/div\u003e"
          },
          "metadata": {},
          "output_type": "execute_result",
          "execution_count": 1
        }
      ],
      "source": "import pandas as pd\ndf \u003d pd.read_csv(\u0027https://archive.ics.uci.edu/ml/\u0027\n                 \u0027machine-learning-databases/iris/iris.data\u0027,\n                 header\u003dNone)\ndf.head()",
      "metadata": {
        "pycharm": {
          "metadata": false,
          "name": "#%%\n",
          "is_executing": false
        }
      }
    },
    {
      "cell_type": "markdown",
      "source": "Next, we extract the first 100 class labels that correspond to the 50 `Iris-setosa` and 50 `Iris-versicolor` flowers, and convert the class labels into the two integer class labels `1` (`versicolor`) and `-1` (`setosa`) that we assign to a vector `y`, where the values method of a pandas `DataFrame` yields the corresponding NumPy representation.\n\nSimilarly, we extract the first feature column (sepal length) and the third feature column (petal length) of those 100 training samples and assign them to a feature matrix `X`, which we can visualize via a two-dimensional scatter plot:",
      "metadata": {
        "pycharm": {
          "metadata": false,
          "name": "#%% md\n"
        }
      }
    },
    {
      "cell_type": "code",
      "execution_count": 2,
      "outputs": [
        {
          "data": {
            "text/plain": "\u003cFigure size 432x288 with 1 Axes\u003e",
            "image/png": "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\u003d\u003d\n"
          },
          "metadata": {
            "needs_background": "light"
          },
          "output_type": "display_data"
        }
      ],
      "source": "%matplotlib inline\nimport matplotlib.pyplot as plt\nimport numpy as np\n\n# select setosa and versicolor\ny \u003d df.iloc[0:100, 4].values\ny \u003d np.where(y \u003d\u003d \u0027Iris-setosa\u0027, -1, 1)\n\n# extract sepal length and petal length\nX \u003d df.iloc[0:100, [0, 2]].values\n\n# plot data\nplt.scatter(X[:50, 0], X[:50, 1],\n            color\u003d\u0027red\u0027, marker\u003d\u0027o\u0027, label\u003d\u0027setosa\u0027)\nplt.scatter(X[50:100, 0], X[50:100, 1],\n            color\u003d\u0027blue\u0027, marker\u003d\u0027x\u0027, label\u003d\u0027versicolor\u0027)\nplt.xlabel(\u0027sepal length [cm]\u0027)\nplt.ylabel(\u0027petal length [cm]\u0027)\nplt.legend(loc\u003d\u0027upper left\u0027)\nplt.show()",
      "metadata": {
        "pycharm": {
          "metadata": false,
          "name": "#%%\n",
          "is_executing": false
        }
      }
    },
    {
      "cell_type": "markdown",
      "source": "The preceding scatterplot shows the distribution of flower samples in the Iris dataset along the two feature axes, petal length and sepal length. In this two-dimensional feature subspace, we can see that a linear decision boundary should be sufficient to separate Setosa from Versicolor flowers. Thus, a linear classifier such as the perceptron should be able to classify the flowers in this dataset perfectly.\n\nNow, it\u0027s time to train our perceptron algorithm on the Iris data subset that we just extracted. Also, we will plot the misclassification error for each epoch to check whether the algorithm converged and found a decision boundary that separates the two Iris flower classes:",
      "metadata": {
        "pycharm": {
          "metadata": false,
          "name": "#%% md\n"
        }
      }
    },
    {
      "cell_type": "code",
      "execution_count": 3,
      "outputs": [],
      "source": "import os\nos.chdir(\u0027Documents/repos/nhl_draft\u0027)",
      "metadata": {
        "pycharm": {
          "metadata": false,
          "name": "#%%\n",
          "is_executing": false
        }
      }
    },
    {
      "cell_type": "code",
      "execution_count": 4,
      "outputs": [
        {
          "data": {
            "text/plain": "\u003cFigure size 432x288 with 1 Axes\u003e",
            "image/png": "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\u003d\u003d\n"
          },
          "metadata": {
            "needs_background": "light"
          },
          "output_type": "display_data"
        }
      ],
      "source": "from src.classifiers import Perceptron\n\nppn \u003d Perceptron(eta\u003d0.1, n_iter\u003d10)\nppn.fit(X, y)\nplt.plot(range(1, len(ppn.errors_) + 1), \n         ppn.errors_, marker\u003d\u0027o\u0027)\nplt.xlabel(\u0027Epochs\u0027)\nplt.ylabel(\u0027Number of updates\u0027)\nplt.show()",
      "metadata": {
        "pycharm": {
          "metadata": false,
          "name": "#%%\n",
          "is_executing": false
        }
      }
    },
    {
      "cell_type": "markdown",
      "source": "As we can see in the preceding plot, our perceptron converged after the sixth epoch and should now be able to classify the training samples perfectly.",
      "metadata": {
        "pycharm": {
          "metadata": false,
          "name": "#%% md\n"
        }
      }
    },
    {
      "cell_type": "code",
      "execution_count": 5,
      "outputs": [
        {
          "data": {
            "text/plain": "\u003cFigure size 432x432 with 1 Axes\u003e",
            "image/png": "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\u003d\n"
          },
          "metadata": {
            "needs_background": "light"
          },
          "output_type": "display_data"
        }
      ],
      "source": "from src.plot_utils import plot_decision_regions\n\nplot_decision_regions(X, y, classifier\u003dppn,\n                      xlabel\u003d\u0027sepal length [cm]\u0027,\n                      ylabel\u003d\u0027petal length [cm]\u0027,\n                      title\u003d\"Perceptron classification algorithm\"\n                            \"\\ndecision boundary\")",
      "metadata": {
        "pycharm": {
          "metadata": false,
          "name": "#%%\n",
          "is_executing": false
        }
      }
    },
    {
      "cell_type": "markdown",
      "source": "## Perceptron convergence issues\nAlthough the perceptron classified the two Iris flower classes perfectly, convergence is one of the biggest problems of the perceptron. Frank Rosenblatt proved mathematically that the perceptron learning rule converges if the two classes can be separated by a linear hyperplane. However, if classes cannot be separated perfectly by such a linear decision boundary, the weights will never stop updating unless we set a maximum number of epochs.",
      "metadata": {
        "pycharm": {
          "metadata": false,
          "name": "#%% md\n"
        }
      }
    },
    {
      "cell_type": "markdown",
      "source": "## OvA Technique for multi-class classification\nOvA, or sometimes also called **One-versus-Rest (OvR)**, is a technique that allows us to extend a binary classifier to multi-class problems. Using OvA, we can train one classifier per class, where the particular class is treated as the positive class and the samples from all other classes are considered negative classes. If we were to classify a new data sample, we would use our n classifiers, where n is the number of class labels, and assign the class label with the highest confidence to the particular sample. In the case of the perceptron, we would use OvA to choose the class label that is associated with the largest absolute net input value.",
      "metadata": {
        "pycharm": {
          "metadata": false,
          "name": "#%% md\n"
        }
      }
    },
    {
      "cell_type": "markdown",
      "source": "## Training a perceptron using `scikit-learn`\nThe `scikit-learn` library offers not only a large variety of learning algorithms, but also many convenient functions to preprocess data and to fine-tune and evaluate our models. Conveniently, the Iris dataset is already available via `scikit-learn`, since it is a simple yet popular dataset that is frequently used for testing and experimenting with algorithms. We will only use two features from the Iris dataset for visualization purposes. \n\nWe will assign the petal length and petal width of the 150 flower samples to the feature matrix `X` and the corresponding class labels of the flower species to the vector `y`:",
      "metadata": {
        "pycharm": {
          "metadata": false,
          "name": "#%% md\n"
        }
      }
    },
    {
      "cell_type": "code",
      "execution_count": 1,
      "outputs": [
        {
          "name": "stdout",
          "text": [
            "Class labels: [0 1 2]\n"
          ],
          "output_type": "stream"
        }
      ],
      "source": "from sklearn import datasets\nimport numpy as np\n\niris \u003d datasets.load_iris()\nX \u003d iris.data[:, [2, 3]]\ny \u003d iris.target\nprint(\u0027Class labels:\u0027, np.unique(y))",
      "metadata": {
        "pycharm": {
          "metadata": false,
          "name": "#%%\n",
          "is_executing": false
        }
      }
    },
    {
      "cell_type": "markdown",
      "source": "The `np.unique(y)` function returned the three unique class labels stored in `iris.target`, and as we see, the Iris flower class names `Iris-setosa`, `Iris-versicolor`, and `Iris-virginica` are already stored as integers (here: `0`, `1`, `2`). Although many `scikit-learn` functions and class methods also work with class labels in string format, using integer labels is a recommended approach to avoid technical glitches and improve computational performance due to a smaller memory footprint; furthermore, encoding class labels as integers is a common convention among most machine learning libraries.\n\nTo evaluate how well a trained model performs on unseen data, we will further split the dataset into separate training and test datasets. Using the `train_test_split` function from `scikit-learn`\u0027s `model_selection` module, we randomly split the `X` and `y` arrays into 30 percent test data (45 samples) and 70 percent training data (105 samples).",
      "metadata": {
        "pycharm": {
          "metadata": false,
          "name": "#%% md\n"
        }
      }
    },
    {
      "cell_type": "code",
      "execution_count": 2,
      "outputs": [],
      "source": "from sklearn.model_selection import train_test_split\nX_train, X_test, y_train, y_test \u003d train_test_split(\n    X, y, test_size\u003d0.3, random_state\u003d1, stratify\u003dy)",
      "metadata": {
        "pycharm": {
          "metadata": false,
          "name": "#%%\n",
          "is_executing": false
        }
      }
    },
    {
      "cell_type": "markdown",
      "source": "Note that the `train_test_split` function already shuffles the training sets internally before splitting; otherwise, all class `0` and class `1` samples would have ended up in the training set, and the test set would consist of 45 samples from class 2. Via the `random_state` parameter, we provided a fixed random seed (`random_state\u003d1`) for the internal pseudo-random number generator that is used for shuffling the datasets prior to splitting. Using such a fixed `random_state` ensures that our results are reproducible.\n\nLastly, we took advantage of the built-in support for stratification via `stratify\u003dy`. In this context, stratification means that the `train_test_split` method returns training and test subsets that have the same proportions of class labels as the input dataset. We can use NumPy\u0027s `bincount` function, which counts the number of occurrences of each value in an array, to verify that this is indeed the case:",
      "metadata": {
        "pycharm": {
          "metadata": false,
          "name": "#%% md\n"
        }
      }
    },
    {
      "cell_type": "code",
      "execution_count": 3,
      "outputs": [
        {
          "name": "stdout",
          "text": [
            "Labels counts in y: [50 50 50]\nLabels counts in y_train: [35 35 35]\nLabels counts in y_test: [15 15 15]\n"
          ],
          "output_type": "stream"
        }
      ],
      "source": "print(\u0027Labels counts in y:\u0027, np.bincount(y))\nprint(\u0027Labels counts in y_train:\u0027, np.bincount(y_train))\nprint(\u0027Labels counts in y_test:\u0027, np.bincount(y_test))",
      "metadata": {
        "pycharm": {
          "metadata": false,
          "name": "#%%\n",
          "is_executing": false
        }
      }
    },
    {
      "cell_type": "markdown",
      "source": "Many machine learning and optimization algorithms also require feature scaling for optimal performance, as we remember from the gradient descent example. Here, we will standardize the features using the `StandardScaler` class from `scikit-learn`\u0027s `preprocessing` module:",
      "metadata": {
        "pycharm": {
          "metadata": false,
          "name": "#%% md\n"
        }
      }
    },
    {
      "cell_type": "code",
      "execution_count": 4,
      "outputs": [],
      "source": "from sklearn.preprocessing import StandardScaler\nsc \u003d StandardScaler()\nsc.fit(X_train)\nX_train_std \u003d sc.transform(X_train)\nX_test_std \u003d sc.transform(X_test)",
      "metadata": {
        "pycharm": {
          "metadata": false,
          "name": "#%%\n",
          "is_executing": false
        }
      }
    },
    {
      "cell_type": "markdown",
      "source": "Using the preceding code, we loaded the `StandardScaler` class from the `preprocessing` module and initialized a new `StandardScaler` object that we assigned to the `sc` variable. Using the `fit` method, `StandardScaler` estimated the parameters μ (sample mean) and σ (standard deviation) for each feature dimension from the training data. By calling the `transform` method, we then standardized the training data using those estimated parameters $\\mu$ and $\\sigma$. Note that we used the same scaling parameters to standardize the test set so that both the values in the training and test dataset are comparable to each other.\n\nHaving standardized the training data, we can now train a perceptron model. Most algorithms in scikit-learn already support multi-class classification by default via the **One-versus-Rest (OvR)** method, which allows us to feed the three flower classes to the perceptron all at once. The code is as follows:",
      "metadata": {
        "pycharm": {
          "metadata": false,
          "name": "#%% md\n"
        }
      }
    },
    {
      "cell_type": "code",
      "execution_count": 10,
      "outputs": [
        {
          "data": {
            "text/plain": "Perceptron(alpha\u003d0.0001, class_weight\u003dNone, early_stopping\u003dFalse, eta0\u003d0.1,\n           fit_intercept\u003dTrue, max_iter\u003d40, n_iter_no_change\u003d5, n_jobs\u003dNone,\n           penalty\u003dNone, random_state\u003d1, shuffle\u003dTrue, tol\u003d0.001,\n           validation_fraction\u003d0.1, verbose\u003d0, warm_start\u003dFalse)"
          },
          "metadata": {},
          "output_type": "execute_result",
          "execution_count": 10
        }
      ],
      "source": "from sklearn.linear_model import Perceptron\n\nppn \u003d Perceptron(max_iter\u003d40,\n                 eta0\u003d0.1, random_state\u003d1)\nppn.fit(X_train_std, y_train)",
      "metadata": {
        "pycharm": {
          "metadata": false,
          "name": "#%%\n",
          "is_executing": false
        }
      }
    },
    {
      "cell_type": "markdown",
      "source": "The `scikit-learn` interface reminds us of our object-oriented perceptron implementation: after loading the Perceptron class from the `linear_model` module, we initialized a new `Perceptron` object and trained the model via the `fit` method. Here, the model parameter `eta0` is equivalent to the learning rate `eta` that we used in our own perceptron implementation, and the `max_iter` parameter defines the number of epochs (passes over the training set).\n\nAs we remember, finding an appropriate learning rate requires some experimentation. If the learning rate is too large, the algorithm will overshoot the global cost minimum. If the learning rate is too small, the algorithm requires more epochs until convergence, which can make the learning slow—especially for large datasets. Also, we used the `random_state` parameter to ensure the reproducibility of the initial shuffling of the training dataset after each epoch.\n\nHaving trained a model in `scikit-learn`, we can make predictions via the `predict` method, just like in our own perceptron implementation. The code is as follows:",
      "metadata": {
        "pycharm": {
          "metadata": false,
          "name": "#%% md\n"
        }
      }
    },
    {
      "cell_type": "code",
      "execution_count": 19,
      "outputs": [
        {
          "name": "stdout",
          "text": [
            "----- Prediction accuracy on train set:\n\nTotal samples: 105 \nIncorrect predictions: 6, or 0.0571%\n\n----- Prediction accuracy on train set:\n\nTotal samples: 45 \nIncorrect predictions: 1, or 0.0222%\n"
          ],
          "output_type": "stream"
        }
      ],
      "source": "y_pred_train \u003d ppn.predict(X_train_std)\ny_pred_test \u003d ppn.predict(X_test_std)\nmisclass_train \u003d (y_pred_train !\u003d y_train).sum()\nmisclass_test \u003d (y_pred_test !\u003d y_test).sum()\nprint(\"----- Prediction accuracy on train set:\"\n      \"\\n\\nTotal samples: {0}\".format(len(y_train)),\n      \"\\nIncorrect predictions: {0}, or {1:.4f}%\"\n      .format(misclass_train, misclass_train / len(y_train)))\nprint(\"\\n----- Prediction accuracy on train set:\"\n      \"\\n\\nTotal samples: {0}\".format(len(y_test)),\n      \"\\nIncorrect predictions: {0}, or {1:.4f}%\"\n      .format(misclass_test, misclass_test / len(y_test)))",
      "metadata": {
        "pycharm": {
          "metadata": false,
          "name": "#%%\n",
          "is_executing": false
        }
      }
    },
    {
      "cell_type": "markdown",
      "source": "Executing the code, we see that the perceptron misclassifies one out of the 45 flower samples. Thus, the misclassification error on the test dataset is approximately 0.0222 or 2.2 percent (1 / 45 \u003d 0.0222).",
      "metadata": {
        "pycharm": {
          "metadata": false,
          "name": "#%% md\n"
        }
      }
    },
    {
      "cell_type": "code",
      "execution_count": 20,
      "outputs": [
        {
          "data": {
            "text/plain": "0.022222222222222223"
          },
          "metadata": {},
          "output_type": "execute_result",
          "execution_count": 20
        }
      ],
      "source": "1/45",
      "metadata": {
        "pycharm": {
          "metadata": false,
          "name": "#%%\n",
          "is_executing": false
        }
      }
    },
    {
      "cell_type": "markdown",
      "source": "Note: Instead of the misclassification error, many machine learning practitioners report the classification accuracy of a model, which is simply calculated as follows:\n\nClassification accuracy \u003d 1 - error \u003d 0.978 or 97.8 percent.",
      "metadata": {
        "pycharm": {
          "metadata": false,
          "name": "#%% md\n"
        }
      }
    },
    {
      "cell_type": "code",
      "execution_count": 21,
      "outputs": [
        {
          "data": {
            "text/plain": "0.9777777777777777"
          },
          "metadata": {},
          "output_type": "execute_result",
          "execution_count": 21
        }
      ],
      "source": "1 - 1 / 45",
      "metadata": {
        "pycharm": {
          "metadata": false,
          "name": "#%%\n",
          "is_executing": false
        }
      }
    },
    {
      "cell_type": "code",
      "execution_count": null,
      "outputs": [],
      "source": "\n",
      "metadata": {
        "pycharm": {
          "metadata": false,
          "name": "#%%\n"
        }
      }
    }
  ],
  "metadata": {
    "language_info": {
      "codemirror_mode": {
        "name": "ipython",
        "version": 2
      },
      "file_extension": ".py",
      "mimetype": "text/x-python",
      "name": "python",
      "nbconvert_exporter": "python",
      "pygments_lexer": "ipython2",
      "version": "2.7.6"
    },
    "kernelspec": {
      "name": "python3",
      "language": "python",
      "display_name": "Python 3"
    }
  },
  "nbformat": 4,
  "nbformat_minor": 0
}