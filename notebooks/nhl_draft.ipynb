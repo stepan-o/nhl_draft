{
  "cells": [
    {
      "cell_type": "code",
      "execution_count": 9,
      "metadata": {
        "collapsed": true,
        "pycharm": {
          "is_executing": false
        }
      },
      "outputs": [],
      "source": "import matplotlib.pyplot as plt\nimport pandas as pd\nfrom glob import glob\nfrom time import time\nimport os"
    },
    {
      "cell_type": "code",
      "execution_count": 6,
      "outputs": [
        {
          "data": {
            "text/plain": "[\u00272009.csv\u0027,\n \u00272010.csv\u0027,\n \u00272011.csv\u0027,\n \u00272012.csv\u0027,\n \u00272013.csv\u0027,\n \u00272014.csv\u0027,\n \u00272015.csv\u0027,\n \u00272016.csv\u0027,\n \u00272017.csv\u0027,\n \u00272018.csv\u0027]"
          },
          "metadata": {},
          "output_type": "execute_result",
          "execution_count": 6
        }
      ],
      "source": "draft_data_path \u003d \u0027../data/nhl-draft-picks-2009-2018/\u0027\nos.listdir(draft_data_path)",
      "metadata": {
        "pycharm": {
          "metadata": false,
          "name": "#%%\n",
          "is_executing": false
        }
      }
    },
    {
      "cell_type": "code",
      "execution_count": 11,
      "outputs": [
        {
          "name": "stdout",
          "text": [
            "----- DataFrame with NHL Draft Data loaded\nin 0.19 seconds\nwith 2,119 rows\nand 21 columns\n-- Column names:\n Index([\u0027Overall\u0027, \u0027Team\u0027, \u0027Player\u0027, \u0027Nat.\u0027, \u0027Pos\u0027, \u0027Age\u0027, \u0027To\u0027, \u0027Amateur Team\u0027,\n       \u0027GP\u0027, \u0027G\u0027, \u0027A\u0027, \u0027PTS\u0027, \u0027+/-\u0027, \u0027PIM\u0027, \u0027GP.1\u0027, \u0027W\u0027, \u0027L\u0027, \u0027T/O\u0027, \u0027SV%\u0027,\n       \u0027GAA\u0027, \u0027year\u0027],\n      dtype\u003d\u0027object\u0027)\n"
          ],
          "output_type": "stream"
        }
      ],
      "source": "t \u003d time()\n# glob all .csv files from NHL Draft data\npattern \u003d \u0027*.csv\u0027\ncsv_files \u003d glob(draft_data_path + pattern)\n\n#  Iterate over csv_files\nframes \u003d []\nfor csv in csv_files:\n    #  Read csv into a DataFrame: df\n    df \u003d pd.read_csv(csv)\n    df[\u0027year\u0027] \u003d csv[-8:-5]\n    # Append df to frames\n    frames.append(df)\ndf \u003d pd.concat(frames)\nelapsed \u003d time() - t\nprint(\"----- DataFrame with NHL Draft Data loaded\"\n      \"\\nin {0:.2f} seconds\".format(elapsed) + \n      \"\\nwith {0:,} rows\\nand {1:,} columns\"\n      .format(df.shape[0], df.shape[1]) + \n      \"\\n-- Column names:\\n\", df.columns)",
      "metadata": {
        "pycharm": {
          "metadata": false,
          "name": "#%%\n",
          "is_executing": false
        }
      }
    },
    {
      "cell_type": "code",
      "execution_count": 13,
      "outputs": [
        {
          "name": "stdout",
          "text": [
            "\u003cclass \u0027pandas.core.frame.DataFrame\u0027\u003e\nInt64Index: 2119 entries, 0 to 216\nData columns (total 21 columns):\nOverall         2119 non-null int64\nTeam            2119 non-null object\nPlayer          2119 non-null object\nNat.            2118 non-null object\nPos             2118 non-null object\nAge             2118 non-null float64\nTo              728 non-null float64\nAmateur Team    2118 non-null object\nGP              728 non-null float64\nG               728 non-null float64\nA               728 non-null float64\nPTS             728 non-null float64\n+/-             724 non-null float64\nPIM             728 non-null float64\nGP.1            55 non-null float64\nW               54 non-null float64\nL               54 non-null float64\nT/O             54 non-null float64\nSV%             55 non-null float64\nGAA             55 non-null float64\nyear            2119 non-null object\ndtypes: float64(14), int64(1), object(6)\nmemory usage: 444.2+ KB\n"
          ],
          "output_type": "stream"
        }
      ],
      "source": "df.info()",
      "metadata": {
        "pycharm": {
          "metadata": false,
          "name": "#%%\n",
          "is_executing": false
        }
      }
    }
  ],
  "metadata": {
    "language_info": {
      "codemirror_mode": {
        "name": "ipython",
        "version": 2
      },
      "file_extension": ".py",
      "mimetype": "text/x-python",
      "name": "python",
      "nbconvert_exporter": "python",
      "pygments_lexer": "ipython2",
      "version": "2.7.6"
    },
    "kernelspec": {
      "name": "python3",
      "language": "python",
      "display_name": "Python 3"
    }
  },
  "nbformat": 4,
  "nbformat_minor": 0
}