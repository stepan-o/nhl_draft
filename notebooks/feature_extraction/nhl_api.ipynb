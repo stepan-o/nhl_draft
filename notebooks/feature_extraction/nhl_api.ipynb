{
  "cells": [
    {
      "cell_type": "markdown",
      "source": "# NHL 2009-2018 Draft dataset\n\nThis notebook describes the process of retrieval\n\n# NHL API\n\nNHL provides two main APIs: Stats API and Records API. Description of some of their endpoints is provided below (taken from [Philip Bulsink](https://gitlab.com/dword4/nhlapi)).",
      "metadata": {
        "pycharm": {
          "metadata": false,
          "name": "#%% md\n"
        }
      }
    },
    {
      "cell_type": "code",
      "execution_count": 7,
      "metadata": {
        "collapsed": true,
        "pycharm": {
          "is_executing": false
        }
      },
      "outputs": [],
      "source": "import requests\nimport pandas as pd\nfrom time import time\nimport os"
    },
    {
      "cell_type": "markdown",
      "source": "## NHL Stats API endpoints\n\nOnly some endpoints are presented here, full description can be found [here](https://gitlab.com/dword4/nhlapi/blob/master/stats-api.md).\n\n* Teams  \n\nGET https://statsapi.web.nhl.com/api/v1/teams   \nReturns a list of data about all teams including their id, venue details, division, conference and franchise information.  \n\nGET https://statsapi.web.nhl.com/api/v1/teams/ID/roster  \nReturns entire roster for a team including id value, name, jersey number and position details.\n\n* People\n\n**GET** https://statsapi.web.nhl.com/api/v1/people/ID  \nGets details for a player, must specify the id value in order to return data.\n\n**GET** https://statsapi.web.nhl.com/api/v1/people/ID/stats  \nComplex endpoint with lots of append options to change what kind of stats you wish to obtain\n\n_Modifiers_  \n?stats\u003dstatsSingleSeason\u0026season\u003d19801981   \nObtains single season statistics for a player  \n\n?stats\u003dhomeAndAway\u0026season\u003d20162017  \nProvides a split between home and away games.\n\n?stats\u003dwinLoss\u0026season\u003d20162017  \nVery similar to the previous modifier except it provides the W/L/OT split instead of Home and Away\n\n?stats\u003dbyMonth\u0026season\u003d20162017  \nMonthly split of stats\n\n?stats\u003dbyDayOfWeek\u0026season\u003d20162017  \nSplit done by day of the week\n\n?stats\u003dvsDivision\u0026season\u003d20162017  \nDivision stats split\n\n?stats\u003dvsConference\u0026season\u003d20162017  \nConference stats split\n\n?stats\u003dvsTeam\u0026season\u003d20162017  \nConference stats split\n\n?stats\u003dgameLog\u0026season\u003d20162017  \nProvides a game log showing stats for each game of a season\n\n?stats\u003dregularSeasonStatRankings\u0026season\u003d20162017   \nReturns where someone stands vs the rest of the league for a specific regularSeasonStatRankings\n\n?stats\u003dgoalsByGameSituation\u0026season\u003d20162017  \nShows number on when goals for a\nplayer happened like how many in the shootout, how many in each period, etc.\n\n?stats\u003donPaceRegularSeason\u0026season\u003d20172018  \nThis only works with the current in-progress season and shows projected totals based on current onPaceRegularSeason\n\n* Draft\n\nGET https://statsapi.web.nhl.com/api/v1/draft  \nGet round-by-round data for current year\u0027s NHL Entry Draft.\n\n**GET** https://statsapi.web.nhl.com/api/v1/draft/YEAR  \nTakes a YYYY format year and returns draft data\n\n* Prospects\n\n**GET** https://statsapi.web.nhl.com/api/v1/draft/prospects  \nGet all NHL Entry Draft prospects.\n\nGET https://statsapi.web.nhl.com/api/v1/draft/prospects/ID  \nGet an NHL Entry Draft prospect.",
      "metadata": {
        "pycharm": {
          "metadata": false,
          "name": "#%% md\n"
        }
      }
    },
    {
      "cell_type": "markdown",
      "source": "## NHL Records API endpoints\n\nOnly some endpoints are presented here, full description can be found [here](https://gitlab.com/dword4/nhlapi/blob/master/records-api.md).\n\nAll queries are prefixed with https://records.nhl.com/site/api and are GET\nrequests unless otherwise noted.\n\n**Filtering**\n\nThis is slightly different than the normal NHL API, see the following example:\nhttps://records.nhl.com/site/api/draft?cayenneExp\u003ddraftYear\u003d2017%20and%20draftedByTeamId\u003d15\n\nThe %20 value translates to a space, this needs to be taken into account as removing the spaces\nwill break the query, so anything after cayenneExp can have spaces when separating two\nor more conditions.\n\nOften you can filter by information returned in an unfiltered query so using\nthe draft example you can append roundNumber\u003d4 onto the cayenneExp to only look at 4th\nround selections.\n\n* Draft\n\n**GET** https://records.nhl.com/site/api/draft  \nReturns ALOT of draft data, looks to be every pick ever\n\n_Filtering_  \n?cayenneExp\u003ddraftYear\u003d2017  \nThis filters by a single year.\n\ndraftedByTeamId\u003dID  \ndrill down to a specific teams drafting\n",
      "metadata": {
        "pycharm": {
          "metadata": false,
          "name": "#%% md\n"
        }
      }
    },
    {
      "cell_type": "code",
      "execution_count": 12,
      "outputs": [
        {
          "data": {
            "text/plain": "[]"
          },
          "metadata": {},
          "output_type": "execute_result",
          "execution_count": 12
        }
      ],
      "source": "os.listdir()",
      "metadata": {
        "pycharm": {
          "metadata": false,
          "name": "#%%\n",
          "is_executing": false
        }
      }
    },
    {
      "cell_type": "code",
      "execution_count": 13,
      "outputs": [
        {
          "name": "stdout",
          "text": [
            "JSON received from NHL API.took 0.91 seconds.\n----- DataFrame with NHL Draft Data loaded\nin 0.08 seconds\nwith 11,587 rows\nand 25 columns\n-- Column names:\n Index([\u0027amateurClubName\u0027, \u0027amateurLeague\u0027, \u0027birthDate\u0027, \u0027birthPlace\u0027,\n       \u0027countryCode\u0027, \u0027csPlayerId\u0027, \u0027draftYear\u0027, \u0027draftedByTeamId\u0027,\n       \u0027firstName\u0027, \u0027height\u0027, \u0027id\u0027, \u0027lastName\u0027, \u0027overallPickNumber\u0027,\n       \u0027pickInRound\u0027, \u0027playerId\u0027, \u0027playerName\u0027, \u0027position\u0027, \u0027removedOutright\u0027,\n       \u0027removedOutrightWhy\u0027, \u0027roundNumber\u0027, \u0027shootsCatches\u0027,\n       \u0027supplementalDraft\u0027, \u0027teamPickHistory\u0027, \u0027triCode\u0027, \u0027weight\u0027],\n      dtype\u003d\u0027object\u0027)\n",
            "saved to file:\n ../../data/nhl_api/nhl_draft_all.csv\n"
          ],
          "output_type": "stream"
        }
      ],
      "source": "url \u003d \u0027https://records.nhl.com/site/api/draft\u0027\nsave_path \u003d \u0027../../data/nhl_api/nhl_draft_all.csv\u0027\n\nt \u003d time()\nr \u003d requests.get(url)\njson_data \u003d r.json()\nelapsed \u003d time() - t\nprint(\"JSON received from NHL API.\"\n      \"took {0:.2f} seconds.\"\n      .format(elapsed))\nt \u003d time()\ndf_raw \u003d pd.DataFrame(json_data[\u0027data\u0027])\nelapsed \u003d time() - t\nprint(\"----- DataFrame with NHL Draft Data loaded\"\n      \"\\nin {0:.2f} seconds\".format(elapsed) + \n      \"\\nwith {0:,} rows\\nand {1:,} columns\"\n      .format(df_raw.shape[0], df_raw.shape[1]) + \n      \"\\n-- Column names:\\n\", df_raw.columns)\ndf_raw.to_csv(save_path)\nprint(\"saved to file:\\n\", save_path)",
      "metadata": {
        "pycharm": {
          "metadata": false,
          "name": "#%%\n",
          "is_executing": false
        }
      }
    }
  ],
  "metadata": {
    "language_info": {
      "codemirror_mode": {
        "name": "ipython",
        "version": 2
      },
      "file_extension": ".py",
      "mimetype": "text/x-python",
      "name": "python",
      "nbconvert_exporter": "python",
      "pygments_lexer": "ipython2",
      "version": "2.7.6"
    },
    "kernelspec": {
      "name": "python3",
      "language": "python",
      "display_name": "Python 3"
    },
    "stem_cell": {
      "cell_type": "raw",
      "source": "",
      "metadata": {
        "pycharm": {
          "metadata": false
        }
      }
    }
  },
  "nbformat": 4,
  "nbformat_minor": 0
}