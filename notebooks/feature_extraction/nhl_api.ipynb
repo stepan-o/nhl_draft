{
  "cells": [
    {
      "cell_type": "markdown",
      "source": "# NHL 2009-2018 Draft dataset\n\n# NHL API",
      "metadata": {
        "pycharm": {
          "metadata": false,
          "name": "#%% md\n"
        }
      }
    },
    {
      "cell_type": "code",
      "execution_count": null,
      "metadata": {
        "collapsed": true,
        "pycharm": {}
      },
      "outputs": [],
      "source": "import requests"
    },
    {
      "cell_type": "markdown",
      "source": "## NHL Stats API endpoints\n\n* Divisions\n* Conferences\n* Game\n* Tournaments (playoffs)\n* Schedule\n* Seasons\n* Standings\n* Awards\n* Venues\n* Teams  \n\nGET https://statsapi.web.nhl.com/api/v1/teams   \nReturns a list of data about all teams including their id, venue details, division, conference and franchise information.  \n\nGET https://statsapi.web.nhl.com/api/v1/teams/ID/roster  \nReturns entire roster for a team including id value, name, jersey number and position details.\n\n* People\n\n**GET** https://statsapi.web.nhl.com/api/v1/people/ID  \nGets details for a player, must specify the id value in order to return data.\n\n**GET** https://statsapi.web.nhl.com/api/v1/people/ID/stats  \nComplex endpoint with lots of append options to change what kind of stats you wish to obtain\n\n_Modifiers_  \n?stats\u003dstatsSingleSeason\u0026season\u003d19801981   \nObtains single season statistics for a player  \n\n?stats\u003dhomeAndAway\u0026season\u003d20162017  \nProvides a split between home and away games.\n\n?stats\u003dwinLoss\u0026season\u003d20162017  \nVery similar to the previous modifier except it provides the W/L/OT split instead of Home and Away\n\n?stats\u003dbyMonth\u0026season\u003d20162017  \nMonthly split of stats\n\n?stats\u003dbyDayOfWeek\u0026season\u003d20162017  \nSplit done by day of the week\n\n?stats\u003dvsDivision\u0026season\u003d20162017  \nDivision stats split\n\n?stats\u003dvsConference\u0026season\u003d20162017  \nConference stats split\n\n?stats\u003dvsTeam\u0026season\u003d20162017  \nConference stats split\n\n?stats\u003dgameLog\u0026season\u003d20162017  \nProvides a game log showing stats for each game of a season\n\n?stats\u003dregularSeasonStatRankings\u0026season\u003d20162017   \nReturns where someone stands vs the rest of the league for a specific regularSeasonStatRankings\n\n?stats\u003dgoalsByGameSituation\u0026season\u003d20162017  \nShows number on when goals for a\nplayer happened like how many in the shootout, how many in each period, etc.\n\n?stats\u003donPaceRegularSeason\u0026season\u003d20172018  \nThis only works with the current in-progress season and shows projected totals based on current onPaceRegularSeason\n\n* Draft\n\nGET https://statsapi.web.nhl.com/api/v1/draft  \nGet round-by-round data for current year\u0027s NHL Entry Draft.\n\n**GET** https://statsapi.web.nhl.com/api/v1/draft/YEAR  \nTakes a YYYY format year and returns draft data\n\n* Prospects\n\n**GET** https://statsapi.web.nhl.com/api/v1/draft/prospects  \nGet all NHL Entry Draft prospects.\n\nGET https://statsapi.web.nhl.com/api/v1/draft/prospects/ID  \nGet an NHL Entry Draft prospect.",
      "metadata": {
        "pycharm": {
          "metadata": false,
          "name": "#%% md\n"
        }
      }
    },
    {
      "cell_type": "code",
      "execution_count": null,
      "outputs": [],
      "source": "url \u003d \u0027\u0027",
      "metadata": {
        "pycharm": {
          "metadata": false,
          "name": "#%%\n"
        }
      }
    }
  ],
  "metadata": {
    "language_info": {
      "codemirror_mode": {
        "name": "ipython",
        "version": 2
      },
      "file_extension": ".py",
      "mimetype": "text/x-python",
      "name": "python",
      "nbconvert_exporter": "python",
      "pygments_lexer": "ipython2",
      "version": "2.7.6"
    },
    "kernelspec": {
      "name": "python3",
      "language": "python",
      "display_name": "Python 3"
    },
    "stem_cell": {
      "cell_type": "raw",
      "source": "",
      "metadata": {
        "pycharm": {
          "metadata": false
        }
      }
    }
  },
  "nbformat": 4,
  "nbformat_minor": 0
}