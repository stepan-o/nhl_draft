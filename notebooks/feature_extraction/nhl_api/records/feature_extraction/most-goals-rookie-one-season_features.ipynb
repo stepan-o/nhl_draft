{
  "cells": [
    {
      "cell_type": "markdown",
      "metadata": {
        "collapsed": true,
        "pycharm": {
          "name": "#%% md\n"
        }
      },
      "source": "# NHL Draft dataset\n# Exploratory data analysis\n# Records: \n## Most Goals by a Rookie in a Single Season\nThis notebook presents Exploratory Data Analysis performed on NHL Records data obtained from NHL Records API Records endpoint.\n### Data collection summary\nDataset generated from a JSON received from the NHL Records API, contains response to the request for all draft records.\n\nFor details, see notebook `notebooks/feature_extraction/nhl_api.ipynb`.\n"
    }
  ],
  "metadata": {
    "language_info": {
      "codemirror_mode": {
        "name": "ipython",
        "version": 2
      },
      "file_extension": ".py",
      "mimetype": "text/x-python",
      "name": "python",
      "nbconvert_exporter": "python",
      "pygments_lexer": "ipython2",
      "version": "2.7.6"
    },
    "kernelspec": {
      "name": "python3",
      "language": "python",
      "display_name": "Python 3"
    }
  },
  "nbformat": 4,
  "nbformat_minor": 0
}