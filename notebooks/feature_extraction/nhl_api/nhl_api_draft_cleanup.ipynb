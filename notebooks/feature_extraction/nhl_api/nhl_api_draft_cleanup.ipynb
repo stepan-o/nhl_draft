{
  "cells": [
    {
      "cell_type": "markdown",
      "source": "# NHL Draft data from NHL Records API\n\nDataset generated from a JSON received from the NHL Records API, contains response to the request for all draft records.\n\nFor details, see notebook `notebooks/feature_extraction/nhl_api.ipynb`.\n\n# Data cleanup and feature extraction",
      "metadata": {
        "pycharm": {
          "metadata": false
        }
      }
    },
    {
      "cell_type": "markdown",
      "source": "## Load data",
      "metadata": {
        "pycharm": {
          "metadata": false
        }
      }
    },
    {
      "cell_type": "code",
      "execution_count": 1,
      "outputs": [],
      "source": "import numpy as np\nimport pandas as pd\nfrom glob import glob\nfrom time import time\nimport os",
      "metadata": {
        "pycharm": {
          "metadata": false,
          "name": "#%%\n",
          "is_executing": false
        }
      }
    },
    {
      "cell_type": "code",
      "execution_count": 5,
      "outputs": [
        {
          "name": "stdout",
          "text": [
            "----- DataFrame with NHL Draft Data loaded\nin 0.10 seconds\nwith 11,587 rows\nand 25 columns\n-- Column names:\n Index([\u0027amateurClubName\u0027, \u0027amateurLeague\u0027, \u0027birthDate\u0027, \u0027birthPlace\u0027,\n       \u0027countryCode\u0027, \u0027csPlayerId\u0027, \u0027draftYear\u0027, \u0027draftedByTeamId\u0027,\n       \u0027firstName\u0027, \u0027height\u0027, \u0027id\u0027, \u0027lastName\u0027, \u0027overallPickNumber\u0027,\n       \u0027pickInRound\u0027, \u0027playerId\u0027, \u0027playerName\u0027, \u0027position\u0027, \u0027removedOutright\u0027,\n       \u0027removedOutrightWhy\u0027, \u0027roundNumber\u0027, \u0027shootsCatches\u0027,\n       \u0027supplementalDraft\u0027, \u0027teamPickHistory\u0027, \u0027triCode\u0027, \u0027weight\u0027],\n      dtype\u003d\u0027object\u0027)\n"
          ],
          "output_type": "stream"
        }
      ],
      "source": "draft_api_data_path \u003d \u0027../../data/nhl_api/nhl_draft_all.csv\u0027\nt \u003d time()\ndf \u003d pd.read_csv(draft_api_data_path)\n# df \u003d df.rename(columns\u003d{\u0027Unnamed: 0\u0027: \u0027id\u0027})\nelapsed \u003d time() - t\nprint(\"----- DataFrame with NHL Draft Data loaded\"\n      \"\\nin {0:.2f} seconds\".format(elapsed) + \n      \"\\nwith {0:,} rows\\nand {1:,} columns\"\n      .format(df.shape[0], df.shape[1]) + \n      \"\\n-- Column names:\\n\", df.columns)",
      "metadata": {
        "pycharm": {
          "metadata": false,
          "name": "#%%\n",
          "is_executing": false
        }
      }
    },
    {
      "cell_type": "code",
      "execution_count": 6,
      "outputs": [
        {
          "name": "stdout",
          "text": [
            "\u003cclass \u0027pandas.core.frame.DataFrame\u0027\u003e\nRangeIndex: 11587 entries, 0 to 11586\nData columns (total 25 columns):\namateurClubName       11492 non-null object\namateurLeague         11471 non-null object\nbirthDate             11526 non-null object\nbirthPlace            11530 non-null object\ncountryCode           11580 non-null object\ncsPlayerId            4854 non-null float64\ndraftYear             11587 non-null int64\ndraftedByTeamId       11587 non-null int64\nfirstName             11580 non-null object\nheight                11502 non-null float64\nid                    11587 non-null int64\nlastName              11580 non-null object\noverallPickNumber     11587 non-null int64\npickInRound           11587 non-null int64\nplayerId              10800 non-null float64\nplayerName            11580 non-null object\nposition              11580 non-null object\nremovedOutright       11587 non-null object\nremovedOutrightWhy    88 non-null object\nroundNumber           11587 non-null int64\nshootsCatches         10858 non-null object\nsupplementalDraft     11587 non-null object\nteamPickHistory       11586 non-null object\ntriCode               11587 non-null object\nweight                11502 non-null float64\ndtypes: float64(4), int64(6), object(15)\nmemory usage: 2.2+ MB\n"
          ],
          "output_type": "stream"
        }
      ],
      "source": "df.info()",
      "metadata": {
        "pycharm": {
          "metadata": false,
          "name": "#%%\n",
          "is_executing": false
        }
      }
    },
    {
      "cell_type": "markdown",
      "source": "## Data cleanup",
      "metadata": {
        "pycharm": {
          "metadata": false,
          "name": "#%% md\n"
        }
      }
    },
    {
      "cell_type": "markdown",
      "source": "Fixing inconsistent capitalizations",
      "metadata": {
        "pycharm": {
          "metadata": false,
          "name": "#%% md\n"
        }
      }
    },
    {
      "cell_type": "code",
      "execution_count": 23,
      "outputs": [
        {
          "name": "stdout",
          "text": [
            "Capitalizations fixed!\n"
          ],
          "output_type": "stream"
        }
      ],
      "source": "col \u003d \u0027amateurClubName\u0027\ndf[col] \u003d df[col].str.title()\nprint(\"Capitalizations fixed!\")",
      "metadata": {
        "pycharm": {
          "metadata": false,
          "name": "#%%\n",
          "is_executing": false
        }
      }
    },
    {
      "cell_type": "markdown",
      "source": "### Some inconsistencies in amateur club names",
      "metadata": {
        "pycharm": {
          "metadata": false,
          "name": "#%% md\n"
        }
      }
    },
    {
      "cell_type": "code",
      "execution_count": 25,
      "outputs": [
        {
          "data": {
            "text/plain": "London Knights           115\nLondon                    64\nLondon Nationals           3\nLondon Jr. B               1\nLondon Diamonds Jr. B      1\nName: amateurClubName, dtype: int64"
          },
          "metadata": {},
          "output_type": "execute_result",
          "execution_count": 25
        }
      ],
      "source": "col \u003d \u0027amateurClubName\u0027\nmask \u003d df[col].str.contains(\u0027london\u0027, case\u003dFalse).fillna(False)\ndf.loc[mask,col].value_counts()",
      "metadata": {
        "pycharm": {
          "metadata": false,
          "name": "#%%\n",
          "is_executing": false
        }
      }
    },
    {
      "cell_type": "code",
      "execution_count": null,
      "outputs": [],
      "source": "mask \u003d df[col].str.contains(\u0027peterbo\u0027, case\u003dFalse).fillna(False)\ndf.loc[mask,col].value_counts()",
      "metadata": {
        "pycharm": {
          "metadata": false,
          "name": "#%%\n"
        }
      }
    },
    {
      "cell_type": "code",
      "execution_count": 30,
      "outputs": [
        {
          "name": "stdout",
          "text": [
            "The following Amateur Team names:\n [\u0027Ska Leningrad\u0027, \u0027St. Petersburg Ska\u0027, \u0027Ska St. Petersburg\u0027, \u0027Leningrad Ska\u0027, \u0027St. Petersburg Ska St. Petersburg\u0027, \u0027Ska St. Petersburg 2\u0027] \nhave been renamed to St. Petersburg SKA\n"
          ],
          "output_type": "stream"
        }
      ],
      "source": "ska \u003d [\u0027Ska Leningrad\u0027, \n       \u0027St. Petersburg Ska\u0027,\n       \u0027Ska St. Petersburg\u0027,\n       \u0027Leningrad Ska\u0027,\n       \u0027St. Petersburg Ska St. Petersburg\u0027,\n       \u0027Ska St. Petersburg 2\u0027]\nmask \u003d df[col].isin(ska)\nnew_ska \u003d \"St. Petersburg SKA\"\ndf.loc[mask, col] \u003d new_ska\nprint(\"The following Amateur Team names:\\n\", ska,\n      \"\\nhave been renamed to: \\n\u0027{0}\u0027\"\n      .format(new_ska))",
      "metadata": {
        "pycharm": {
          "metadata": false,
          "name": "#%%\n",
          "is_executing": false
        }
      }
    },
    {
      "cell_type": "code",
      "execution_count": 32,
      "outputs": [
        {
          "name": "stdout",
          "text": [
            "The following Amateur Team names:\n [\u0027Ska Leningrad\u0027, \u0027St. Petersburg Ska\u0027, \u0027Ska St. Petersburg\u0027, \u0027Leningrad Ska\u0027, \u0027St. Petersburg Ska St. Petersburg\u0027, \u0027Ska St. Petersburg 2\u0027] \nhave been renamed to: \n\u0027Moscow CSKA\u0027\n"
          ],
          "output_type": "stream"
        }
      ],
      "source": "cska \u003d [\u0027Cska Moscow\u0027, \u0027Hc Cska\u0027, \u0027Cska\u0027,\n        \u0027Cska 2 \u0027, \u0027Cska Jr.\u0027,\n        \u0027Cska 2 Cska Moscow 2\u0027]\nmask \u003d df[col].isin(cska)\nnew_cska \u003d \"Moscow CSKA\"\ndf.loc[mask, col] \u003d new_cska\nprint(\"The following Amateur Team names:\\n\", cska,\n      \"\\nhave been renamed to: \\n\u0027{0}\u0027\"\n      .format(new_cska))",
      "metadata": {
        "pycharm": {
          "metadata": false,
          "name": "#%%\n",
          "is_executing": false
        }
      }
    },
    {
      "cell_type": "code",
      "execution_count": 31,
      "outputs": [
        {
          "data": {
            "text/plain": "Saskatoon Blades             93\nCska Moscow                  58\nSaskatoon                    36\nSt. Petersburg SKA           15\nCska 2                       14\nHc Cska                      12\nCska                          5\nCska Jr.                      4\nU. Of Alaska-Anchorage        4\nU. Of Nebraska-Omaha          3\nBanska Bystrica               3\nU. Of Alaska-Fairbanks        2\nChaska                        2\nOskarshamn                    2\nNebraska-Omaha                2\nFort Saskatchewan             2\nSkalica                       1\nSpisska Nova Ves              1\nSkalica Jr.                   1\nSpisska Nova Ves Jr.          1\nCska 2 Cska Moscow 2          1\nFort Saskatchewan Traders     1\nSaskatoon J\u0027S                 1\nAlaska All-Stars              1\nAlaska-Fairbanks              1\nName: amateurClubName, dtype: int64"
          },
          "metadata": {},
          "output_type": "execute_result",
          "execution_count": 31
        }
      ],
      "source": "mask1 \u003d df[col].str.contains(\u0027peterbu\u0027, case\u003dFalse).fillna(False)\nmask2 \u003d df[col].str.contains(\u0027ska\u0027, case\u003dFalse)\ndf.loc[mask1 | mask2,col].value_counts()",
      "metadata": {
        "pycharm": {
          "metadata": false,
          "name": "#%%\n",
          "is_executing": false
        }
      }
    },
    {
      "cell_type": "code",
      "execution_count": null,
      "outputs": [],
      "source": "df[col].value_counts()",
      "metadata": {
        "pycharm": {
          "metadata": false,
          "name": "#%%\n"
        }
      }
    },
    {
      "cell_type": "markdown",
      "source": "## Data cleanup\n\nCleanup summary:\n\n* summarized positions\n    * corrected for consistency\n    * C/RW, C/LW, _etc._, C/W, F \u003d C\n    * L/RW, W \u003d RW\n    * player who can play center are assumed to be centers for the purposes of this analysis\n    * universal (left/right) wingers are assumed to be right wingers",
      "metadata": {
        "pycharm": {
          "metadata": false
        }
      }
    },
    {
      "cell_type": "markdown",
      "source": "### Fix positions",
      "metadata": {
        "pycharm": {
          "metadata": false
        }
      }
    },
    {
      "cell_type": "code",
      "execution_count": null,
      "outputs": [],
      "source": "df[\u0027Pos\u0027].value_counts()",
      "metadata": {
        "pycharm": {
          "metadata": false,
          "name": "#%%\n"
        }
      }
    },
    {
      "cell_type": "code",
      "execution_count": null,
      "outputs": [],
      "source": "df[\u0027Pos\u0027] \u003d df[\u0027Pos\u0027].str.replace(\"C RW\", \"C\")\ndf[\u0027Pos\u0027] \u003d df[\u0027Pos\u0027].str.replace(\"C; LW\", \"C\")\ndf[\u0027Pos\u0027] \u003d df[\u0027Pos\u0027].str.replace(\"F\", \"C\")\ndf[\u0027Pos\u0027] \u003d df[\u0027Pos\u0027].str.replace(\"C/W\", \"C\")\ndf[\u0027Pos\u0027] \u003d df[\u0027Pos\u0027].str.replace(\"C/LW\", \"C\")\ndf[\u0027Pos\u0027] \u003d df[\u0027Pos\u0027].str.replace(\"C/RW\", \"C\")\ndf[\u0027Pos\u0027] \u003d df[\u0027Pos\u0027].str.replace(\"L/RW\", \"RW\")\nmask \u003d df[\u0027Pos\u0027] \u003d\u003d \"W\"\ndf[\u0027Pos\u0027] \u003d np.where(mask, \"RW\", df[\u0027Pos\u0027])\ndf[\u0027Pos\u0027].value_counts()",
      "metadata": {
        "pycharm": {
          "metadata": false,
          "name": "#%%\n"
        }
      }
    },
    {
      "cell_type": "markdown",
      "source": "### Fix player names",
      "metadata": {
        "pycharm": {
          "metadata": false
        }
      }
    },
    {
      "cell_type": "code",
      "execution_count": null,
      "outputs": [],
      "source": "df[\u0027name\u0027] \u003d df[\u0027Player\u0027].str.split(\"\\\\\").apply(lambda x: x[0])\ndf[\u0027alias\u0027] \u003d df[\u0027Player\u0027].str.split(\"\\\\\").apply(lambda x: x[1])\nprint(\"Player names splits into columns \u0027name\u0027 and \u0027alias\u0027.\")",
      "metadata": {
        "pycharm": {
          "metadata": false,
          "name": "#%%\n"
        }
      }
    },
    {
      "cell_type": "markdown",
      "source": "## New features\n* `league`: string, junior league of the player\n* `year`: int, year of NHL draft, extracted from .csv file names\n* `num_teams`: int, number of teams in each draft year\n* `round_ratio`: float, ratio of each pick: \n    * $\\text{round_ratio}\u003d\\large{\\frac{\\text{# Overall}}{\\text{number of teams}}}$ \n    * number of teams represents number of picks per round\n    * each overall pick number (e.g., 171) is divided by the number of picks per round to determine in which round (and how late in the round, via the ratio) was each prospect selected\n    * \\- 1 is needed to ensure proper boundary between rounds\n    * so, for example, for pick #171 $\\text{round ratio}\u003d\\frac{171 - 1}{30} \u003d 5.67$\n* `round`: int, round in which a prospect was selected\n    * `round_ratio` is rounded down and 1 is added\n    * $\\text{round} \u003d \\text{int}(\\text{round ratio}) + 1$\n* `1st_round`: boolean, whether the prospect was selected in the $1^{st}$ round\n    * one-hot encoding for $1^{st}$ round picks\n    * True if `round` \u003d\u003d 1, False otherwise\n* `gpg`: float, average goals per game\n* `apg`: float, average assists per game\n* `ppg`: float, average points per game",
      "metadata": {
        "pycharm": {
          "metadata": false
        }
      }
    },
    {
      "cell_type": "markdown",
      "source": "### Extract junior `league` from `Amateur Team`",
      "metadata": {
        "pycharm": {
          "metadata": false
        }
      }
    },
    {
      "cell_type": "code",
      "execution_count": null,
      "outputs": [],
      "source": "df[\u0027league\u0027] \u003d df[\u0027Amateur Team\u0027].str.extract(pat\u003d\u0027\\((.*?)\\)\u0027)\nprint(\"New column \u0027league\u0027 added to df.\")",
      "metadata": {
        "pycharm": {
          "metadata": false,
          "name": "#%%\n"
        }
      }
    },
    {
      "cell_type": "code",
      "execution_count": null,
      "outputs": [],
      "source": "num_teams \u003d df.groupby(\u0027year\u0027)[\u0027Team\u0027].nunique()\nnum_teams.name \u003d \u0027num_teams\u0027\ndf \u003d pd.merge(df, num_teams, \n              right_on\u003dnum_teams.index,\n              left_on\u003d\u0027year\u0027)\nprint(\"New column \u0027num_teams\u0027 added to df.\")",
      "metadata": {
        "pycharm": {
          "metadata": false,
          "name": "#%%\n"
        }
      }
    },
    {
      "cell_type": "code",
      "execution_count": null,
      "outputs": [],
      "source": "df[\u0027round_ratio\u0027] \u003d (df[\u0027Overall\u0027] - 1)/ df[\u0027num_teams\u0027]\ndf[\u0027round\u0027] \u003d df[\u0027round_ratio\u0027].astype(\u0027int\u0027) + 1\ndf[\u00271st_round\u0027] \u003d df[\u0027round\u0027] \u003d\u003d 1\nprint(\"New columns \u0027round_ratio\u0027, \u0027round\u0027, and \u00271st_round added to df.\")",
      "metadata": {
        "pycharm": {
          "metadata": false,
          "name": "#%%\n"
        }
      }
    },
    {
      "cell_type": "code",
      "execution_count": null,
      "outputs": [],
      "source": "df[\u0027gpg\u0027] \u003d df[\u0027G\u0027] / df[\u0027GP\u0027]\ndf[\u0027apg\u0027] \u003d df[\u0027A\u0027] / df[\u0027GP\u0027]\ndf[\u0027ppg\u0027] \u003d df[\u0027PTS\u0027] / df[\u0027GP\u0027]\nprint(\"New columns `gpg`, `apg`, and `ppg` added to df.\")",
      "metadata": {
        "pycharm": {
          "metadata": false,
          "name": "#%%\n"
        }
      }
    },
    {
      "cell_type": "markdown",
      "source": "## Sanity checks",
      "metadata": {
        "pycharm": {
          "metadata": false
        }
      }
    },
    {
      "cell_type": "code",
      "execution_count": null,
      "outputs": [],
      "source": "df.groupby(\u0027year\u0027)[\u0027Team\u0027].nunique()",
      "metadata": {
        "pycharm": {
          "metadata": false,
          "name": "#%%\n"
        }
      }
    },
    {
      "cell_type": "code",
      "execution_count": null,
      "outputs": [],
      "source": "year \u003d 2016\npick \u003d 1\n# #1 overall pick from 2016\nmask1 \u003d df[\u0027year\u0027] \u003d\u003d year\nmask2 \u003d df[\u0027Overall\u0027] \u003d\u003d pick\nprint(\"#{0} pick in {1} was {2} picked by the {3}.\"\n      .format(pick, year, \n              df.loc[mask1 \u0026 mask2, \u0027Player\u0027]\n                .values[0].split(\u0027\\\\\u0027)[0],\n              df.loc[mask1 \u0026 mask2, \u0027Team\u0027].values[0]))\nprint(\"\\nPicks by round:\")\nsubset \u003d df.loc[mask1, \n       [\u0027Player\u0027, \u0027Overall\u0027, \n        \u0027round\u0027, \u0027round_ratio\u0027]]\nprint(\"Total picks by round in {0}:\"\n      .format(year))\nsubset[\u0027round\u0027].value_counts().sort_index()",
      "metadata": {
        "pycharm": {
          "metadata": false,
          "name": "#%%\n"
        }
      }
    },
    {
      "cell_type": "markdown",
      "source": "### Counts by #overall\nAs there are 10 draft seasons, almost all #overall should have 10 players drafted.",
      "metadata": {
        "pycharm": {
          "metadata": false
        }
      }
    },
    {
      "cell_type": "code",
      "execution_count": null,
      "outputs": [],
      "source": "counts \u003d df[\u0027Overall\u0027].value_counts()\nlen(counts[counts \u003d\u003d 10]) / len(counts)",
      "metadata": {
        "pycharm": {
          "metadata": false,
          "name": "#%%\n"
        }
      }
    },
    {
      "cell_type": "markdown",
      "source": "Displaying all #overall, for which there are NOT 10 players (\"anomalies\").",
      "metadata": {
        "pycharm": {
          "metadata": false
        }
      }
    },
    {
      "cell_type": "code",
      "execution_count": null,
      "outputs": [],
      "source": "# overall picks with not 10 counts\ncounts[counts !\u003d 10]",
      "metadata": {
        "pycharm": {
          "metadata": false,
          "name": "#%%\n"
        }
      }
    },
    {
      "cell_type": "markdown",
      "source": "Most draft picks (by # overall) have been selected 10 times, corresponding to 10 drafts that took place from 2009 to 2018.",
      "metadata": {
        "pycharm": {
          "metadata": false
        }
      }
    },
    {
      "cell_type": "code",
      "execution_count": null,
      "outputs": [],
      "source": "df[\u0027year\u0027].value_counts().sort_index()",
      "metadata": {
        "pycharm": {
          "metadata": false,
          "name": "#%%\n"
        }
      }
    },
    {
      "cell_type": "markdown",
      "source": "Last two seasons had slightly longer drafts (217 players total, compared to 210 or 211 prior to 2017), hence the odd number of picks of overall numbers above 215 seen above.",
      "metadata": {
        "pycharm": {
          "metadata": false
        }
      }
    },
    {
      "cell_type": "markdown",
      "source": "Goals/assists/points per game",
      "metadata": {
        "pycharm": {
          "metadata": false
        }
      }
    },
    {
      "cell_type": "code",
      "execution_count": null,
      "outputs": [],
      "source": "focus_id \u003d 0\nprint(\"GPG * GP \u003d\", df.loc[focus_id, \u0027gpg\u0027] \n      * df.loc[focus_id, \u0027GP\u0027])\nprint(\"G \u003d\", df.loc[focus_id, \u0027G\u0027])\nprint(\"APG * GP \u003d\", df.loc[focus_id, \u0027apg\u0027] \n      * df.loc[focus_id, \u0027GP\u0027])\nprint(\"A \u003d\", df.loc[focus_id, \u0027A\u0027])\nprint(\"PPG * GP \u003d\", df.loc[focus_id, \u0027ppg\u0027] \n      * df.loc[focus_id, \u0027GP\u0027])\nprint(\"PTS \u003d\", df.loc[focus_id, \u0027PTS\u0027])",
      "metadata": {
        "pycharm": {
          "metadata": false,
          "name": "#%%\n"
        }
      }
    },
    {
      "cell_type": "markdown",
      "source": "### Goals by position",
      "metadata": {
        "pycharm": {
          "metadata": false
        }
      }
    },
    {
      "cell_type": "code",
      "execution_count": null,
      "outputs": [],
      "source": "pos \u003d \u0027C\u0027\nmask \u003d df[\u0027Pos\u0027] \u003d\u003d pos\nprint(\"Players from position {0} \"\n      \"scored on average {1:.2f} goals \"\n      \"in total.\".format(pos, \n            df.loc[mask, \u0027G\u0027].mean()))",
      "metadata": {
        "pycharm": {
          "metadata": false,
          "name": "#%%\n"
        }
      }
    },
    {
      "cell_type": "code",
      "execution_count": null,
      "outputs": [],
      "source": "pos \u003d \u0027D\u0027\nmask \u003d df[\u0027Pos\u0027] \u003d\u003d pos\nprint(\"Players from position {0} \"\n      \"scored on average {1:.2f} goals \"\n      \"in total.\".format(pos, \n            df.loc[mask, \u0027G\u0027].mean()))",
      "metadata": {
        "pycharm": {
          "metadata": false,
          "name": "#%%\n"
        }
      }
    },
    {
      "cell_type": "code",
      "execution_count": null,
      "outputs": [],
      "source": "pos \u003d \u0027G\u0027\nmask \u003d df[\u0027Pos\u0027] \u003d\u003d pos\nprint(\"Players from position {0} \"\n      \"scored on average {1:.2f} goals \"\n      \"in total.\".format(pos, \n            df.loc[mask, \u0027G\u0027].mean()))",
      "metadata": {
        "pycharm": {
          "metadata": false,
          "name": "#%%\n"
        }
      }
    },
    {
      "cell_type": "markdown",
      "source": "All results appear to be reasonable: centers score much more goals on average than defencemen, goalies score 0.",
      "metadata": {
        "pycharm": {
          "metadata": false
        }
      }
    },
    {
      "cell_type": "code",
      "execution_count": null,
      "outputs": [],
      "source": "mask1 \u003d df[\u0027Pos\u0027] \u003d\u003d \u0027C\u0027\nmask2 \u003d df[\u0027G\u0027] \u003d\u003d 0\nmask3 \u003d df[\u00271st_round\u0027] \u003d\u003d True\ns_display_cols \u003d [\u0027name\u0027, \u0027Nat.\u0027, \u0027Pos\u0027, \n                  \u0027Overall\u0027, \u0027Team\u0027, \u0027year\u0027,\n                  \u0027Amateur Team\u0027, \u0027GP\u0027, \u0027PTS\u0027, \u0027ppg\u0027, \u0027+/-\u0027]\ndf.loc[mask1 \u0026 mask2 \u0026 mask3, s_display_cols] ",
      "metadata": {
        "pycharm": {
          "metadata": false,
          "name": "#%%\n"
        }
      }
    },
    {
      "cell_type": "code",
      "execution_count": null,
      "outputs": [],
      "source": "mask1 \u003d df[\u0027Pos\u0027] \u003d\u003d \u0027C\u0027\nmask2 \u003d df[\u0027PTS\u0027] \u003e 400\nmask3 \u003d df[\u00271st_round\u0027] \u003d\u003d True\ns_display_cols \u003d [\u0027name\u0027, \u0027Nat.\u0027, \u0027Pos\u0027, \n                  \u0027Overall\u0027, \u0027Team\u0027, \u0027year\u0027,\n                  \u0027Amateur Team\u0027, \u0027GP\u0027, \u0027PTS\u0027, \u0027ppg\u0027, \u0027+/-\u0027]\ndf.loc[mask1 \u0026 mask2 \u0026 mask3, s_display_cols] ",
      "metadata": {
        "pycharm": {
          "metadata": false,
          "name": "#%%\n"
        }
      }
    },
    {
      "cell_type": "markdown",
      "source": "## Record results to a new .csv file",
      "metadata": {
        "pycharm": {
          "metadata": false
        }
      }
    },
    {
      "cell_type": "code",
      "execution_count": null,
      "outputs": [],
      "source": "save_path \u003d \u0027../../data/nhl_draft_picks_2009-2018.csv\u0027\nt \u003d time()\ndf.to_csv(save_path)\nelapsed \u003d time() - t\nprint(\"DataFrame saved to file:\\n\", save_path,\n      \"\\ntook {0:.2f} seconds\".format(elapsed))\n",
      "metadata": {
        "pycharm": {
          "metadata": false,
          "name": "#%%\n"
        }
      }
    }
  ],
  "metadata": {
    "language_info": {
      "codemirror_mode": {
        "name": "ipython",
        "version": 2
      },
      "file_extension": ".py",
      "mimetype": "text/x-python",
      "name": "python",
      "nbconvert_exporter": "python",
      "pygments_lexer": "ipython2",
      "version": "2.7.6"
    },
    "kernelspec": {
      "name": "python3",
      "language": "python",
      "display_name": "Python 3"
    },
    "stem_cell": {
      "cell_type": "raw",
      "source": "",
      "metadata": {
        "pycharm": {
          "metadata": false
        }
      }
    }
  },
  "nbformat": 4,
  "nbformat_minor": 0
}