{
  "cells": [
    {
      "cell_type": "markdown",
      "source": "# NHL Draft data from NHL Records API\n# Feature extraction\nThis notebook presents feature extraction process for NHL Draft data collected from the NHL Records API. Previous steps performed include data collection from the API and data cleanup.\nThis workflow produces additional features and adds them to the cleaned NHL Draft dataset obtained from NHL Records API.\n",
      "metadata": {
        "pycharm": {
          "metadata": false
        }
      }
    },
    {
      "cell_type": "markdown",
      "source": "### Data collection summary\nDataset generated from a JSON received from the NHL Records API, contains response to the request for all draft records.  \n\nFor details, see notebook `notebooks/feature_extraction/nhl_api.ipynb`.",
      "metadata": {
        "pycharm": {
          "metadata": false,
          "name": "#%% md\n"
        }
      }
    },
    {
      "cell_type": "markdown",
      "source": "### Data cleanup summary\n* fixed capitalizations for Amateur Club Names, Player Names\n* fixed inconsistent team names for some Russian Amateur Club Names\n    * e.g., \u0027Ska Leningrad\u0027, \u0027St. Petersburg Ska\u0027, \u0027Ska St. Petersburg\u0027, \u0027Leningrad Ska\u0027, \u0027St. Petersburg Ska St. Petersburg\u0027 was replaced with \u0027Ska\u0027\n    * team names fixed only for Ska, Ska2, Cska, and Cska 2\n* fixed 2 erratic height values and 3 weight values (replaced with mean)\n* fixed inconsistent names for Russian leagues\n    * \u0027Russia\u0027, \u0027RUS\u0027, \u0027RUSSIA\u0027, \u0027RUSSIA-1\u0027 were changed to \u0027Russia\u0027\n    * \u0027RUSSIA-JR.\u0027, \u0027RUSSIA JR. 2\u0027 were changed to \u0027Russia-Jr.\u0027\n* removed redundant positions\n    * all players who can play center are assumed to be centers\n        * C/RW (17 players), C/LW (30 players), F (362 players) \u003d C\n    * player who can play both wings are assumed to play the right wing\n        * LW/RW (13 players) \u003d RW\n    * mixed D positions are assumed to be D\n        * LW/D (1 player), D/F (1 player) \u003d D\n* filtered columns and renamed them to shorten their labels\n\n* data problems identified but not currently addressed:\n    * inconsistencies in some Amateur Club Names (e.g., \u0027London Knights\u0027 and \u0027London\u0027)\n    * `pickInRound` appears to have erratic values (will be addressed in this notebook)\n\n* data problems potentially present (not verified)\n    * inconsistent names for Russian teams other than CSKA and SKA (those were fixed)\n\nFor details, see notebook `notebooks/feature_extraction/nhl_draft_api_cleanup.ipynb`",
      "metadata": {
        "pycharm": {
          "metadata": false,
          "name": "#%% md\n"
        }
      }
    },
    {
      "cell_type": "markdown",
      "source": "## Description of features\nFeatures to be added:\n* `num_teams`: int  \n    number of teams in each draft year\n* `top5c`: Boolean  \n    whether the prospect is a national of one of the \"top 5 hockey countries\": Canada, US, Sweden, Finland, or Russia.\n* `age`: int  \n    age when drafted\n* `age_1g`: int  \n    age when played the 1st NHL game\n* `round`: int  \n    round in which a prospect has been drafted to the NHL\n* `round_ratio`: float  \n    * captures how high in a round was a prospect drafted, in addition to in which round\n    * $\\text{round_ratio} \u003d \\frac{\\text{#overall} - 1} {\\text{num_teams}}$\n* `1st_round_pick`: Boolean  \n    whether a prospect was drafted in the first round\n* `bmi`: float  \n    * [body-mass index](https://en.wikipedia.org/wiki/Body_mass_index) of a prospect at the time of draft\n    * $\\text{BMI} \u003d \\frac{\\text{mass}} {\\text{height}^2} $\n    * BMI is a convenient rule of thumb used to broadly categorize a person as underweight, normal weight, overweight, or obese based on tissue mass (muscle, fat, and bone) and height\n    * [commonly accepted](https://www.who.int/gho/ncd/risk_factors/bmi_text/en/) BMI ranges are: \n        * underweight: under 18.5 kg/m2\n        * normal weight: 18.5 to 25\n        * overweight: 25 to 30\n        * obese: over 30\n* `pshoots`: category (string)\n    * player position + shooting hand concatenated together\n    * e.g., a right wing shooting left would have a `pshoots` values of \u0027RW-L`\n    * for goalies, shooting hand corresponds to catching hand (glove hand)\n* `zod`: category (string)\n    * zodiac sign of a player, based on their birth date (for fun)\n\n### Basic skater-specific stats\n#### Post-draft totals of the player in the NHL\n* `gp`: int  \n    total games played since drafted\n* `g`: int  \n    total goals scored\n* `a`: int  \n    total assists\n* `p`: int  \n    total points scored\n* `pm`: int  \n    total +/- of the player in the NHL\n* `pim`: int  \n    penalty infraction minutes\n#### Post-draft averages of the player in the NHL\n* `agp`: float  \n    average games played per season\n* `apm`: float\n    average +/- of the player per season\n* `apim`: float\n    average penalty infraction minutes per season\n* `gpg`: float  \n    average goals per game\n* `apg`: float  \n    average assists per game\n* `ppg`: float  \n    average points per game\n\n### Basic goaltender-specific stats\nMore can be found [here](http://hockeygoalies.org/stats/glossary.html).\n* `gp1`: games played as a starting goalie\n* `W`: wins\n* `L`: losses\n* `T/O`: _?_\n* `SV%`: save percentage\n* `GAA`: goals against average",
      "metadata": {
        "pycharm": {
          "metadata": false
        }
      }
    },
    {
      "cell_type": "markdown",
      "source": "## Preparations\n### Import dependencies",
      "metadata": {
        "pycharm": {
          "metadata": false,
          "name": "#%% md\n"
        }
      }
    },
    {
      "cell_type": "code",
      "execution_count": null,
      "outputs": [],
      "source": "",
      "metadata": {
        "pycharm": {
          "metadata": false,
          "name": "#%%\n"
        }
      }
    },
    {
      "cell_type": "markdown",
      "source": "### Load data",
      "metadata": {
        "pycharm": {
          "metadata": false,
          "name": "#%% md\n"
        }
      }
    },
    {
      "cell_type": "code",
      "execution_count": null,
      "outputs": [],
      "source": "",
      "metadata": {
        "pycharm": {
          "metadata": false,
          "name": "#%%\n"
        }
      }
    }
  ],
  "metadata": {
    "language_info": {
      "codemirror_mode": {
        "name": "ipython",
        "version": 2
      },
      "file_extension": ".py",
      "mimetype": "text/x-python",
      "name": "python",
      "nbconvert_exporter": "python",
      "pygments_lexer": "ipython2",
      "version": "2.7.6"
    },
    "kernelspec": {
      "name": "pycharm-c7f522c3",
      "language": "python",
      "display_name": "PyCharm (nhl_draft)"
    },
    "stem_cell": {
      "cell_type": "raw",
      "source": "",
      "metadata": {
        "pycharm": {
          "metadata": false
        }
      }
    }
  },
  "nbformat": 4,
  "nbformat_minor": 0
}