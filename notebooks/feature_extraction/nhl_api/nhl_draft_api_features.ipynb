{
  "cells": [
    {
      "cell_type": "markdown",
      "source": "# NHL Draft data from NHL Records API\n# Feature extraction\nThis notebook presents feature extraction process for NHL Draft data collected from the NHL Records API. Previous steps performed include data collection from the API and data cleanup.",
      "metadata": {
        "pycharm": {
          "metadata": false
        }
      }
    },
    {
      "cell_type": "markdown",
      "source": "### Data collection summary\nDataset generated from a JSON received from the NHL Records API, contains response to the request for all draft records.  \nFor details, see notebook `notebooks/feature_extraction/nhl_api.ipynb`.",
      "metadata": {
        "pycharm": {
          "metadata": false,
          "name": "#%% md\n"
        }
      }
    },
    {
      "cell_type": "markdown",
      "source": "### Data cleanup summary\nPrevious steps included data cleaning and feature extraction. Summary of each step is presented below, for details see notebook `notebooks/feature_extraction/nhl_cleanup_extraction.ipynb`.\n\nCleanup summary:\n\n* summarized positions\n    * corrected for consistency\n    * C/RW, C/LW, _etc._, C/W, F \u003d C\n    * L/RW, W \u003d RW\n    * player who can play center are assumed to be centers for the purposes of this analysis\n    * universal (left/right) wingers are assumed to be right wingers\n    * for details, see notebook `notebooks/feature_extraction/nhl_cleanup_extraction.ipynb`\n",
      "metadata": {
        "pycharm": {
          "metadata": false,
          "name": "#%% md\n"
        }
      }
    },
    {
      "cell_type": "markdown",
      "source": "## Description of features\n\n### Features in the original dataset\n\nGeneral player info:\n* `Overall`: overall number of draft pick in the corresponding draft season\n* `Team`: team by which the player was drafted\n* `Player`: player name and _alias?_\n* `Nat.`: nationality of the player\n* `Pos`: position played\n* `Age`: age when drafted\n* `To`: _?_\n* `Amateur Team`: team prior to draft\n\nSkater-specific stats:\n* `GP`: total games played _where?_\n* `G`: total goals scored _where?_\n* `A`: total assists _where?_\n* `PTS`: total points scored _where?_\n* `+/-`: plus/minus _where?_\n* `PIM`: _?_\n\nGoaltender-specific stats:\n* `GP.1`: _?_\n* `W`: wins _where?_\n* `L`: losses _where?_\n* `T/O`: _?_\n* `SV%`: save percentage _where?_\n* `GAA`: goals against average _where?_\n",
      "metadata": {
        "pycharm": {
          "metadata": false
        }
      }
    },
    {
      "cell_type": "markdown",
      "source": "### Added features\nNew features added during feature extraction:\n\n* `year`: int, year of NHL draft, extracted from .csv file names\n* `num_teams`: int, number of teams in each draft year\n* `round_ratio`: float, ratio of each pick: \n    * $\\text{round_ratio}\u003d\\large{\\frac{\\text{# Overall}}{\\text{number of teams}}}$ \n    * number of teams represents number of picks per round\n    * each overall pick number (e.g., 171) is divided by the number of picks per round to determine in which round (and how late in the round, via the ratio) was each prospect selected\n    * \\- 1 is needed to ensure proper boundary between rounds\n    * so, for example, for pick #171 $\\text{round ratio}\u003d\\frac{171 - 1}{30} \u003d 5.67$\n* `round`: int, round in which a prospect was selected\n    * `round_ratio` is rounded down and 1 is added\n    * $\\text{round} \u003d \\text{int}(\\text{round ratio}) + 1$\n* `1st_round`: boolean, whether the prospect was selected in the $1^{st}$ round\n    * one-hot encoding for $1^{st}$ round picks\n    * True if `round` \u003d\u003d 1, False otherwise\n* `gpg`: float, average goals per game\n* `apg`: float, average assists per game\n* `ppg`: float, average points per game\n",
      "metadata": {
        "pycharm": {
          "metadata": false
        }
      }
    },
    {
      "cell_type": "markdown",
      "source": "## Preparations\n### Import dependencies",
      "metadata": {
        "pycharm": {
          "metadata": false,
          "name": "#%% md\n"
        }
      }
    },
    {
      "cell_type": "code",
      "execution_count": null,
      "outputs": [],
      "source": "",
      "metadata": {
        "pycharm": {
          "metadata": false,
          "name": "#%%\n"
        }
      }
    },
    {
      "cell_type": "markdown",
      "source": "### Load data",
      "metadata": {
        "pycharm": {
          "metadata": false,
          "name": "#%% md\n"
        }
      }
    },
    {
      "cell_type": "code",
      "execution_count": null,
      "outputs": [],
      "source": "",
      "metadata": {
        "pycharm": {
          "metadata": false,
          "name": "#%%\n"
        }
      }
    }
  ],
  "metadata": {
    "language_info": {
      "codemirror_mode": {
        "name": "ipython",
        "version": 2
      },
      "file_extension": ".py",
      "mimetype": "text/x-python",
      "name": "python",
      "nbconvert_exporter": "python",
      "pygments_lexer": "ipython2",
      "version": "2.7.6"
    },
    "kernelspec": {
      "name": "pycharm-c7f522c3",
      "language": "python",
      "display_name": "PyCharm (nhl_draft)"
    },
    "stem_cell": {
      "cell_type": "raw",
      "source": "",
      "metadata": {
        "pycharm": {
          "metadata": false
        }
      }
    }
  },
  "nbformat": 4,
  "nbformat_minor": 0
}