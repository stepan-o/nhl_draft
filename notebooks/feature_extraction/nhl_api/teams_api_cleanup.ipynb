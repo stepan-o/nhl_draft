{
  "cells": [
    {
      "cell_type": "markdown",
      "metadata": {
        "collapsed": true,
        "pycharm": {
          "name": "#%% md\n"
        }
      },
      "source": "# NHL Teams data from NHL Stats API\n\nDataset generated from a JSON received from the NHL Stats API, contains response to the request for all NHL franchises.\n\nFor details, see notebook `notebooks/feature_extraction/nhl_api.ipynb`.\n\n# Data cleanup and feature extraction\nOnly basic cleanup was performed via this notebook, more detailed cleanup was done using Tableau Prep.\n## Cleanup plan\n1. Extract conference id\n2. Extract division id\n3. Extract venue name"
    },
    {
      "cell_type": "code",
      "execution_count": 25,
      "outputs": [],
      "source": "import json\nimport psycopg2\nfrom contextlib import closing\nimport pandas as pd\nfrom time import time\nimport os",
      "metadata": {
        "pycharm": {
          "metadata": false,
          "name": "#%%\n",
          "is_executing": false
        }
      }
    },
    {
      "cell_type": "code",
      "execution_count": 2,
      "outputs": [
        {
          "data": {
            "text/plain": "[\u0027.git\u0027,\n \u0027.gitattributes\u0027,\n \u0027.gitignore\u0027,\n \u0027.idea\u0027,\n \u0027auxil\u0027,\n \u0027Bookmarks\u0027,\n \u0027data\u0027,\n \u0027Datasources\u0027,\n \u0027Extensions\u0027,\n \u0027Flows\u0027,\n \u0027img\u0027,\n \u0027Logs\u0027,\n \u0027machineId.txt\u0027,\n \u0027main.py\u0027,\n \u0027Mapsources\u0027,\n \u0027methodology\u0027,\n \u0027models\u0027,\n \u0027MRUMaestroFlows.json\u0027,\n \u0027notebooks\u0027,\n \u0027out\u0027,\n \u0027README.md\u0027,\n \u0027references\u0027,\n \u0027reports\u0027,\n \u0027requirements.txt\u0027,\n \u0027Services\u0027,\n \u0027Shapes\u0027,\n \u0027SQL\u0027,\n \u0027src\u0027,\n \u0027Workbooks\u0027]"
          },
          "metadata": {},
          "output_type": "execute_result",
          "execution_count": 2
        }
      ],
      "source": "from psycopg2.extras import DictCursor\nos.chdir(\u0027Documents/repos/nhl_draft/\u0027)\nos.listdir()",
      "metadata": {
        "pycharm": {
          "metadata": false,
          "name": "#%%\n",
          "is_executing": false
        }
      }
    },
    {
      "cell_type": "code",
      "execution_count": 3,
      "outputs": [
        {
          "name": "stdout",
          "text": [
            "----- DataFrame with NHL Draft Data loaded\nin 0.05 seconds\nwith 31 rows\nand 15 columns\n-- Column names:\n Index([\u0027abbreviation\u0027, \u0027active\u0027, \u0027conference\u0027, \u0027division\u0027, \u0027firstYearOfPlay\u0027,\n       \u0027franchise\u0027, \u0027franchiseId\u0027, \u0027id\u0027, \u0027link\u0027, \u0027locationName\u0027, \u0027name\u0027,\n       \u0027officialSiteUrl\u0027, \u0027shortName\u0027, \u0027teamName\u0027, \u0027venue\u0027],\n      dtype\u003d\u0027object\u0027)\n"
          ],
          "output_type": "stream"
        }
      ],
      "source": "teams_api_data_path \u003d \u0027data/nhl_api/teams.csv\u0027\nt \u003d time()\ndf \u003d pd.read_csv(teams_api_data_path)\n# df \u003d df.rename(columns\u003d{\u0027Unnamed: 0\u0027: \u0027id\u0027})\nelapsed \u003d time() - t\nprint(\"----- DataFrame with NHL Draft Data loaded\"\n      \"\\nin {0:.2f} seconds\".format(elapsed) + \n      \"\\nwith {0:,} rows\\nand {1:,} columns\"\n      .format(df.shape[0], df.shape[1]) + \n      \"\\n-- Column names:\\n\", df.columns)",
      "metadata": {
        "pycharm": {
          "metadata": false,
          "name": "#%%\n",
          "is_executing": false
        }
      }
    },
    {
      "cell_type": "code",
      "execution_count": 4,
      "outputs": [
        {
          "name": "stdout",
          "text": [
            "\u003cclass \u0027pandas.core.frame.DataFrame\u0027\u003e\nRangeIndex: 31 entries, 0 to 30\nData columns (total 15 columns):\nabbreviation       31 non-null object\nactive             31 non-null bool\nconference         31 non-null object\ndivision           31 non-null object\nfirstYearOfPlay    31 non-null int64\nfranchise          31 non-null object\nfranchiseId        31 non-null int64\nid                 31 non-null int64\nlink               31 non-null object\nlocationName       31 non-null object\nname               31 non-null object\nofficialSiteUrl    31 non-null object\nshortName          31 non-null object\nteamName           31 non-null object\nvenue              31 non-null object\ndtypes: bool(1), int64(3), object(11)\nmemory usage: 3.5+ KB\n"
          ],
          "output_type": "stream"
        }
      ],
      "source": "df.info()",
      "metadata": {
        "pycharm": {
          "metadata": false,
          "name": "#%%\n",
          "is_executing": false
        }
      }
    },
    {
      "cell_type": "markdown",
      "source": "## Extract conference id",
      "metadata": {
        "pycharm": {
          "metadata": false
        }
      }
    },
    {
      "cell_type": "code",
      "execution_count": null,
      "outputs": [],
      "source": "col \u003d \u0027conference\u0027\nnew_var \u003d \u0027id\u0027\ndf[col + \u0027_json\u0027] \u003d df[col].str.replace(\"\u0027\", \"\\\"\")\ndf[col + \u0027_json\u0027] \u003d \\\n    df[col + \u0027_json\u0027].apply(lambda x: json.loads(x))\ndf[col + \u0027_\u0027 + new_var] \u003d \\\n    df[col + \u0027_json\u0027].apply(lambda x: x[new_var])\nprint(\"{0} {1} extracted!\".format(col.title(), new_var))",
      "metadata": {
        "pycharm": {
          "metadata": false,
          "name": "#%%\n"
        }
      }
    },
    {
      "cell_type": "markdown",
      "source": "## Extract division id",
      "metadata": {
        "pycharm": {
          "metadata": false
        }
      }
    },
    {
      "cell_type": "code",
      "execution_count": null,
      "outputs": [],
      "source": "col \u003d \u0027division\u0027\nnew_var \u003d \u0027id\u0027\ndf[col + \u0027_json\u0027] \u003d df[col].str.replace(\"\u0027\", \"\\\"\")\ndf[col + \u0027_json\u0027] \u003d \\\n    df[col + \u0027_json\u0027].apply(lambda x: json.loads(x))\ndf[col + \u0027_\u0027 + new_var] \u003d \\\n    df[col + \u0027_json\u0027].apply(lambda x: x[new_var])\nprint(\"{0} {1} extracted!\".format(col.title(), new_var))",
      "metadata": {
        "pycharm": {
          "metadata": false,
          "name": "#%%\n"
        }
      }
    },
    {
      "cell_type": "markdown",
      "source": "## Extract division id",
      "metadata": {
        "pycharm": {
          "metadata": false,
          "name": "#%% md\n"
        }
      }
    },
    {
      "cell_type": "code",
      "execution_count": 18,
      "outputs": [
        {
          "name": "stdout",
          "text": [
            "Venue name extracted!\n"
          ],
          "output_type": "stream"
        }
      ],
      "source": "col \u003d \u0027venue\u0027\nnew_var \u003d \u0027name\u0027\ndf[col + \u0027_json\u0027] \u003d df[col].str.replace(\"\u0027\", \"\\\"\")\ndf[col + \u0027_json\u0027] \u003d \\\n    df[col + \u0027_json\u0027].apply(lambda x: json.loads(x))\ndf[col + \u0027_\u0027 + new_var] \u003d \\\n    df[col + \u0027_json\u0027].apply(lambda x: x[new_var])\nprint(\"{0} {1} extracted!\".format(col.title(), new_var))",
      "metadata": {
        "pycharm": {
          "metadata": false,
          "name": "#%%\n",
          "is_executing": false
        }
      }
    },
    {
      "cell_type": "markdown",
      "source": "## Record results to PostgreSQL database",
      "metadata": {
        "pycharm": {
          "metadata": false,
          "name": "#%% md\n"
        }
      }
    },
    {
      "cell_type": "code",
      "execution_count": 36,
      "outputs": [
        {
          "name": "stdout",
          "text": [
            "New table \u0027draft_players_all\u0027 created!\n"
          ],
          "output_type": "stream"
        }
      ],
      "source": "with closing(psycopg2.connect(\n    dbname\u003d\u0027nhl_draft\u0027, user\u003d\u0027postgres\u0027,\n    password\u003d\u0027postgres\u0027, host\u003d\u0027localhost\u0027\n)) as conn:\n    with conn.cursor() as cur:\n        cur.execute(\n            \"\"\"\ndrop table nhl_draft.nhl_draft.draft_players_all;\n        \ncreate table nhl_draft.nhl_draft.draft_players_all\n(\n    csplayerid integer,\n    name       varchar(30),\n    nat        char(3),\n    b_date     date,\n    b_place    varchar(50),\n    b_city     varchar(30),\n    b_state    char(2),\n    b_country  varchar(30),\n    ateam      varchar(50),\n    league     varchar(30),\n    year       date,\n    dteam      integer,\n    overall    integer,\n    round      integer,\n    in_round   integer,\n    height     numeric,\n    weight     numeric,\n    pos        varchar(2),\n    shoots     char,\n    player_id  serial not null\n        constraint draft_players_all_pk\n            primary key\n);\n\nalter table nhl_draft.nhl_draft.draft_players_all\n    owner to postgres;\n\ncreate unique index draft_players_all_player_id_uindex\n    on nhl_draft.nhl_draft.draft_players_all (player_id);\n            \"\"\")\nprint(\"New table \u0027draft_players_all\u0027 created!\")",
      "metadata": {
        "pycharm": {
          "metadata": false,
          "name": "#%%\n",
          "is_executing": false
        }
      }
    },
    {
      "cell_type": "markdown",
      "source": "## Record results to a new .csv file",
      "metadata": {
        "pycharm": {
          "metadata": false
        }
      }
    },
    {
      "cell_type": "code",
      "execution_count": 19,
      "outputs": [
        {
          "name": "stdout",
          "text": [
            "DataFrame saved to file:\n data/nhl_api/teams_precleaned.csv \ntook 0.16 seconds\n"
          ],
          "output_type": "stream"
        }
      ],
      "source": "save_path \u003d \u0027data/nhl_api/teams_precleaned.csv\u0027\nt \u003d time()\ndf.to_csv(save_path, index\u003dFalse)\nelapsed \u003d time() - t\nprint(\"DataFrame saved to file:\\n\", save_path,\n      \"\\ntook {0:.2f} seconds\".format(elapsed))",
      "metadata": {
        "pycharm": {
          "metadata": false,
          "name": "#%%\n",
          "is_executing": false
        }
      }
    }
  ],
  "metadata": {
    "language_info": {
      "codemirror_mode": {
        "name": "ipython",
        "version": 2
      },
      "file_extension": ".py",
      "mimetype": "text/x-python",
      "name": "python",
      "nbconvert_exporter": "python",
      "pygments_lexer": "ipython2",
      "version": "2.7.6"
    },
    "kernelspec": {
      "name": "python3",
      "language": "python",
      "display_name": "Python 3"
    }
  },
  "nbformat": 4,
  "nbformat_minor": 0
}