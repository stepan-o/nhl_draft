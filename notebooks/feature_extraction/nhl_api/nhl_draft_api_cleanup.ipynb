{
  "cells": [
    {
      "cell_type": "markdown",
      "source": "# NHL Draft data from NHL Records API\n\nDataset generated from a JSON received from the NHL Records API, contains response to the request for all draft records.\n\nFor details, see notebook `notebooks/feature_extraction/nhl_api.ipynb`.\n\n# Data cleanup and feature extraction",
      "metadata": {
        "pycharm": {
          "metadata": false
        }
      }
    },
    {
      "cell_type": "markdown",
      "source": "## Load data",
      "metadata": {
        "pycharm": {
          "metadata": false
        }
      }
    },
    {
      "cell_type": "code",
      "execution_count": 1,
      "outputs": [],
      "source": "import numpy as np\nimport matplotlib.pyplot as plt\nimport pandas as pd\nfrom glob import glob\nfrom time import time\nimport os",
      "metadata": {
        "pycharm": {
          "metadata": false,
          "name": "#%%\n",
          "is_executing": false
        }
      }
    },
    {
      "cell_type": "code",
      "execution_count": 5,
      "outputs": [
        {
          "data": {
            "text/plain": "[\u0027.git\u0027,\n \u0027.gitattributes\u0027,\n \u0027.gitignore\u0027,\n \u0027.idea\u0027,\n \u0027data\u0027,\n \u0027design\u0027,\n \u0027main.py\u0027,\n \u0027models\u0027,\n \u0027notebooks\u0027,\n \u0027README.md\u0027,\n \u0027requirements.txt\u0027]"
          },
          "metadata": {},
          "output_type": "execute_result",
          "execution_count": 5
        }
      ],
      "source": "os.chdir(\u0027Documents/repos/nhl_draft/\u0027)\nos.listdir()",
      "metadata": {
        "pycharm": {
          "metadata": false,
          "name": "#%%\n",
          "is_executing": false
        }
      }
    },
    {
      "cell_type": "code",
      "execution_count": 8,
      "outputs": [
        {
          "name": "stdout",
          "text": [
            "----- DataFrame with NHL Draft Data loaded\nin 0.25 seconds\nwith 11,587 rows\nand 25 columns\n-- Column names:\n Index([\u0027amateurClubName\u0027, \u0027amateurLeague\u0027, \u0027birthDate\u0027, \u0027birthPlace\u0027,\n       \u0027countryCode\u0027, \u0027csPlayerId\u0027, \u0027draftYear\u0027, \u0027draftedByTeamId\u0027,\n       \u0027firstName\u0027, \u0027height\u0027, \u0027id\u0027, \u0027lastName\u0027, \u0027overallPickNumber\u0027,\n       \u0027pickInRound\u0027, \u0027playerId\u0027, \u0027playerName\u0027, \u0027position\u0027, \u0027removedOutright\u0027,\n       \u0027removedOutrightWhy\u0027, \u0027roundNumber\u0027, \u0027shootsCatches\u0027,\n       \u0027supplementalDraft\u0027, \u0027teamPickHistory\u0027, \u0027triCode\u0027, \u0027weight\u0027],\n      dtype\u003d\u0027object\u0027)\n"
          ],
          "output_type": "stream"
        }
      ],
      "source": "draft_api_data_path \u003d \u0027data/nhl_api/nhl_draft_all.csv\u0027\nt \u003d time()\ndf \u003d pd.read_csv(draft_api_data_path,\n                 parse_dates\u003d[\u0027birthDate\u0027,\n                              \u0027draftYear\u0027])\n# df \u003d df.rename(columns\u003d{\u0027Unnamed: 0\u0027: \u0027id\u0027})\nelapsed \u003d time() - t\nprint(\"----- DataFrame with NHL Draft Data loaded\"\n      \"\\nin {0:.2f} seconds\".format(elapsed) + \n      \"\\nwith {0:,} rows\\nand {1:,} columns\"\n      .format(df.shape[0], df.shape[1]) + \n      \"\\n-- Column names:\\n\", df.columns)",
      "metadata": {
        "pycharm": {
          "metadata": false,
          "name": "#%%\n",
          "is_executing": false
        }
      }
    },
    {
      "cell_type": "code",
      "execution_count": 9,
      "outputs": [
        {
          "name": "stdout",
          "text": [
            "\u003cclass \u0027pandas.core.frame.DataFrame\u0027\u003e\nRangeIndex: 11587 entries, 0 to 11586\nData columns (total 25 columns):\namateurClubName       11492 non-null object\namateurLeague         11471 non-null object\nbirthDate             11526 non-null datetime64[ns]\nbirthPlace            11530 non-null object\ncountryCode           11580 non-null object\ncsPlayerId            4854 non-null float64\ndraftYear             11587 non-null datetime64[ns]\ndraftedByTeamId       11587 non-null int64\nfirstName             11580 non-null object\nheight                11502 non-null float64\nid                    11587 non-null int64\nlastName              11580 non-null object\noverallPickNumber     11587 non-null int64\npickInRound           11587 non-null int64\nplayerId              10800 non-null float64\nplayerName            11580 non-null object\nposition              11580 non-null object\nremovedOutright       11587 non-null object\nremovedOutrightWhy    88 non-null object\nroundNumber           11587 non-null int64\nshootsCatches         10858 non-null object\nsupplementalDraft     11587 non-null object\nteamPickHistory       11586 non-null object\ntriCode               11587 non-null object\nweight                11502 non-null float64\ndtypes: datetime64[ns](2), float64(4), int64(5), object(14)\nmemory usage: 2.2+ MB\n"
          ],
          "output_type": "stream"
        }
      ],
      "source": "df.info()",
      "metadata": {
        "pycharm": {
          "metadata": false,
          "name": "#%%\n",
          "is_executing": false
        }
      }
    },
    {
      "cell_type": "markdown",
      "source": "## Data cleanup",
      "metadata": {
        "pycharm": {
          "metadata": false
        }
      }
    },
    {
      "cell_type": "markdown",
      "source": "Fixing inconsistent capitalizations",
      "metadata": {
        "pycharm": {
          "metadata": false
        }
      }
    },
    {
      "cell_type": "code",
      "execution_count": 10,
      "outputs": [
        {
          "name": "stdout",
          "text": [
            "Capitalizations fixed!\n"
          ],
          "output_type": "stream"
        }
      ],
      "source": "col \u003d \u0027amateurClubName\u0027\ndf[col] \u003d df[col].str.title()\nprint(\"Capitalizations fixed!\")",
      "metadata": {
        "pycharm": {
          "metadata": false,
          "name": "#%%\n",
          "is_executing": false
        }
      }
    },
    {
      "cell_type": "markdown",
      "source": "### Some inconsistencies in amateur club names",
      "metadata": {
        "pycharm": {
          "metadata": false
        }
      }
    },
    {
      "cell_type": "code",
      "execution_count": 11,
      "outputs": [
        {
          "data": {
            "text/plain": "London Knights           115\nLondon                    64\nLondon Nationals           3\nLondon Jr. B               1\nLondon Diamonds Jr. B      1\nName: amateurClubName, dtype: int64"
          },
          "metadata": {},
          "output_type": "execute_result",
          "execution_count": 11
        }
      ],
      "source": "col \u003d \u0027amateurClubName\u0027\nmask \u003d df[col].str.contains(\u0027london\u0027, case\u003dFalse).fillna(False)\ndf.loc[mask,col].value_counts()",
      "metadata": {
        "pycharm": {
          "metadata": false,
          "name": "#%%\n",
          "is_executing": false
        }
      }
    },
    {
      "cell_type": "code",
      "execution_count": 12,
      "outputs": [
        {
          "data": {
            "text/plain": "Peterborough Petes    144\nPeterborough           41\nPeterboro               1\nName: amateurClubName, dtype: int64"
          },
          "metadata": {},
          "output_type": "execute_result",
          "execution_count": 12
        }
      ],
      "source": "mask \u003d df[col].str.contains(\u0027peterbo\u0027, case\u003dFalse).fillna(False)\ndf.loc[mask,col].value_counts()",
      "metadata": {
        "pycharm": {
          "metadata": false,
          "name": "#%%\n",
          "is_executing": false
        }
      }
    },
    {
      "cell_type": "markdown",
      "source": "#### Inconsistent names for Russian teams\n##### Fix team names for St. Petersburg SKA",
      "metadata": {
        "pycharm": {
          "metadata": false
        }
      }
    },
    {
      "cell_type": "code",
      "execution_count": 13,
      "outputs": [
        {
          "name": "stdout",
          "text": [
            "The following Amateur Team names:\n [\u0027Ska Leningrad\u0027, \u0027St. Petersburg Ska\u0027, \u0027Ska St. Petersburg\u0027, \u0027Leningrad Ska\u0027, \u0027St. Petersburg Ska St. Petersburg\u0027] \nhave been renamed to \u0027Ska\u0027\n"
          ],
          "output_type": "stream"
        }
      ],
      "source": "col \u003d \u0027amateurClubName\u0027\nska \u003d [\u0027Ska Leningrad\u0027, \n       \u0027St. Petersburg Ska\u0027,\n       \u0027Ska St. Petersburg\u0027,\n       \u0027Leningrad Ska\u0027,\n       \u0027St. Petersburg Ska St. Petersburg\u0027]\nmask \u003d df[col].isin(ska)\ndf.loc[mask, col] \u003d \u0027Ska\u0027\nprint(\"The following Amateur Team names:\\n\", ska,\n      \"\\nhave been renamed to \u0027Ska\u0027\")",
      "metadata": {
        "pycharm": {
          "metadata": false,
          "name": "#%%\n",
          "is_executing": false
        }
      }
    },
    {
      "cell_type": "code",
      "execution_count": 14,
      "outputs": [
        {
          "name": "stdout",
          "text": [
            "Replaced.\n"
          ],
          "output_type": "stream"
        }
      ],
      "source": "df[col] \u003d df[col].str.replace(\"Ska St. Petersburg 2\",\n                              \"Ska 2\")\nprint(\"Replaced.\")",
      "metadata": {
        "pycharm": {
          "metadata": false,
          "name": "#%%\n",
          "is_executing": false
        }
      }
    },
    {
      "cell_type": "markdown",
      "source": "##### Fix team names for Moscow CSKA",
      "metadata": {
        "pycharm": {
          "metadata": false
        }
      }
    },
    {
      "cell_type": "code",
      "execution_count": 15,
      "outputs": [
        {
          "name": "stdout",
          "text": [
            "The following Amateur Team names:\n [\u0027Cska Moscow\u0027, \u0027Hc Cska\u0027, \u0027Cska\u0027] \nhave been renamed to \u0027Cska\u0027\n75 records total\n",
            "\nThe following Amateur Team names:\n [\u0027Cska 2\u0027, \u0027Cska Jr.\u0027, \u0027Cska 2 Cska Moscow 2\u0027] \nhave been renamed to \u0027Cska 2\u0027\n19 records total\n"
          ],
          "output_type": "stream"
        }
      ],
      "source": "cska \u003d [\u0027Cska Moscow\u0027, \u0027Hc Cska\u0027, \u0027Cska\u0027]\ncska_jun \u003d [\u0027Cska 2\u0027, \u0027Cska Jr.\u0027,\n            \u0027Cska 2 Cska Moscow 2\u0027]\nmask \u003d df[col].isin(cska)\ndf.loc[mask, col] \u003d \"Cska\"\nprint(\"The following Amateur Team names:\\n\", cska,\n      \"\\nhave been renamed to \u0027Cska\u0027\"\n      \"\\n{0:,} records total\".format(len(df[mask])))\n\nmask \u003d df[col].isin(cska_jun)\ndf.loc[mask, col] \u003d \"Cska 2\"\nprint(\"\\nThe following Amateur Team names:\\n\", cska_jun,\n      \"\\nhave been renamed to \u0027Cska 2\u0027\"\n      \"\\n{0:,} records total\".format(len(df[mask])))",
      "metadata": {
        "pycharm": {
          "metadata": false,
          "name": "#%%\n",
          "is_executing": false
        }
      }
    },
    {
      "cell_type": "code",
      "execution_count": 16,
      "outputs": [
        {
          "data": {
            "text/plain": "Saskatoon Blades             93\nCska                         75\nSaskatoon                    36\nCska 2                       19\nSka                           9\nSka 2                         6\nU. Of Alaska-Anchorage        4\nBanska Bystrica               3\nU. Of Nebraska-Omaha          3\nOskarshamn                    2\nNebraska-Omaha                2\nChaska                        2\nFort Saskatchewan             2\nU. Of Alaska-Fairbanks        2\nAlaska-Fairbanks              1\nSkalica Jr.                   1\nSaskatoon J\u0027S                 1\nAlaska All-Stars              1\nFort Saskatchewan Traders     1\nSkalica                       1\nSpisska Nova Ves              1\nSpisska Nova Ves Jr.          1\nName: amateurClubName, dtype: int64"
          },
          "metadata": {},
          "output_type": "execute_result",
          "execution_count": 16
        }
      ],
      "source": "mask1 \u003d df[col].str.contains(\u0027peterbu\u0027, case\u003dFalse).fillna(False)\nmask2 \u003d df[col].str.contains(\u0027ska\u0027, case\u003dFalse)\ndf.loc[mask1 | mask2,col].value_counts()",
      "metadata": {
        "pycharm": {
          "metadata": false,
          "name": "#%%\n",
          "is_executing": false
        }
      }
    },
    {
      "cell_type": "markdown",
      "source": "### `pickInRound` seems have erratic values\nNew variable for round of the pick will be generated based on `overallPickNumber`, which appears to be more consistent. This will be performed in step `feature_extraction`.",
      "metadata": {
        "pycharm": {
          "metadata": false
        }
      }
    },
    {
      "cell_type": "markdown",
      "source": "### Fixing inconsistent Russian league names",
      "metadata": {
        "pycharm": {
          "metadata": false
        }
      }
    },
    {
      "cell_type": "code",
      "execution_count": 17,
      "outputs": [
        {
          "data": {
            "text/plain": "Russia          276\nRUS             122\nRUSSIA-JR.       83\nRUSSIA           35\nRUSSIA-3         23\nRUSSIA-2         13\nRUSSIA-1          7\nRUSSIA JR. 2      1\nName: amateurLeague, dtype: int64"
          },
          "metadata": {},
          "output_type": "execute_result",
          "execution_count": 17
        }
      ],
      "source": "col \u003d \u0027amateurLeague\u0027\nmask \u003d df[col].str.contains(\u0027ru\u0027, case\u003dFalse).fillna(False)\ndf.loc[mask,col].value_counts()",
      "metadata": {
        "pycharm": {
          "metadata": false,
          "name": "#%%\n",
          "is_executing": false
        }
      }
    },
    {
      "cell_type": "code",
      "execution_count": 18,
      "outputs": [
        {
          "name": "stdout",
          "text": [
            "440 values fixed.\n"
          ],
          "output_type": "stream"
        }
      ],
      "source": "rus \u003d [\u0027Russia\u0027, \u0027RUS\u0027, \u0027RUSSIA\u0027, \u0027RUSSIA-1\u0027]\nmask \u003d df[col].isin(rus)\ndf.loc[mask, col] \u003d \u0027Russia\u0027\nprint(\"{0} values fixed.\".format(len(df[mask])))",
      "metadata": {
        "pycharm": {
          "metadata": false,
          "name": "#%%\n",
          "is_executing": false
        }
      }
    },
    {
      "cell_type": "code",
      "execution_count": 19,
      "outputs": [
        {
          "name": "stdout",
          "text": [
            "84 values fixed.\n"
          ],
          "output_type": "stream"
        }
      ],
      "source": "rus_jun \u003d [\u0027RUSSIA-JR.\u0027, \u0027RUSSIA JR. 2\u0027]\nmask \u003d df[col].isin(rus_jun)\ndf.loc[mask, col] \u003d \u0027Russia-Jr.\u0027\nprint(\"{0} values fixed.\".format(len(df[mask])))",
      "metadata": {
        "pycharm": {
          "metadata": false,
          "name": "#%%\n",
          "is_executing": false
        }
      }
    },
    {
      "cell_type": "code",
      "execution_count": 20,
      "outputs": [
        {
          "data": {
            "text/plain": "Russia        440\nRussia-Jr.     84\nRUSSIA-3       23\nRUSSIA-2       13\nName: amateurLeague, dtype: int64"
          },
          "metadata": {},
          "output_type": "execute_result",
          "execution_count": 20
        }
      ],
      "source": "mask \u003d df[col].str.contains(\u0027ru\u0027, case\u003dFalse).fillna(False)\ndf.loc[mask,col].value_counts()",
      "metadata": {
        "pycharm": {
          "metadata": false,
          "name": "#%%\n",
          "is_executing": false
        }
      }
    },
    {
      "cell_type": "markdown",
      "source": "### Country codes are consistent",
      "metadata": {
        "pycharm": {
          "metadata": false
        }
      }
    },
    {
      "cell_type": "markdown",
      "source": "### Fixing inconsistent player name capitalizations",
      "metadata": {
        "pycharm": {
          "metadata": false
        }
      }
    },
    {
      "cell_type": "code",
      "execution_count": 21,
      "outputs": [
        {
          "name": "stdout",
          "text": [
            "Player name capitalizations fixed!\n"
          ],
          "output_type": "stream"
        }
      ],
      "source": "col \u003d \u0027playerName\u0027\ndf[col] \u003d df[col].str.title()\ncol \u003d \u0027lastName\u0027\ndf[col] \u003d df[col].str.title()\nprint(\"Player name capitalizations fixed!\")",
      "metadata": {
        "pycharm": {
          "metadata": false,
          "name": "#%%\n",
          "is_executing": false
        }
      }
    },
    {
      "cell_type": "markdown",
      "source": "### Number of records per year appears to match historical NHL Draft records\nNumber of picks per draft year can be verified [here](https://en.wikipedia.org/wiki/NHL_Entry_Draft).",
      "metadata": {
        "pycharm": {
          "metadata": false
        }
      }
    },
    {
      "cell_type": "code",
      "execution_count": 22,
      "outputs": [
        {
          "data": {
            "text/plain": "1963-01-01     21\n1964-01-01     24\n1965-01-01     10\n1966-01-01     24\n1967-01-01     18\n1968-01-01     24\n1969-01-01     84\n1970-01-01    116\n1971-01-01    117\n1972-01-01    152\n1973-01-01    168\n1974-01-01    247\n1975-01-01    216\n1976-01-01    135\n1977-01-01    185\n1978-01-01    234\n1979-01-01    126\n1980-01-01    210\n1981-01-01    211\n1982-01-01    252\n1983-01-01    242\n1984-01-01    252\n1985-01-01    252\n1986-01-01    252\n1987-01-01    252\n1988-01-01    252\n1989-01-01    252\n1990-01-01    252\n1991-01-01    264\n1992-01-01    264\n1993-01-01    286\n1994-01-01    286\n1995-01-01    234\n1996-01-01    241\n1997-01-01    246\n1998-01-01    258\n1999-01-01    272\n2000-01-01    293\n2001-01-01    289\n2002-01-01    291\n2003-01-01    292\n2004-01-01    291\n2005-01-01    230\n2006-01-01    213\n2007-01-01    211\n2008-01-01    211\n2009-01-01    210\n2010-01-01    210\n2011-01-01    210\n2012-01-01    211\n2013-01-01    211\n2014-01-01    210\n2015-01-01    211\n2016-01-01    211\n2017-01-01    217\n2018-01-01    217\n2019-01-01    217\nName: draftYear, dtype: int64"
          },
          "metadata": {},
          "output_type": "execute_result",
          "execution_count": 22
        }
      ],
      "source": "df[\u0027draftYear\u0027].value_counts().sort_index()",
      "metadata": {
        "pycharm": {
          "metadata": false,
          "name": "#%%\n",
          "is_executing": false
        }
      }
    },
    {
      "cell_type": "markdown",
      "source": "### `birthDate` values appear to be reasonable",
      "metadata": {
        "pycharm": {
          "metadata": false
        }
      }
    },
    {
      "cell_type": "code",
      "execution_count": 23,
      "outputs": [
        {
          "data": {
            "text/plain": "count                   11526\nunique                   8313\ntop       1976-04-04 00:00:00\nfreq                        6\nfirst     1944-10-08 00:00:00\nlast      2001-09-11 00:00:00\nName: birthDate, dtype: object"
          },
          "metadata": {},
          "output_type": "execute_result",
          "execution_count": 23
        }
      ],
      "source": "df[\u0027birthDate\u0027].describe()",
      "metadata": {
        "pycharm": {
          "metadata": false,
          "name": "#%%\n",
          "is_executing": false
        }
      }
    },
    {
      "cell_type": "markdown",
      "source": "### `birthPlace` values appear to be reasonable\n### `draftByTeamId` values appear to be reasonable\n### `overallPickNumber` values appear to be reasonable",
      "metadata": {
        "pycharm": {
          "metadata": false
        }
      }
    },
    {
      "cell_type": "markdown",
      "source": "### Fixing erratic `height` values",
      "metadata": {
        "pycharm": {
          "metadata": false
        }
      }
    },
    {
      "cell_type": "code",
      "execution_count": 24,
      "outputs": [
        {
          "data": {
            "text/plain": "count    11502.000000\nmean        72.675882\nstd          2.257367\nmin         65.000000\n25%         71.000000\n50%         73.000000\n75%         74.000000\nmax        150.000000\nName: height, dtype: float64"
          },
          "metadata": {},
          "output_type": "execute_result",
          "execution_count": 24
        },
        {
          "data": {
            "text/plain": "\u003cFigure size 432x288 with 1 Axes\u003e",
            "image/png": "[encoded data removed]"
          },
          "metadata": {
            "needs_background": "light"
          },
          "output_type": "display_data"
        }
      ],
      "source": "col \u003d \u0027height\u0027\ndf[col].plot(kind\u003d\u0027hist\u0027, bins\u003d80,\n             title\u003d\"Height of players, raw\")\ndf[col].describe()",
      "metadata": {
        "pycharm": {
          "metadata": false,
          "name": "#%%\n",
          "is_executing": false
        }
      }
    },
    {
      "cell_type": "code",
      "execution_count": 25,
      "outputs": [
        {
          "data": {
            "text/plain": "            amateurClubName amateurLeague  birthDate  \\\n4181                  Timra        Sweden 1962-03-02   \n8919  Cherepovets Severstal        Russia 1981-06-23   \n\n                       birthPlace countryCode  csPlayerId  draftYear  \\\n4181           Federtalve, Sweden         SWE         NaN 1980-01-01   \n8919  Ust-Kamenogorsk, Kazakhstan         KAZ     45565.0 1999-01-01   \n\n      draftedByTeamId   firstName  height  ...          playerName position  \\\n4181               15       Peter   150.0  ...     Peter Andersson        D   \n8919                4  Konstantin   123.0  ...  Konstantin Rudenko       LW   \n\n      removedOutright  removedOutrightWhy  roundNumber shootsCatches  \\\n4181                N                 NaN            9             R   \n8919                N                 NaN            6             R   \n\n     supplementalDraft teamPickHistory triCode  weight  \n4181                 N             WSH     WSH   150.0  \n8919                 N             PHI     PHI   123.0  \n\n[2 rows x 25 columns]",
            "text/html": "\u003cdiv\u003e\n\u003cstyle scoped\u003e\n    .dataframe tbody tr th:only-of-type {\n        vertical-align: middle;\n    }\n\n    .dataframe tbody tr th {\n        vertical-align: top;\n    }\n\n    .dataframe thead th {\n        text-align: right;\n    }\n\u003c/style\u003e\n\u003ctable border\u003d\"1\" class\u003d\"dataframe\"\u003e\n  \u003cthead\u003e\n    \u003ctr style\u003d\"text-align: right;\"\u003e\n      \u003cth\u003e\u003c/th\u003e\n      \u003cth\u003eamateurClubName\u003c/th\u003e\n      \u003cth\u003eamateurLeague\u003c/th\u003e\n      \u003cth\u003ebirthDate\u003c/th\u003e\n      \u003cth\u003ebirthPlace\u003c/th\u003e\n      \u003cth\u003ecountryCode\u003c/th\u003e\n      \u003cth\u003ecsPlayerId\u003c/th\u003e\n      \u003cth\u003edraftYear\u003c/th\u003e\n      \u003cth\u003edraftedByTeamId\u003c/th\u003e\n      \u003cth\u003efirstName\u003c/th\u003e\n      \u003cth\u003eheight\u003c/th\u003e\n      \u003cth\u003e...\u003c/th\u003e\n      \u003cth\u003eplayerName\u003c/th\u003e\n      \u003cth\u003eposition\u003c/th\u003e\n      \u003cth\u003eremovedOutright\u003c/th\u003e\n      \u003cth\u003eremovedOutrightWhy\u003c/th\u003e\n      \u003cth\u003eroundNumber\u003c/th\u003e\n      \u003cth\u003eshootsCatches\u003c/th\u003e\n      \u003cth\u003esupplementalDraft\u003c/th\u003e\n      \u003cth\u003eteamPickHistory\u003c/th\u003e\n      \u003cth\u003etriCode\u003c/th\u003e\n      \u003cth\u003eweight\u003c/th\u003e\n    \u003c/tr\u003e\n  \u003c/thead\u003e\n  \u003ctbody\u003e\n    \u003ctr\u003e\n      \u003cth\u003e4181\u003c/th\u003e\n      \u003ctd\u003eTimra\u003c/td\u003e\n      \u003ctd\u003eSweden\u003c/td\u003e\n      \u003ctd\u003e1962-03-02\u003c/td\u003e\n      \u003ctd\u003eFedertalve, Sweden\u003c/td\u003e\n      \u003ctd\u003eSWE\u003c/td\u003e\n      \u003ctd\u003eNaN\u003c/td\u003e\n      \u003ctd\u003e1980-01-01\u003c/td\u003e\n      \u003ctd\u003e15\u003c/td\u003e\n      \u003ctd\u003ePeter\u003c/td\u003e\n      \u003ctd\u003e150.0\u003c/td\u003e\n      \u003ctd\u003e...\u003c/td\u003e\n      \u003ctd\u003ePeter Andersson\u003c/td\u003e\n      \u003ctd\u003eD\u003c/td\u003e\n      \u003ctd\u003eN\u003c/td\u003e\n      \u003ctd\u003eNaN\u003c/td\u003e\n      \u003ctd\u003e9\u003c/td\u003e\n      \u003ctd\u003eR\u003c/td\u003e\n      \u003ctd\u003eN\u003c/td\u003e\n      \u003ctd\u003eWSH\u003c/td\u003e\n      \u003ctd\u003eWSH\u003c/td\u003e\n      \u003ctd\u003e150.0\u003c/td\u003e\n    \u003c/tr\u003e\n    \u003ctr\u003e\n      \u003cth\u003e8919\u003c/th\u003e\n      \u003ctd\u003eCherepovets Severstal\u003c/td\u003e\n      \u003ctd\u003eRussia\u003c/td\u003e\n      \u003ctd\u003e1981-06-23\u003c/td\u003e\n      \u003ctd\u003eUst-Kamenogorsk, Kazakhstan\u003c/td\u003e\n      \u003ctd\u003eKAZ\u003c/td\u003e\n      \u003ctd\u003e45565.0\u003c/td\u003e\n      \u003ctd\u003e1999-01-01\u003c/td\u003e\n      \u003ctd\u003e4\u003c/td\u003e\n      \u003ctd\u003eKonstantin\u003c/td\u003e\n      \u003ctd\u003e123.0\u003c/td\u003e\n      \u003ctd\u003e...\u003c/td\u003e\n      \u003ctd\u003eKonstantin Rudenko\u003c/td\u003e\n      \u003ctd\u003eLW\u003c/td\u003e\n      \u003ctd\u003eN\u003c/td\u003e\n      \u003ctd\u003eNaN\u003c/td\u003e\n      \u003ctd\u003e6\u003c/td\u003e\n      \u003ctd\u003eR\u003c/td\u003e\n      \u003ctd\u003eN\u003c/td\u003e\n      \u003ctd\u003ePHI\u003c/td\u003e\n      \u003ctd\u003ePHI\u003c/td\u003e\n      \u003ctd\u003e123.0\u003c/td\u003e\n    \u003c/tr\u003e\n  \u003c/tbody\u003e\n\u003c/table\u003e\n\u003cp\u003e2 rows × 25 columns\u003c/p\u003e\n\u003c/div\u003e"
          },
          "metadata": {},
          "output_type": "execute_result",
          "execution_count": 25
        }
      ],
      "source": "mask \u003d df[col] \u003e 90\ndf[mask]",
      "metadata": {
        "pycharm": {
          "metadata": false,
          "name": "#%%\n",
          "is_executing": false
        }
      }
    },
    {
      "cell_type": "code",
      "execution_count": 26,
      "outputs": [
        {
          "name": "stdout",
          "text": [
            "Erratic height values replaced with mean.\n"
          ],
          "output_type": "stream"
        }
      ],
      "source": "df.loc[mask, col] \u003d df[col].mean()\nprint(\"Erratic height values replaced with mean.\")",
      "metadata": {
        "pycharm": {
          "metadata": false,
          "name": "#%%\n",
          "is_executing": false
        }
      }
    },
    {
      "cell_type": "code",
      "execution_count": 27,
      "outputs": [
        {
          "data": {
            "text/plain": "count    11502.000000\nmean        72.664785\nstd          2.086986\nmin         65.000000\n25%         71.000000\n50%         73.000000\n75%         74.000000\nmax         81.000000\nName: height, dtype: float64"
          },
          "metadata": {},
          "output_type": "execute_result",
          "execution_count": 27
        },
        {
          "data": {
            "text/plain": "\u003cFigure size 432x288 with 1 Axes\u003e",
            "image/png": "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\u003d\u003d\n"
          },
          "metadata": {
            "needs_background": "light"
          },
          "output_type": "display_data"
        }
      ],
      "source": "col \u003d \u0027height\u0027\ndf[col].plot(kind\u003d\u0027hist\u0027, bins\u003d17,\n             title\u003d\"Height of players, fixed\")\ndf[col].describe()",
      "metadata": {
        "pycharm": {
          "metadata": false,
          "name": "#%%\n",
          "is_executing": false
        }
      }
    },
    {
      "cell_type": "markdown",
      "source": "Height of players follows a normal (Gaussian) distribution, as expected.",
      "metadata": {
        "pycharm": {
          "metadata": false
        }
      }
    },
    {
      "cell_type": "markdown",
      "source": "### Fixing erratic `weight` values",
      "metadata": {
        "pycharm": {
          "metadata": false
        }
      }
    },
    {
      "cell_type": "code",
      "execution_count": 28,
      "outputs": [
        {
          "data": {
            "text/plain": "count    11502.000000\nmean       191.407494\nstd         16.242026\nmin         19.000000\n25%        180.000000\n50%        190.000000\n75%        201.000000\nmax        265.000000\nName: weight, dtype: float64"
          },
          "metadata": {},
          "output_type": "execute_result",
          "execution_count": 28
        },
        {
          "data": {
            "text/plain": "\u003cFigure size 432x288 with 1 Axes\u003e",
            "image/png": "[encoded data removed]"
          },
          "metadata": {
            "needs_background": "light"
          },
          "output_type": "display_data"
        }
      ],
      "source": "col \u003d \u0027weight\u0027\ndf[col].plot(kind\u003d\u0027hist\u0027, bins\u003d40,\n             title\u003d\"Weight of players, fixed\")\ndf[col].describe()",
      "metadata": {
        "pycharm": {
          "metadata": false,
          "name": "#%%\n",
          "is_executing": false
        }
      }
    },
    {
      "cell_type": "code",
      "execution_count": 29,
      "outputs": [
        {
          "data": {
            "text/plain": "            amateurClubName   amateurLeague  birthDate  \\\n8365             Notre Dame            NCAA 1978-06-14   \n8496                    NaN  Czech Republic 1974-02-22   \n8919  Cherepovets Severstal          Russia 1981-06-23   \n\n                       birthPlace countryCode  csPlayerId  draftYear  \\\n8365      Shaker Heights, OH  USA         USA     47155.0 1997-01-01   \n8496      Benesov, Czech Republic         CZE     47965.0 1997-01-01   \n8919  Ust-Kamenogorsk, Kazakhstan         KAZ     45565.0 1999-01-01   \n\n      draftedByTeamId   firstName     height  ...          playerName  \\\n8365               16    Benjamin  72.000000  ...      Benjamin Simon   \n8496                1         Jan  72.000000  ...         Jan Srdinko   \n8919                4  Konstantin  72.675882  ...  Konstantin Rudenko   \n\n     position  removedOutright  removedOutrightWhy  roundNumber shootsCatches  \\\n8365       LW                N                 NaN            5             L   \n8496        D                N                 NaN            9             L   \n8919       LW                N                 NaN            6             R   \n\n     supplementalDraft teamPickHistory triCode  weight  \n8365                 N             CHI     CHI    19.0  \n8496                 N             NJD     NJD   100.0  \n8919                 N             PHI     PHI   123.0  \n\n[3 rows x 25 columns]",
            "text/html": "\u003cdiv\u003e\n\u003cstyle scoped\u003e\n    .dataframe tbody tr th:only-of-type {\n        vertical-align: middle;\n    }\n\n    .dataframe tbody tr th {\n        vertical-align: top;\n    }\n\n    .dataframe thead th {\n        text-align: right;\n    }\n\u003c/style\u003e\n\u003ctable border\u003d\"1\" class\u003d\"dataframe\"\u003e\n  \u003cthead\u003e\n    \u003ctr style\u003d\"text-align: right;\"\u003e\n      \u003cth\u003e\u003c/th\u003e\n      \u003cth\u003eamateurClubName\u003c/th\u003e\n      \u003cth\u003eamateurLeague\u003c/th\u003e\n      \u003cth\u003ebirthDate\u003c/th\u003e\n      \u003cth\u003ebirthPlace\u003c/th\u003e\n      \u003cth\u003ecountryCode\u003c/th\u003e\n      \u003cth\u003ecsPlayerId\u003c/th\u003e\n      \u003cth\u003edraftYear\u003c/th\u003e\n      \u003cth\u003edraftedByTeamId\u003c/th\u003e\n      \u003cth\u003efirstName\u003c/th\u003e\n      \u003cth\u003eheight\u003c/th\u003e\n      \u003cth\u003e...\u003c/th\u003e\n      \u003cth\u003eplayerName\u003c/th\u003e\n      \u003cth\u003eposition\u003c/th\u003e\n      \u003cth\u003eremovedOutright\u003c/th\u003e\n      \u003cth\u003eremovedOutrightWhy\u003c/th\u003e\n      \u003cth\u003eroundNumber\u003c/th\u003e\n      \u003cth\u003eshootsCatches\u003c/th\u003e\n      \u003cth\u003esupplementalDraft\u003c/th\u003e\n      \u003cth\u003eteamPickHistory\u003c/th\u003e\n      \u003cth\u003etriCode\u003c/th\u003e\n      \u003cth\u003eweight\u003c/th\u003e\n    \u003c/tr\u003e\n  \u003c/thead\u003e\n  \u003ctbody\u003e\n    \u003ctr\u003e\n      \u003cth\u003e8365\u003c/th\u003e\n      \u003ctd\u003eNotre Dame\u003c/td\u003e\n      \u003ctd\u003eNCAA\u003c/td\u003e\n      \u003ctd\u003e1978-06-14\u003c/td\u003e\n      \u003ctd\u003eShaker Heights, OH  USA\u003c/td\u003e\n      \u003ctd\u003eUSA\u003c/td\u003e\n      \u003ctd\u003e47155.0\u003c/td\u003e\n      \u003ctd\u003e1997-01-01\u003c/td\u003e\n      \u003ctd\u003e16\u003c/td\u003e\n      \u003ctd\u003eBenjamin\u003c/td\u003e\n      \u003ctd\u003e72.000000\u003c/td\u003e\n      \u003ctd\u003e...\u003c/td\u003e\n      \u003ctd\u003eBenjamin Simon\u003c/td\u003e\n      \u003ctd\u003eLW\u003c/td\u003e\n      \u003ctd\u003eN\u003c/td\u003e\n      \u003ctd\u003eNaN\u003c/td\u003e\n      \u003ctd\u003e5\u003c/td\u003e\n      \u003ctd\u003eL\u003c/td\u003e\n      \u003ctd\u003eN\u003c/td\u003e\n      \u003ctd\u003eCHI\u003c/td\u003e\n      \u003ctd\u003eCHI\u003c/td\u003e\n      \u003ctd\u003e19.0\u003c/td\u003e\n    \u003c/tr\u003e\n    \u003ctr\u003e\n      \u003cth\u003e8496\u003c/th\u003e\n      \u003ctd\u003eNaN\u003c/td\u003e\n      \u003ctd\u003eCzech Republic\u003c/td\u003e\n      \u003ctd\u003e1974-02-22\u003c/td\u003e\n      \u003ctd\u003eBenesov, Czech Republic\u003c/td\u003e\n      \u003ctd\u003eCZE\u003c/td\u003e\n      \u003ctd\u003e47965.0\u003c/td\u003e\n      \u003ctd\u003e1997-01-01\u003c/td\u003e\n      \u003ctd\u003e1\u003c/td\u003e\n      \u003ctd\u003eJan\u003c/td\u003e\n      \u003ctd\u003e72.000000\u003c/td\u003e\n      \u003ctd\u003e...\u003c/td\u003e\n      \u003ctd\u003eJan Srdinko\u003c/td\u003e\n      \u003ctd\u003eD\u003c/td\u003e\n      \u003ctd\u003eN\u003c/td\u003e\n      \u003ctd\u003eNaN\u003c/td\u003e\n      \u003ctd\u003e9\u003c/td\u003e\n      \u003ctd\u003eL\u003c/td\u003e\n      \u003ctd\u003eN\u003c/td\u003e\n      \u003ctd\u003eNJD\u003c/td\u003e\n      \u003ctd\u003eNJD\u003c/td\u003e\n      \u003ctd\u003e100.0\u003c/td\u003e\n    \u003c/tr\u003e\n    \u003ctr\u003e\n      \u003cth\u003e8919\u003c/th\u003e\n      \u003ctd\u003eCherepovets Severstal\u003c/td\u003e\n      \u003ctd\u003eRussia\u003c/td\u003e\n      \u003ctd\u003e1981-06-23\u003c/td\u003e\n      \u003ctd\u003eUst-Kamenogorsk, Kazakhstan\u003c/td\u003e\n      \u003ctd\u003eKAZ\u003c/td\u003e\n      \u003ctd\u003e45565.0\u003c/td\u003e\n      \u003ctd\u003e1999-01-01\u003c/td\u003e\n      \u003ctd\u003e4\u003c/td\u003e\n      \u003ctd\u003eKonstantin\u003c/td\u003e\n      \u003ctd\u003e72.675882\u003c/td\u003e\n      \u003ctd\u003e...\u003c/td\u003e\n      \u003ctd\u003eKonstantin Rudenko\u003c/td\u003e\n      \u003ctd\u003eLW\u003c/td\u003e\n      \u003ctd\u003eN\u003c/td\u003e\n      \u003ctd\u003eNaN\u003c/td\u003e\n      \u003ctd\u003e6\u003c/td\u003e\n      \u003ctd\u003eR\u003c/td\u003e\n      \u003ctd\u003eN\u003c/td\u003e\n      \u003ctd\u003ePHI\u003c/td\u003e\n      \u003ctd\u003ePHI\u003c/td\u003e\n      \u003ctd\u003e123.0\u003c/td\u003e\n    \u003c/tr\u003e\n  \u003c/tbody\u003e\n\u003c/table\u003e\n\u003cp\u003e3 rows × 25 columns\u003c/p\u003e\n\u003c/div\u003e"
          },
          "metadata": {},
          "output_type": "execute_result",
          "execution_count": 29
        }
      ],
      "source": "mask \u003d df[col] \u003c 130\ndf[mask]",
      "metadata": {
        "pycharm": {
          "metadata": false,
          "name": "#%%\n",
          "is_executing": false
        }
      }
    },
    {
      "cell_type": "code",
      "execution_count": 30,
      "outputs": [
        {
          "name": "stdout",
          "text": [
            "Erratic weight values replaced with mean.\n"
          ],
          "output_type": "stream"
        }
      ],
      "source": "df.loc[mask, col] \u003d df[col].mean()\nprint(\"Erratic weight values replaced with mean.\")",
      "metadata": {
        "pycharm": {
          "metadata": false,
          "name": "#%%\n",
          "is_executing": false
        }
      }
    },
    {
      "cell_type": "code",
      "execution_count": 31,
      "outputs": [
        {
          "data": {
            "text/plain": "count    11502.000000\nmean       191.436378\nstd         16.127142\nmin        137.000000\n25%        180.000000\n50%        190.000000\n75%        201.000000\nmax        265.000000\nName: weight, dtype: float64"
          },
          "metadata": {},
          "output_type": "execute_result",
          "execution_count": 31
        },
        {
          "data": {
            "text/plain": "\u003cFigure size 432x288 with 1 Axes\u003e",
            "image/png": "[encoded data removed]"
          },
          "metadata": {
            "needs_background": "light"
          },
          "output_type": "display_data"
        }
      ],
      "source": "df[col].plot(kind\u003d\u0027hist\u0027, bins\u003d25,\n             title\u003d\"Weight of players, fixed\")\ndf[col].describe()",
      "metadata": {
        "pycharm": {
          "metadata": false,
          "name": "#%%\n",
          "is_executing": false
        }
      }
    },
    {
      "cell_type": "markdown",
      "source": "Weight of players follows a normal (Gaussian) distribution, as expected.",
      "metadata": {
        "pycharm": {
          "metadata": false
        }
      }
    },
    {
      "cell_type": "markdown",
      "source": "### Remove redundant positions\nAll players capable of playing the center are assumed to be centers, LW/RW are assumed to be right wings, mixed D positions are assumed to be D.",
      "metadata": {
        "pycharm": {
          "metadata": false
        }
      }
    },
    {
      "cell_type": "code",
      "execution_count": 32,
      "outputs": [
        {
          "data": {
            "text/plain": "D        3786\nC        2456\nLW       1903\nRW       1855\nG        1156\nF         362\nC/LW       30\nC/RW       17\nLW/RW      13\nLW/D        1\nD/F         1\nName: position, dtype: int64"
          },
          "metadata": {},
          "output_type": "execute_result",
          "execution_count": 32
        }
      ],
      "source": "col \u003d \u0027position\u0027\ndf[col].value_counts()",
      "metadata": {
        "pycharm": {
          "metadata": false,
          "name": "#%%\n",
          "is_executing": false
        }
      }
    },
    {
      "cell_type": "code",
      "execution_count": 33,
      "outputs": [
        {
          "data": {
            "text/plain": "D     3788\nC     2865\nLW    1903\nRW    1868\nG     1156\nName: position, dtype: int64"
          },
          "metadata": {},
          "output_type": "execute_result",
          "execution_count": 33
        }
      ],
      "source": "df[col] \u003d df[col].str.replace(\"C/LW\", \"C\")\ndf[col] \u003d df[col].str.replace(\"C/RW\", \"C\")\ndf[col] \u003d df[col].str.replace(\"LW/RW\", \"RW\")\ndf[col] \u003d df[col].str.replace(\"LW/D\", \"D\")\ndf[col] \u003d df[col].str.replace(\"D/F\", \"D\")\ndf[col] \u003d df[col].str.replace(\"F\", \"C\")\ndf[col].value_counts()",
      "metadata": {
        "pycharm": {
          "metadata": false,
          "name": "#%%\n",
          "is_executing": false
        }
      }
    },
    {
      "cell_type": "markdown",
      "source": "## Filter and rename columns",
      "metadata": {
        "pycharm": {
          "metadata": false
        }
      }
    },
    {
      "cell_type": "code",
      "execution_count": 34,
      "outputs": [
        {
          "name": "stdout",
          "text": [
            "DataFrame columns filtered and renamed.\n"
          ],
          "output_type": "stream"
        }
      ],
      "source": "cols \u003d [\u0027playerName\u0027, \u0027countryCode\u0027, \n        \u0027birthDate\u0027, \u0027birthPlace\u0027,\n        \u0027amateurClubName\u0027, \u0027amateurLeague\u0027,\n        \u0027draftYear\u0027, \u0027draftedByTeamId\u0027, \n        \u0027overallPickNumber\u0027, \u0027removedOutright\u0027,\n        \u0027removedOutrightWhy\u0027, \u0027height\u0027,\n        \u0027weight\u0027, \u0027position\u0027, \u0027shootsCatches\u0027]\ncol_names \u003d [\u0027name\u0027, \u0027nat\u0027, \u0027dob\u0027, \u0027bp\u0027, \u0027ateam\u0027, \n             \u0027league\u0027, \u0027year\u0027, \u0027dteam\u0027, \u0027overall\u0027,\n             \u0027removed\u0027, \u0027why\u0027, \u0027height\u0027, \u0027weight\u0027, \n             \u0027pos\u0027, \u0027shoots\u0027, ]\ndf_filtered \u003d df[cols].copy()\ndf_filtered.columns \u003d col_names\nprint(\"DataFrame columns filtered and renamed.\")",
      "metadata": {
        "pycharm": {
          "metadata": false,
          "name": "#%%\n",
          "is_executing": false
        }
      }
    },
    {
      "cell_type": "markdown",
      "source": "## Record results to a new .csv file",
      "metadata": {
        "pycharm": {
          "metadata": false
        }
      }
    },
    {
      "cell_type": "code",
      "execution_count": 38,
      "outputs": [
        {
          "name": "stdout",
          "text": [
            "DataFrame saved to file:\n data/nhl_api/nhl_draft_all_cleaned.csv \ntook 0.47 seconds\n"
          ],
          "output_type": "stream"
        }
      ],
      "source": "save_path \u003d \u0027data/nhl_api/nhl_draft_all_cleaned.csv\u0027\nt \u003d time()\ndf_filtered.to_csv(save_path, index\u003dFalse)\nelapsed \u003d time() - t\nprint(\"DataFrame saved to file:\\n\", save_path,\n      \"\\ntook {0:.2f} seconds\".format(elapsed))",
      "metadata": {
        "pycharm": {
          "metadata": false,
          "name": "#%%\n",
          "is_executing": false
        }
      }
    }
  ],
  "metadata": {
    "language_info": {
      "codemirror_mode": {
        "name": "ipython",
        "version": 2
      },
      "file_extension": ".py",
      "mimetype": "text/x-python",
      "name": "python",
      "nbconvert_exporter": "python",
      "pygments_lexer": "ipython2",
      "version": "2.7.6"
    },
    "kernelspec": {
      "name": "python3",
      "language": "python",
      "display_name": "Python 3"
    },
    "stem_cell": {
      "cell_type": "raw",
      "source": "",
      "metadata": {
        "pycharm": {
          "metadata": false
        }
      }
    }
  },
  "nbformat": 4,
  "nbformat_minor": 0
}