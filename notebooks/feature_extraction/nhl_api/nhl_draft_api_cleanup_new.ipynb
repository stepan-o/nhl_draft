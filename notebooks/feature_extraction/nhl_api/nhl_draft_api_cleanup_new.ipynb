{
  "cells": [
    {
      "cell_type": "markdown",
      "metadata": {
        "collapsed": true,
        "pycharm": {
          "name": "#%% md\n"
        }
      },
      "source": "# NHL Draft data from NHL Records API\n\nDataset generated from a JSON received from the NHL Records API, contains response to the request for all draft records.\n\nFor details, see notebook `notebooks/feature_extraction/nhl_api.ipynb`.\n\n# Data cleanup and feature extraction\nOnly basic cleanup was performed via this notebook, more detailed cleanup was done using Tableau Prep.\n## Cleanup plan\n1. Fix inconsistent capitalizations\n2. Remove records with missing place of birth and date of birth\n3. Extract country of birth from birth place\n4. Fix erratic height and weight values\n5. Remove redundant positions\n    * all players capable of playing the center are assumed to be centers (C)\n    * LW/RW are assumed to be right wings (RW)\n    * mixed D positions are assumed to be defencemen (D)\n5. Produce new variables:\n    * `1st_round`: boolean, whether the prospect was selected in the $1^{st}$ round\n        * one-hot encoding for $1^{st}$ round picks\n        * True if `round` \u003d\u003d 1, False otherwise\n6. Filter and rename columns\n7. Save results to a new .csv file"
    },
    {
      "cell_type": "code",
      "execution_count": 1,
      "outputs": [],
      "source": "import numpy as np\nimport pandas as pd\nfrom time import time\nimport os",
      "metadata": {
        "pycharm": {
          "metadata": false,
          "name": "#%%\n",
          "is_executing": false
        }
      }
    },
    {
      "cell_type": "code",
      "execution_count": 2,
      "outputs": [
        {
          "data": {
            "text/plain": "[\u0027.git\u0027,\n \u0027.gitattributes\u0027,\n \u0027.gitignore\u0027,\n \u0027.idea\u0027,\n \u0027auxil\u0027,\n \u0027data\u0027,\n \u0027Datasources\u0027,\n \u0027Flows\u0027,\n \u0027img\u0027,\n \u0027Logs\u0027,\n \u0027machineId.txt\u0027,\n \u0027main.py\u0027,\n \u0027methodology\u0027,\n \u0027models\u0027,\n \u0027notebooks\u0027,\n \u0027out\u0027,\n \u0027README.md\u0027,\n \u0027references\u0027,\n \u0027reports\u0027,\n \u0027requirements.txt\u0027,\n \u0027src\u0027]"
          },
          "metadata": {},
          "output_type": "execute_result",
          "execution_count": 2
        }
      ],
      "source": "os.chdir(\u0027Documents/repos/nhl_draft/\u0027)\nos.listdir()",
      "metadata": {
        "pycharm": {
          "metadata": false,
          "name": "#%%\n",
          "is_executing": false
        }
      }
    },
    {
      "cell_type": "code",
      "execution_count": 3,
      "outputs": [
        {
          "name": "stdout",
          "text": [
            "----- DataFrame with NHL Draft Data loaded\nin 0.24 seconds\nwith 11,587 rows\nand 25 columns\n-- Column names:\n Index([\u0027amateurClubName\u0027, \u0027amateurLeague\u0027, \u0027birthDate\u0027, \u0027birthPlace\u0027,\n       \u0027countryCode\u0027, \u0027csPlayerId\u0027, \u0027draftYear\u0027, \u0027draftedByTeamId\u0027,\n       \u0027firstName\u0027, \u0027height\u0027, \u0027id\u0027, \u0027lastName\u0027, \u0027overallPickNumber\u0027,\n       \u0027pickInRound\u0027, \u0027playerId\u0027, \u0027playerName\u0027, \u0027position\u0027, \u0027removedOutright\u0027,\n       \u0027removedOutrightWhy\u0027, \u0027roundNumber\u0027, \u0027shootsCatches\u0027,\n       \u0027supplementalDraft\u0027, \u0027teamPickHistory\u0027, \u0027triCode\u0027, \u0027weight\u0027],\n      dtype\u003d\u0027object\u0027)\n"
          ],
          "output_type": "stream"
        }
      ],
      "source": "draft_api_data_path \u003d \u0027data/nhl_api/nhl_draft_all.csv\u0027\nt \u003d time()\ndf \u003d pd.read_csv(draft_api_data_path,\n                 parse_dates\u003d[\u0027birthDate\u0027,\n                              \u0027draftYear\u0027])\ndf[\u0027csPlayerId\u0027] \u003d df[\u0027csPlayerId\u0027].astype(\u0027int\u0027)\n# df \u003d df.rename(columns\u003d{\u0027Unnamed: 0\u0027: \u0027id\u0027})\nelapsed \u003d time() - t\nprint(\"----- DataFrame with NHL Draft Data loaded\"\n      \"\\nin {0:.2f} seconds\".format(elapsed) + \n      \"\\nwith {0:,} rows\\nand {1:,} columns\"\n      .format(df.shape[0], df.shape[1]) + \n      \"\\n-- Column names:\\n\", df.columns)",
      "metadata": {
        "pycharm": {
          "metadata": false,
          "name": "#%%\n",
          "is_executing": false
        }
      }
    },
    {
      "cell_type": "code",
      "execution_count": 4,
      "outputs": [
        {
          "name": "stdout",
          "text": [
            "\u003cclass \u0027pandas.core.frame.DataFrame\u0027\u003e\nRangeIndex: 11587 entries, 0 to 11586\nData columns (total 25 columns):\namateurClubName       11492 non-null object\namateurLeague         11471 non-null object\nbirthDate             11526 non-null datetime64[ns]\nbirthPlace            11530 non-null object\ncountryCode           11580 non-null object\ncsPlayerId            4854 non-null float64\ndraftYear             11587 non-null datetime64[ns]\ndraftedByTeamId       11587 non-null int64\nfirstName             11580 non-null object\nheight                11502 non-null float64\nid                    11587 non-null int64\nlastName              11580 non-null object\noverallPickNumber     11587 non-null int64\npickInRound           11587 non-null int64\nplayerId              10800 non-null float64\nplayerName            11580 non-null object\nposition              11580 non-null object\nremovedOutright       11587 non-null object\nremovedOutrightWhy    88 non-null object\nroundNumber           11587 non-null int64\nshootsCatches         10858 non-null object\nsupplementalDraft     11587 non-null object\nteamPickHistory       11586 non-null object\ntriCode               11587 non-null object\nweight                11502 non-null float64\ndtypes: datetime64[ns](2), float64(4), int64(5), object(14)\nmemory usage: 2.2+ MB\n"
          ],
          "output_type": "stream"
        }
      ],
      "source": "df.info()",
      "metadata": {
        "pycharm": {
          "metadata": false,
          "name": "#%%\n",
          "is_executing": false
        }
      }
    },
    {
      "cell_type": "markdown",
      "source": "## Fix inconsistent capitalizations",
      "metadata": {
        "pycharm": {
          "metadata": false,
          "name": "#%% md\n"
        }
      }
    },
    {
      "cell_type": "code",
      "execution_count": 5,
      "outputs": [
        {
          "name": "stdout",
          "text": [
            "Capitalizations fixed!\n"
          ],
          "output_type": "stream"
        }
      ],
      "source": "cols \u003d [\u0027amateurClubName\u0027, \u0027birthPlace\u0027, \u0027playerName\u0027, \u0027lastName\u0027]\nfor col in cols:\n    df[col] \u003d df[col].str.title()\nprint(\"Capitalizations fixed!\")",
      "metadata": {
        "pycharm": {
          "metadata": false,
          "name": "#%%\n",
          "is_executing": false
        }
      }
    },
    {
      "cell_type": "markdown",
      "source": "## Remove records with missing place of birth and date of birth\nThere is a low number of records with missing place of birth and country of birth, since these records do not appear to be very important, they are removed from the dataset.\n### Missing place of birth",
      "metadata": {
        "pycharm": {
          "metadata": false,
          "name": "#%% md\n"
        }
      }
    },
    {
      "cell_type": "code",
      "execution_count": 6,
      "outputs": [
        {
          "name": "stdout",
          "text": [
            "From the total 11,587 records in the dataset,\n57, or 0.49% of all drafted players, have missing birthPlace. \nFrom these records, 6 (0.05% of all drafted players) \nhave been picking in either the first of the second round of draft.\n"
          ],
          "output_type": "stream"
        },
        {
          "name": "stderr",
          "text": [
            "C:\\Anaconda3\\envs\\nhl_draft\\lib\\site-packages\\ipykernel_launcher.py:12: UserWarning: Boolean Series key will be reindexed to match DataFrame index.\n  if sys.path[0] \u003d\u003d \u0027\u0027:\nC:\\Anaconda3\\envs\\nhl_draft\\lib\\site-packages\\ipykernel_launcher.py:13: UserWarning: Boolean Series key will be reindexed to match DataFrame index.\n  del sys.path[0]\n"
          ],
          "output_type": "stream"
        }
      ],
      "source": "col \u003d \u0027birthPlace\u0027\nmask1 \u003d df[col].isnull()\nmask2 \u003d df[\u0027overallPickNumber\u0027] \u003c 60\ns \u003d df[mask1]\nprint(\"From the total {0:,} records in the dataset,\\n{1:,}, or {2:.2f}% \"\n      \"of all drafted players, have missing {3}.\".format(len(df),\n                                                  len(df[mask1]),\n                                                  len(s) / len(df) * 100,\n                                                  col),\n      \"\\nFrom these records, {0:,} ({1:.2f}% of all drafted players) \"\n      \"\\nhave been picking in either the first of the second \"\n      \"round of draft.\".format(len(s[mask2]),\n                               len(s[mask2]) / len(df) * 100))",
      "metadata": {
        "pycharm": {
          "metadata": false,
          "name": "#%%\n",
          "is_executing": false
        }
      }
    },
    {
      "cell_type": "markdown",
      "source": "### Missing date of birth",
      "metadata": {
        "pycharm": {
          "metadata": false,
          "name": "#%% md\n"
        }
      }
    },
    {
      "cell_type": "code",
      "execution_count": 7,
      "outputs": [
        {
          "name": "stdout",
          "text": [
            "From the total 11,587 records in the dataset,\n61, or 0.53% of all drafted players, have missing birthDate. \nFrom these records, 11 (0.09% of all drafted players) \nhave been picking in either the first of the second round of draft.\n"
          ],
          "output_type": "stream"
        },
        {
          "name": "stderr",
          "text": [
            "C:\\Anaconda3\\envs\\nhl_draft\\lib\\site-packages\\ipykernel_launcher.py:12: UserWarning: Boolean Series key will be reindexed to match DataFrame index.\n  if sys.path[0] \u003d\u003d \u0027\u0027:\nC:\\Anaconda3\\envs\\nhl_draft\\lib\\site-packages\\ipykernel_launcher.py:13: UserWarning: Boolean Series key will be reindexed to match DataFrame index.\n  del sys.path[0]\n"
          ],
          "output_type": "stream"
        }
      ],
      "source": "col \u003d \u0027birthDate\u0027\nmask1 \u003d df[col].isnull()\nmask2 \u003d df[\u0027overallPickNumber\u0027] \u003c 60\ns \u003d df[mask1]\nprint(\"From the total {0:,} records in the dataset,\\n{1:,}, or {2:.2f}% \"\n      \"of all drafted players, have missing {3}.\".format(len(df),\n                                                  len(df[mask1]),\n                                                  len(s) / len(df) * 100,\n                                                  col),\n      \"\\nFrom these records, {0:,} ({1:.2f}% of all drafted players) \"\n      \"\\nhave been picking in either the first of the second \"\n      \"round of draft.\".format(len(s[mask2]),\n                               len(s[mask2]) / len(df) * 100))",
      "metadata": {
        "pycharm": {
          "metadata": false,
          "name": "#%%\n",
          "is_executing": false
        }
      }
    },
    {
      "cell_type": "markdown",
      "source": "### Remove records with missing date or place of birth",
      "metadata": {
        "pycharm": {
          "metadata": false,
          "name": "#%% md\n"
        }
      }
    },
    {
      "cell_type": "code",
      "execution_count": 8,
      "outputs": [
        {
          "name": "stdout",
          "text": [
            "103 records (0.89% of the total) have been removed from the DataFrame!\n"
          ],
          "output_type": "stream"
        }
      ],
      "source": "old_led \u003d len(df)\ndf \u003d df.dropna(subset\u003d[\u0027birthPlace\u0027, \u0027birthDate\u0027])\nprint(\"{0:,} records ({1:.2f}% of the total) have been \"\n      \"removed from the DataFrame!\"\n      .format(old_led - len(df),\n              (old_led - len(df)) / old_led * 100 ))",
      "metadata": {
        "pycharm": {
          "metadata": false,
          "name": "#%%\n",
          "is_executing": false
        }
      }
    },
    {
      "cell_type": "markdown",
      "source": "## Extract country of birth from place of birth\nStates and provinces are also extracted for players from US and Canada.\n### Fix birth place values of 4 records",
      "metadata": {
        "pycharm": {
          "metadata": false,
          "name": "#%% md\n"
        }
      }
    },
    {
      "cell_type": "code",
      "execution_count": 9,
      "outputs": [
        {
          "name": "stdout",
          "text": [
            "Values in column birthPlace fixed.\n"
          ],
          "output_type": "stream"
        }
      ],
      "source": "col \u003d \u0027birthPlace\u0027\nmask1 \u003d df[col].str.contains(\u0027,\u0027)\nmask2 \u003d df[col].str.contains(\u0027Delemont\u0027)\ndf.loc[~mask1 \u0026 mask2, col] \u003d df.loc[~mask1 \u0026 mask2, col] + \u0027, Switzerland\u0027\n\nmask2 \u003d df[col].str.contains(\u0027Hameenlinna\u0027)\ndf.loc[~mask1 \u0026 mask2, col] \u003d df.loc[~mask1 \u0026 mask2, col] + \u0027, Finland\u0027\n\nmask2 \u003d df[col].str.contains(\u0027Imatra\u0027)\ndf.loc[~mask1 \u0026 mask2, col] \u003d df.loc[~mask1 \u0026 mask2, col] + \u0027, Finland\u0027\n\nmask2 \u003d df[col].str.contains(\u0027Stockholm\u0027)\ndf.loc[~mask1 \u0026 mask2, col] \u003d df.loc[~mask1 \u0026 mask2, col] + \u0027, Sweden\u0027\n\nprint(\"Values in column {0} fixed.\".format(col))",
      "metadata": {
        "pycharm": {
          "metadata": false,
          "name": "#%%\n",
          "is_executing": false
        }
      }
    },
    {
      "cell_type": "markdown",
      "source": "### Extract birth city, country, and (for US and Canadian players) state or province of birth",
      "metadata": {
        "pycharm": {
          "metadata": false,
          "name": "#%% md\n"
        }
      }
    },
    {
      "cell_type": "code",
      "execution_count": 10,
      "outputs": [
        {
          "name": "stdout",
          "text": [
            "New columns created!\n"
          ],
          "output_type": "stream"
        }
      ],
      "source": "df[\u0027birth_city\u0027] \u003d \\\n    df[\u0027birthPlace\u0027].str.split(\u0027,\u0027).apply(lambda x: x[0])\n\ncol  \u003d \u0027birth_country\u0027\n\ndf[col] \u003d df[\u0027birthPlace\u0027].str.split(\u0027,\u0027).apply(lambda x: x[1])\n\nmask \u003d df[col].str.split(\u0027 \u0027).apply(lambda x: x[-1]) \u003d\u003d \u0027Can\u0027\ndf.loc[mask, \u0027birth_state\u0027] \u003d df.loc[mask, col].str.split(\u0027 \u0027).apply(lambda x: x[-3])\ndf.loc[mask, col] \u003d df.loc[mask, col].str.split(\u0027 \u0027).apply(lambda x: x[-1])\ndf.loc[mask, col] \u003d df.loc[mask, col].str.replace(\u0027Can\u0027, \u0027Canada\u0027)\n\nmask \u003d df[col].str.split(\u0027 \u0027).apply(lambda x: x[-1]) \u003d\u003d \u0027Usa\u0027\ndf.loc[mask, \u0027birth_state\u0027] \u003d df.loc[mask, col].str.split(\u0027 \u0027).apply(lambda x: x[-3])\ndf.loc[mask, col] \u003d df.loc[mask, col].str.split(\u0027 \u0027).apply(lambda x: x[-1])\ndf.loc[mask, col] \u003d df.loc[mask, col].str.upper()\n\nprint(\"New columns created!\")",
      "metadata": {
        "pycharm": {
          "metadata": false,
          "name": "#%%\n",
          "is_executing": false
        }
      }
    },
    {
      "cell_type": "markdown",
      "source": "## Fix erratic height and weight values",
      "metadata": {
        "pycharm": {
          "metadata": false,
          "name": "#%% md\n"
        }
      }
    },
    {
      "cell_type": "code",
      "execution_count": 12,
      "outputs": [
        {
          "data": {
            "text/plain": "count    11433.000000\nmean        72.679437\nstd          2.257096\nmin         65.000000\n25%         71.000000\n50%         73.000000\n75%         74.000000\nmax        150.000000\nName: height, dtype: float64"
          },
          "metadata": {},
          "output_type": "execute_result",
          "execution_count": 12
        },
        {
          "data": {
            "text/plain": "\u003cFigure size 432x288 with 1 Axes\u003e",
            "image/png": "[encoded data removed]"
          },
          "metadata": {
            "needs_background": "light"
          },
          "output_type": "display_data"
        }
      ],
      "source": "%matplotlib inline\ncol \u003d \u0027height\u0027\ndf[col].plot(kind\u003d\u0027hist\u0027, bins\u003d80,\n             title\u003d\"Height of players, raw\")\ndf[col].describe()",
      "metadata": {
        "pycharm": {
          "metadata": false,
          "name": "#%%\n",
          "is_executing": false
        }
      }
    },
    {
      "cell_type": "code",
      "execution_count": 13,
      "outputs": [
        {
          "data": {
            "text/plain": "            amateurClubName amateurLeague  birthDate  \\\n4181                  Timra        Sweden 1962-03-02   \n8919  Cherepovets Severstal        Russia 1981-06-23   \n\n                       birthPlace countryCode  csPlayerId  draftYear  \\\n4181           Federtalve, Sweden         SWE         NaN 1980-01-01   \n8919  Ust-Kamenogorsk, Kazakhstan         KAZ     45565.0 1999-01-01   \n\n      draftedByTeamId   firstName  height  ...  removedOutrightWhy  \\\n4181               15       Peter   150.0  ...                 NaN   \n8919                4  Konstantin   123.0  ...                 NaN   \n\n     roundNumber  shootsCatches  supplementalDraft  teamPickHistory triCode  \\\n4181           9              R                  N              WSH     WSH   \n8919           6              R                  N              PHI     PHI   \n\n     weight       birth_city birth_country  birth_state  \n4181  150.0       Federtalve        Sweden          NaN  \n8919  123.0  Ust-Kamenogorsk    Kazakhstan          NaN  \n\n[2 rows x 28 columns]",
            "text/html": "\u003cdiv\u003e\n\u003cstyle scoped\u003e\n    .dataframe tbody tr th:only-of-type {\n        vertical-align: middle;\n    }\n\n    .dataframe tbody tr th {\n        vertical-align: top;\n    }\n\n    .dataframe thead th {\n        text-align: right;\n    }\n\u003c/style\u003e\n\u003ctable border\u003d\"1\" class\u003d\"dataframe\"\u003e\n  \u003cthead\u003e\n    \u003ctr style\u003d\"text-align: right;\"\u003e\n      \u003cth\u003e\u003c/th\u003e\n      \u003cth\u003eamateurClubName\u003c/th\u003e\n      \u003cth\u003eamateurLeague\u003c/th\u003e\n      \u003cth\u003ebirthDate\u003c/th\u003e\n      \u003cth\u003ebirthPlace\u003c/th\u003e\n      \u003cth\u003ecountryCode\u003c/th\u003e\n      \u003cth\u003ecsPlayerId\u003c/th\u003e\n      \u003cth\u003edraftYear\u003c/th\u003e\n      \u003cth\u003edraftedByTeamId\u003c/th\u003e\n      \u003cth\u003efirstName\u003c/th\u003e\n      \u003cth\u003eheight\u003c/th\u003e\n      \u003cth\u003e...\u003c/th\u003e\n      \u003cth\u003eremovedOutrightWhy\u003c/th\u003e\n      \u003cth\u003eroundNumber\u003c/th\u003e\n      \u003cth\u003eshootsCatches\u003c/th\u003e\n      \u003cth\u003esupplementalDraft\u003c/th\u003e\n      \u003cth\u003eteamPickHistory\u003c/th\u003e\n      \u003cth\u003etriCode\u003c/th\u003e\n      \u003cth\u003eweight\u003c/th\u003e\n      \u003cth\u003ebirth_city\u003c/th\u003e\n      \u003cth\u003ebirth_country\u003c/th\u003e\n      \u003cth\u003ebirth_state\u003c/th\u003e\n    \u003c/tr\u003e\n  \u003c/thead\u003e\n  \u003ctbody\u003e\n    \u003ctr\u003e\n      \u003cth\u003e4181\u003c/th\u003e\n      \u003ctd\u003eTimra\u003c/td\u003e\n      \u003ctd\u003eSweden\u003c/td\u003e\n      \u003ctd\u003e1962-03-02\u003c/td\u003e\n      \u003ctd\u003eFedertalve, Sweden\u003c/td\u003e\n      \u003ctd\u003eSWE\u003c/td\u003e\n      \u003ctd\u003eNaN\u003c/td\u003e\n      \u003ctd\u003e1980-01-01\u003c/td\u003e\n      \u003ctd\u003e15\u003c/td\u003e\n      \u003ctd\u003ePeter\u003c/td\u003e\n      \u003ctd\u003e150.0\u003c/td\u003e\n      \u003ctd\u003e...\u003c/td\u003e\n      \u003ctd\u003eNaN\u003c/td\u003e\n      \u003ctd\u003e9\u003c/td\u003e\n      \u003ctd\u003eR\u003c/td\u003e\n      \u003ctd\u003eN\u003c/td\u003e\n      \u003ctd\u003eWSH\u003c/td\u003e\n      \u003ctd\u003eWSH\u003c/td\u003e\n      \u003ctd\u003e150.0\u003c/td\u003e\n      \u003ctd\u003eFedertalve\u003c/td\u003e\n      \u003ctd\u003eSweden\u003c/td\u003e\n      \u003ctd\u003eNaN\u003c/td\u003e\n    \u003c/tr\u003e\n    \u003ctr\u003e\n      \u003cth\u003e8919\u003c/th\u003e\n      \u003ctd\u003eCherepovets Severstal\u003c/td\u003e\n      \u003ctd\u003eRussia\u003c/td\u003e\n      \u003ctd\u003e1981-06-23\u003c/td\u003e\n      \u003ctd\u003eUst-Kamenogorsk, Kazakhstan\u003c/td\u003e\n      \u003ctd\u003eKAZ\u003c/td\u003e\n      \u003ctd\u003e45565.0\u003c/td\u003e\n      \u003ctd\u003e1999-01-01\u003c/td\u003e\n      \u003ctd\u003e4\u003c/td\u003e\n      \u003ctd\u003eKonstantin\u003c/td\u003e\n      \u003ctd\u003e123.0\u003c/td\u003e\n      \u003ctd\u003e...\u003c/td\u003e\n      \u003ctd\u003eNaN\u003c/td\u003e\n      \u003ctd\u003e6\u003c/td\u003e\n      \u003ctd\u003eR\u003c/td\u003e\n      \u003ctd\u003eN\u003c/td\u003e\n      \u003ctd\u003ePHI\u003c/td\u003e\n      \u003ctd\u003ePHI\u003c/td\u003e\n      \u003ctd\u003e123.0\u003c/td\u003e\n      \u003ctd\u003eUst-Kamenogorsk\u003c/td\u003e\n      \u003ctd\u003eKazakhstan\u003c/td\u003e\n      \u003ctd\u003eNaN\u003c/td\u003e\n    \u003c/tr\u003e\n  \u003c/tbody\u003e\n\u003c/table\u003e\n\u003cp\u003e2 rows × 28 columns\u003c/p\u003e\n\u003c/div\u003e"
          },
          "metadata": {},
          "output_type": "execute_result",
          "execution_count": 13
        }
      ],
      "source": "mask \u003d df[col] \u003e 90\ndf[mask]",
      "metadata": {
        "pycharm": {
          "metadata": false,
          "name": "#%%\n",
          "is_executing": false
        }
      }
    },
    {
      "cell_type": "code",
      "execution_count": 14,
      "outputs": [
        {
          "name": "stdout",
          "text": [
            "Erratic height values replaced with mean.\n"
          ],
          "output_type": "stream"
        }
      ],
      "source": "df.loc[mask, col] \u003d df[col].mean()\nprint(\"Erratic height values replaced with mean.\")",
      "metadata": {
        "pycharm": {
          "metadata": false,
          "name": "#%%\n",
          "is_executing": false
        }
      }
    },
    {
      "cell_type": "code",
      "execution_count": 15,
      "outputs": [
        {
          "data": {
            "text/plain": "count    11433.000000\nmean        72.668272\nstd          2.085642\nmin         65.000000\n25%         71.000000\n50%         73.000000\n75%         74.000000\nmax         81.000000\nName: height, dtype: float64"
          },
          "metadata": {},
          "output_type": "execute_result",
          "execution_count": 15
        },
        {
          "data": {
            "text/plain": "\u003cFigure size 432x288 with 1 Axes\u003e",
            "image/png": "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\u003d\u003d\n"
          },
          "metadata": {
            "needs_background": "light"
          },
          "output_type": "display_data"
        }
      ],
      "source": "df[col].plot(kind\u003d\u0027hist\u0027, bins\u003d17,\n             title\u003d\"Height of players, fixed\")\ndf[col].describe()",
      "metadata": {
        "pycharm": {
          "metadata": false,
          "name": "#%%\n",
          "is_executing": false
        }
      }
    },
    {
      "cell_type": "markdown",
      "source": "Height of players follows a normal (Gaussian) distribution, as expected.",
      "metadata": {
        "pycharm": {
          "metadata": false
        }
      }
    },
    {
      "cell_type": "markdown",
      "source": "### Fixing erratic `weight` values",
      "metadata": {
        "pycharm": {
          "metadata": false
        }
      }
    },
    {
      "cell_type": "code",
      "execution_count": 16,
      "outputs": [
        {
          "data": {
            "text/plain": "count    11433.000000\nmean       191.462258\nstd         16.237586\nmin         19.000000\n25%        180.000000\n50%        190.000000\n75%        201.000000\nmax        265.000000\nName: weight, dtype: float64"
          },
          "metadata": {},
          "output_type": "execute_result",
          "execution_count": 16
        },
        {
          "data": {
            "text/plain": "\u003cFigure size 432x288 with 1 Axes\u003e",
            "image/png": "[encoded data removed]"
          },
          "metadata": {
            "needs_background": "light"
          },
          "output_type": "display_data"
        }
      ],
      "source": "col \u003d \u0027weight\u0027\ndf[col].plot(kind\u003d\u0027hist\u0027, bins\u003d40,\n             title\u003d\"Weight of players, fixed\")\ndf[col].describe()",
      "metadata": {
        "pycharm": {
          "metadata": false,
          "name": "#%%\n",
          "is_executing": false
        }
      }
    },
    {
      "cell_type": "code",
      "execution_count": 17,
      "outputs": [
        {
          "data": {
            "text/plain": "            amateurClubName   amateurLeague  birthDate  \\\n8365             Notre Dame            NCAA 1978-06-14   \n8496                    NaN  Czech Republic 1974-02-22   \n8919  Cherepovets Severstal          Russia 1981-06-23   \n\n                       birthPlace countryCode  csPlayerId  draftYear  \\\n8365      Shaker Heights, Oh  Usa         USA     47155.0 1997-01-01   \n8496      Benesov, Czech Republic         CZE     47965.0 1997-01-01   \n8919  Ust-Kamenogorsk, Kazakhstan         KAZ     45565.0 1999-01-01   \n\n      draftedByTeamId   firstName     height  ...  removedOutrightWhy  \\\n8365               16    Benjamin  72.000000  ...                 NaN   \n8496                1         Jan  72.000000  ...                 NaN   \n8919                4  Konstantin  72.679437  ...                 NaN   \n\n     roundNumber  shootsCatches  supplementalDraft  teamPickHistory triCode  \\\n8365           5              L                  N              CHI     CHI   \n8496           9              L                  N              NJD     NJD   \n8919           6              R                  N              PHI     PHI   \n\n     weight       birth_city    birth_country  birth_state  \n8365   19.0   Shaker Heights              USA           Oh  \n8496  100.0          Benesov   Czech Republic          NaN  \n8919  123.0  Ust-Kamenogorsk       Kazakhstan          NaN  \n\n[3 rows x 28 columns]",
            "text/html": "\u003cdiv\u003e\n\u003cstyle scoped\u003e\n    .dataframe tbody tr th:only-of-type {\n        vertical-align: middle;\n    }\n\n    .dataframe tbody tr th {\n        vertical-align: top;\n    }\n\n    .dataframe thead th {\n        text-align: right;\n    }\n\u003c/style\u003e\n\u003ctable border\u003d\"1\" class\u003d\"dataframe\"\u003e\n  \u003cthead\u003e\n    \u003ctr style\u003d\"text-align: right;\"\u003e\n      \u003cth\u003e\u003c/th\u003e\n      \u003cth\u003eamateurClubName\u003c/th\u003e\n      \u003cth\u003eamateurLeague\u003c/th\u003e\n      \u003cth\u003ebirthDate\u003c/th\u003e\n      \u003cth\u003ebirthPlace\u003c/th\u003e\n      \u003cth\u003ecountryCode\u003c/th\u003e\n      \u003cth\u003ecsPlayerId\u003c/th\u003e\n      \u003cth\u003edraftYear\u003c/th\u003e\n      \u003cth\u003edraftedByTeamId\u003c/th\u003e\n      \u003cth\u003efirstName\u003c/th\u003e\n      \u003cth\u003eheight\u003c/th\u003e\n      \u003cth\u003e...\u003c/th\u003e\n      \u003cth\u003eremovedOutrightWhy\u003c/th\u003e\n      \u003cth\u003eroundNumber\u003c/th\u003e\n      \u003cth\u003eshootsCatches\u003c/th\u003e\n      \u003cth\u003esupplementalDraft\u003c/th\u003e\n      \u003cth\u003eteamPickHistory\u003c/th\u003e\n      \u003cth\u003etriCode\u003c/th\u003e\n      \u003cth\u003eweight\u003c/th\u003e\n      \u003cth\u003ebirth_city\u003c/th\u003e\n      \u003cth\u003ebirth_country\u003c/th\u003e\n      \u003cth\u003ebirth_state\u003c/th\u003e\n    \u003c/tr\u003e\n  \u003c/thead\u003e\n  \u003ctbody\u003e\n    \u003ctr\u003e\n      \u003cth\u003e8365\u003c/th\u003e\n      \u003ctd\u003eNotre Dame\u003c/td\u003e\n      \u003ctd\u003eNCAA\u003c/td\u003e\n      \u003ctd\u003e1978-06-14\u003c/td\u003e\n      \u003ctd\u003eShaker Heights, Oh  Usa\u003c/td\u003e\n      \u003ctd\u003eUSA\u003c/td\u003e\n      \u003ctd\u003e47155.0\u003c/td\u003e\n      \u003ctd\u003e1997-01-01\u003c/td\u003e\n      \u003ctd\u003e16\u003c/td\u003e\n      \u003ctd\u003eBenjamin\u003c/td\u003e\n      \u003ctd\u003e72.000000\u003c/td\u003e\n      \u003ctd\u003e...\u003c/td\u003e\n      \u003ctd\u003eNaN\u003c/td\u003e\n      \u003ctd\u003e5\u003c/td\u003e\n      \u003ctd\u003eL\u003c/td\u003e\n      \u003ctd\u003eN\u003c/td\u003e\n      \u003ctd\u003eCHI\u003c/td\u003e\n      \u003ctd\u003eCHI\u003c/td\u003e\n      \u003ctd\u003e19.0\u003c/td\u003e\n      \u003ctd\u003eShaker Heights\u003c/td\u003e\n      \u003ctd\u003eUSA\u003c/td\u003e\n      \u003ctd\u003eOh\u003c/td\u003e\n    \u003c/tr\u003e\n    \u003ctr\u003e\n      \u003cth\u003e8496\u003c/th\u003e\n      \u003ctd\u003eNaN\u003c/td\u003e\n      \u003ctd\u003eCzech Republic\u003c/td\u003e\n      \u003ctd\u003e1974-02-22\u003c/td\u003e\n      \u003ctd\u003eBenesov, Czech Republic\u003c/td\u003e\n      \u003ctd\u003eCZE\u003c/td\u003e\n      \u003ctd\u003e47965.0\u003c/td\u003e\n      \u003ctd\u003e1997-01-01\u003c/td\u003e\n      \u003ctd\u003e1\u003c/td\u003e\n      \u003ctd\u003eJan\u003c/td\u003e\n      \u003ctd\u003e72.000000\u003c/td\u003e\n      \u003ctd\u003e...\u003c/td\u003e\n      \u003ctd\u003eNaN\u003c/td\u003e\n      \u003ctd\u003e9\u003c/td\u003e\n      \u003ctd\u003eL\u003c/td\u003e\n      \u003ctd\u003eN\u003c/td\u003e\n      \u003ctd\u003eNJD\u003c/td\u003e\n      \u003ctd\u003eNJD\u003c/td\u003e\n      \u003ctd\u003e100.0\u003c/td\u003e\n      \u003ctd\u003eBenesov\u003c/td\u003e\n      \u003ctd\u003eCzech Republic\u003c/td\u003e\n      \u003ctd\u003eNaN\u003c/td\u003e\n    \u003c/tr\u003e\n    \u003ctr\u003e\n      \u003cth\u003e8919\u003c/th\u003e\n      \u003ctd\u003eCherepovets Severstal\u003c/td\u003e\n      \u003ctd\u003eRussia\u003c/td\u003e\n      \u003ctd\u003e1981-06-23\u003c/td\u003e\n      \u003ctd\u003eUst-Kamenogorsk, Kazakhstan\u003c/td\u003e\n      \u003ctd\u003eKAZ\u003c/td\u003e\n      \u003ctd\u003e45565.0\u003c/td\u003e\n      \u003ctd\u003e1999-01-01\u003c/td\u003e\n      \u003ctd\u003e4\u003c/td\u003e\n      \u003ctd\u003eKonstantin\u003c/td\u003e\n      \u003ctd\u003e72.679437\u003c/td\u003e\n      \u003ctd\u003e...\u003c/td\u003e\n      \u003ctd\u003eNaN\u003c/td\u003e\n      \u003ctd\u003e6\u003c/td\u003e\n      \u003ctd\u003eR\u003c/td\u003e\n      \u003ctd\u003eN\u003c/td\u003e\n      \u003ctd\u003ePHI\u003c/td\u003e\n      \u003ctd\u003ePHI\u003c/td\u003e\n      \u003ctd\u003e123.0\u003c/td\u003e\n      \u003ctd\u003eUst-Kamenogorsk\u003c/td\u003e\n      \u003ctd\u003eKazakhstan\u003c/td\u003e\n      \u003ctd\u003eNaN\u003c/td\u003e\n    \u003c/tr\u003e\n  \u003c/tbody\u003e\n\u003c/table\u003e\n\u003cp\u003e3 rows × 28 columns\u003c/p\u003e\n\u003c/div\u003e"
          },
          "metadata": {},
          "output_type": "execute_result",
          "execution_count": 17
        }
      ],
      "source": "mask \u003d df[col] \u003c 130\ndf[mask]",
      "metadata": {
        "pycharm": {
          "metadata": false,
          "name": "#%%\n",
          "is_executing": false
        }
      }
    },
    {
      "cell_type": "code",
      "execution_count": 18,
      "outputs": [
        {
          "name": "stdout",
          "text": [
            "Erratic weight values replaced with mean.\n"
          ],
          "output_type": "stream"
        }
      ],
      "source": "df.loc[mask, col] \u003d df[col].mean()\nprint(\"Erratic weight values replaced with mean.\")",
      "metadata": {
        "pycharm": {
          "metadata": false,
          "name": "#%%\n",
          "is_executing": false
        }
      }
    },
    {
      "cell_type": "code",
      "execution_count": 19,
      "outputs": [
        {
          "data": {
            "text/plain": "count    11433.000000\nmean       191.491331\nstd         16.121875\nmin        137.000000\n25%        180.000000\n50%        190.000000\n75%        201.000000\nmax        265.000000\nName: weight, dtype: float64"
          },
          "metadata": {},
          "output_type": "execute_result",
          "execution_count": 19
        },
        {
          "data": {
            "text/plain": "\u003cFigure size 432x288 with 1 Axes\u003e",
            "image/png": "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\u003d\u003d\n"
          },
          "metadata": {
            "needs_background": "light"
          },
          "output_type": "display_data"
        }
      ],
      "source": "df[col].plot(kind\u003d\u0027hist\u0027, bins\u003d25,\n             title\u003d\"Weight of players, fixed\")\ndf[col].describe()",
      "metadata": {
        "pycharm": {
          "metadata": false,
          "name": "#%%\n",
          "is_executing": false
        }
      }
    },
    {
      "cell_type": "markdown",
      "source": "Weight of players follows a normal (Gaussian) distribution, as expected.",
      "metadata": {
        "pycharm": {
          "metadata": false
        }
      }
    },
    {
      "cell_type": "markdown",
      "source": "### Remove redundant positions\nAll players capable of playing the center are assumed to be centers, LW/RW are assumed to be right wings, mixed D positions are assumed to be D.",
      "metadata": {
        "pycharm": {
          "metadata": false
        }
      }
    },
    {
      "cell_type": "code",
      "execution_count": 20,
      "outputs": [
        {
          "data": {
            "text/plain": "D        3758\nC        2437\nLW       1891\nRW       1837\nG        1142\nF         357\nC/LW       30\nC/RW       17\nLW/RW      13\nLW/D        1\nD/F         1\nName: position, dtype: int64"
          },
          "metadata": {},
          "output_type": "execute_result",
          "execution_count": 20
        }
      ],
      "source": "col \u003d \u0027position\u0027\ndf[col].value_counts()",
      "metadata": {
        "pycharm": {
          "metadata": false,
          "name": "#%%\n",
          "is_executing": false
        }
      }
    },
    {
      "cell_type": "code",
      "execution_count": 21,
      "outputs": [
        {
          "data": {
            "text/plain": "D     3760\nC     2841\nLW    1891\nRW    1850\nG     1142\nName: position, dtype: int64"
          },
          "metadata": {},
          "output_type": "execute_result",
          "execution_count": 21
        }
      ],
      "source": "df[col] \u003d df[col].str.replace(\"C/LW\", \"C\")\ndf[col] \u003d df[col].str.replace(\"C/RW\", \"C\")\ndf[col] \u003d df[col].str.replace(\"LW/RW\", \"RW\")\ndf[col] \u003d df[col].str.replace(\"LW/D\", \"D\")\ndf[col] \u003d df[col].str.replace(\"D/F\", \"D\")\ndf[col] \u003d df[col].str.replace(\"F\", \"C\")\ndf[col].value_counts()",
      "metadata": {
        "pycharm": {
          "metadata": false,
          "name": "#%%\n",
          "is_executing": false
        }
      }
    },
    {
      "cell_type": "markdown",
      "source": "## Produce new feature `first_round`\n`1st_round`: boolean, whether the prospect was selected in the $1^{st}$ round\n* one-hot encoding for $1^{st}$ round picks\n* True if `round` \u003d\u003d 1, False otherwise",
      "metadata": {
        "pycharm": {
          "metadata": false,
          "name": "#%% md\n"
        }
      }
    },
    {
      "cell_type": "code",
      "execution_count": 24,
      "outputs": [
        {
          "name": "stdout",
          "text": [
            "New column added!\n"
          ],
          "output_type": "stream"
        }
      ],
      "source": "df[\u0027first_round\u0027] \u003d df[\u0027roundNumber\u0027] \u003d\u003d 1\nprint(\"New column added!\")",
      "metadata": {
        "pycharm": {
          "metadata": false,
          "name": "#%%\n",
          "is_executing": false
        }
      }
    },
    {
      "cell_type": "markdown",
      "source": "## Filter and rename columns",
      "metadata": {
        "pycharm": {
          "metadata": false
        }
      }
    },
    {
      "cell_type": "code",
      "execution_count": 28,
      "outputs": [
        {
          "name": "stdout",
          "text": [
            "DataFrame columns filtered and renamed.\n"
          ],
          "output_type": "stream"
        }
      ],
      "source": "cols \u003d [\u0027csPlayerId\u0027, \u0027playerName\u0027, \u0027countryCode\u0027, \n        \u0027birthDate\u0027, \u0027birthPlace\u0027, \u0027birth_city\u0027, \n        \u0027birth_state\u0027, \u0027birth_country\u0027,\n        \u0027amateurClubName\u0027, \u0027amateurLeague\u0027,\n        \u0027draftYear\u0027, \u0027draftedByTeamId\u0027, \n        \u0027overallPickNumber\u0027, \u0027roundNumber\u0027, \u0027pickInRound\u0027,\n        \u0027height\u0027, \u0027weight\u0027, \u0027position\u0027, \u0027shootsCatches\u0027]\ncol_names \u003d [\u0027csPlayerId\u0027, \u0027name\u0027, \u0027nat\u0027, \n             \u0027b_date\u0027, \u0027b_place\u0027, \u0027b_city\u0027, \n             \u0027b_state\u0027, \u0027b_country\u0027,\n             \u0027ateam\u0027, \u0027league\u0027, \n             \u0027year\u0027, \u0027dteam\u0027, \n             \u0027overall\u0027, \u0027round\u0027, \u0027in_round\u0027, \n             \u0027height\u0027, \u0027weight\u0027, \u0027pos\u0027, \u0027shoots\u0027]\n\ndf_filtered \u003d df[cols].copy()\ndf_filtered.columns \u003d col_names\nprint(\"DataFrame columns filtered and renamed.\")",
      "metadata": {
        "pycharm": {
          "metadata": false,
          "name": "#%%\n",
          "is_executing": false
        }
      }
    },
    {
      "cell_type": "markdown",
      "source": "## Record results to a new .csv file",
      "metadata": {
        "pycharm": {
          "metadata": false
        }
      }
    },
    {
      "cell_type": "code",
      "execution_count": 29,
      "outputs": [
        {
          "name": "stdout",
          "text": [
            "DataFrame saved to file:\n data/nhl_api/nhl_draft_all_precleaned.csv \ntook 0.59 seconds\n"
          ],
          "output_type": "stream"
        }
      ],
      "source": "save_path \u003d \u0027data/nhl_api/nhl_draft_all_precleaned.csv\u0027\nt \u003d time()\ndf_filtered.to_csv(save_path, index\u003dFalse)\nelapsed \u003d time() - t\nprint(\"DataFrame saved to file:\\n\", save_path,\n      \"\\ntook {0:.2f} seconds\".format(elapsed))",
      "metadata": {
        "pycharm": {
          "metadata": false,
          "name": "#%%\n",
          "is_executing": false
        }
      }
    }
  ],
  "metadata": {
    "language_info": {
      "codemirror_mode": {
        "name": "ipython",
        "version": 2
      },
      "file_extension": ".py",
      "mimetype": "text/x-python",
      "name": "python",
      "nbconvert_exporter": "python",
      "pygments_lexer": "ipython2",
      "version": "2.7.6"
    },
    "kernelspec": {
      "name": "python3",
      "language": "python",
      "display_name": "Python 3"
    }
  },
  "nbformat": 4,
  "nbformat_minor": 0
}