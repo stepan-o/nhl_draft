{
  "cells": [
    {
      "cell_type": "markdown",
      "source": "# NHL 2009-2018 Draft dataset\n\nThis notebook describes the process of retrieval\n\n# NHL API\n\nNHL provides two main APIs: Stats API and Records API. Description of some of their endpoints is provided below (taken from [Philip Bulsink](https://gitlab.com/dword4/nhlapi)).",
      "metadata": {
        "pycharm": {
          "metadata": false,
          "name": "#%% md\n"
        }
      }
    },
    {
      "cell_type": "code",
      "execution_count": 1,
      "metadata": {
        "collapsed": true,
        "pycharm": {
          "is_executing": false
        }
      },
      "outputs": [],
      "source": "import requests\nimport pandas as pd\nfrom time import time\nimport os"
    },
    {
      "cell_type": "markdown",
      "source": "## NHL Stats API endpoints\n\nOnly some endpoints are presented here, full description can be found [here](https://gitlab.com/dword4/nhlapi/blob/master/stats-api.md).\n\n* Teams  \n\nGET https://statsapi.web.nhl.com/api/v1/teams   \nReturns a list of data about all teams including their id, venue details, division, conference and franchise information.  \n\nGET https://statsapi.web.nhl.com/api/v1/teams/ID/roster  \nReturns entire roster for a team including id value, name, jersey number and position details.\n\n* People\n\n**GET** https://statsapi.web.nhl.com/api/v1/people/ID  \nGets details for a player, must specify the id value in order to return data.\n\n**GET** https://statsapi.web.nhl.com/api/v1/people/ID/stats  \nComplex endpoint with lots of append options to change what kind of stats you wish to obtain\n\n_Modifiers_  \n?stats\u003dstatsSingleSeason\u0026season\u003d19801981   \nObtains single season statistics for a player  \n\n?stats\u003dhomeAndAway\u0026season\u003d20162017  \nProvides a split between home and away games.\n\n?stats\u003dwinLoss\u0026season\u003d20162017  \nVery similar to the previous modifier except it provides the W/L/OT split instead of Home and Away\n\n?stats\u003dbyMonth\u0026season\u003d20162017  \nMonthly split of stats\n\n?stats\u003dbyDayOfWeek\u0026season\u003d20162017  \nSplit done by day of the week\n\n?stats\u003dvsDivision\u0026season\u003d20162017  \nDivision stats split\n\n?stats\u003dvsConference\u0026season\u003d20162017  \nConference stats split\n\n?stats\u003dvsTeam\u0026season\u003d20162017  \nConference stats split\n\n?stats\u003dgameLog\u0026season\u003d20162017  \nProvides a game log showing stats for each game of a season\n\n?stats\u003dregularSeasonStatRankings\u0026season\u003d20162017   \nReturns where someone stands vs the rest of the league for a specific regularSeasonStatRankings\n\n?stats\u003dgoalsByGameSituation\u0026season\u003d20162017  \nShows number on when goals for a\nplayer happened like how many in the shootout, how many in each period, etc.\n\n?stats\u003donPaceRegularSeason\u0026season\u003d20172018  \nThis only works with the current in-progress season and shows projected totals based on current onPaceRegularSeason\n\n* Draft\n\nGET https://statsapi.web.nhl.com/api/v1/draft  \nGet round-by-round data for current year\u0027s NHL Entry Draft.\n\n**GET** https://statsapi.web.nhl.com/api/v1/draft/YEAR  \nTakes a YYYY format year and returns draft data\n\n* Prospects\n\n**GET** https://statsapi.web.nhl.com/api/v1/draft/prospects  \nGet all NHL Entry Draft prospects.\n\nGET https://statsapi.web.nhl.com/api/v1/draft/prospects/ID  \nGet an NHL Entry Draft prospect.",
      "metadata": {
        "pycharm": {
          "metadata": false,
          "name": "#%% md\n"
        }
      }
    },
    {
      "cell_type": "markdown",
      "source": "## NHL Records API endpoints\n\nOnly some endpoints are presented here, full description can be found [here](https://gitlab.com/dword4/nhlapi/blob/master/records-api.md).\n\nAll queries are prefixed with https://records.nhl.com/site/api and are GET\nrequests unless otherwise noted.\n\n**Filtering**\n\nThis is slightly different than the normal NHL API, see the following example:\nhttps://records.nhl.com/site/api/draft?cayenneExp\u003ddraftYear\u003d2017%20and%20draftedByTeamId\u003d15\n\nThe %20 value translates to a space, this needs to be taken into account as removing the spaces\nwill break the query, so anything after cayenneExp can have spaces when separating two\nor more conditions.\n\nOften you can filter by information returned in an unfiltered query so using\nthe draft example you can append roundNumber\u003d4 onto the cayenneExp to only look at 4th\nround selections.\n\n* Draft\n\n**GET** https://records.nhl.com/site/api/draft  \nReturns ALOT of draft data, looks to be every pick ever\n\n_Filtering_  \n?cayenneExp\u003ddraftYear\u003d2017  \nThis filters by a single year.\n\ndraftedByTeamId\u003dID  \ndrill down to a specific teams drafting\n",
      "metadata": {
        "pycharm": {
          "metadata": false,
          "name": "#%% md\n"
        }
      }
    },
    {
      "cell_type": "code",
      "execution_count": 3,
      "outputs": [
        {
          "data": {
            "text/plain": "[\u0027.git\u0027,\n \u0027.gitattributes\u0027,\n \u0027.gitignore\u0027,\n \u0027.idea\u0027,\n \u0027data\u0027,\n \u0027design\u0027,\n \u0027main.py\u0027,\n \u0027models\u0027,\n \u0027notebooks\u0027,\n \u0027README.md\u0027,\n \u0027requirements.txt\u0027]"
          },
          "metadata": {},
          "output_type": "execute_result",
          "execution_count": 3
        }
      ],
      "source": "os.chdir(\u0027Documents/repos/nhl_draft\u0027)\nos.listdir()",
      "metadata": {
        "pycharm": {
          "metadata": false,
          "name": "#%%\n",
          "is_executing": false
        }
      }
    },
    {
      "cell_type": "code",
      "execution_count": 14,
      "outputs": [
        {
          "name": "stdout",
          "text": [
            "JSON received from NHL API.took 0.94 seconds.\n----- DataFrame with NHL Draft Data loaded\nin 0.08 seconds\nwith 11,587 rows\nand 25 columns\n-- Column names:\n Index([\u0027amateurClubName\u0027, \u0027amateurLeague\u0027, \u0027birthDate\u0027, \u0027birthPlace\u0027,\n       \u0027countryCode\u0027, \u0027csPlayerId\u0027, \u0027draftYear\u0027, \u0027draftedByTeamId\u0027,\n       \u0027firstName\u0027, \u0027height\u0027, \u0027id\u0027, \u0027lastName\u0027, \u0027overallPickNumber\u0027,\n       \u0027pickInRound\u0027, \u0027playerId\u0027, \u0027playerName\u0027, \u0027position\u0027, \u0027removedOutright\u0027,\n       \u0027removedOutrightWhy\u0027, \u0027roundNumber\u0027, \u0027shootsCatches\u0027,\n       \u0027supplementalDraft\u0027, \u0027teamPickHistory\u0027, \u0027triCode\u0027, \u0027weight\u0027],\n      dtype\u003d\u0027object\u0027)\n",
            "saved to file:\n ../../data/nhl_api/nhl_draft_all.csv\n"
          ],
          "output_type": "stream"
        }
      ],
      "source": "url \u003d \u0027https://records.nhl.com/site/api/draft\u0027\nsave_path \u003d \u0027data/nhl_api/nhl_draft_all.csv\u0027\n\nt \u003d time()\nr \u003d requests.get(url)\njson_data \u003d r.json()\nelapsed \u003d time() - t\nprint(\"JSON received from NHL API.\"\n      \"took {0:.2f} seconds.\"\n      .format(elapsed))\nt \u003d time()\ndf_raw \u003d pd.DataFrame(json_data[\u0027data\u0027])\nelapsed \u003d time() - t\nprint(\"----- DataFrame with NHL Draft Data loaded\"\n      \"\\nin {0:.2f} seconds\".format(elapsed) + \n      \"\\nwith {0:,} rows\\nand {1:,} columns\"\n      .format(df_raw.shape[0], df_raw.shape[1]) + \n      \"\\n-- Column names:\\n\", df_raw.columns)\ndf_raw.to_csv(save_path, index\u003dFalse)\nprint(\"saved to file:\\n\", save_path)",
      "metadata": {
        "pycharm": {
          "metadata": false,
          "name": "#%%\n",
          "is_executing": false
        }
      }
    },
    {
      "cell_type": "markdown",
      "source": "## Teams\n### Get team info from the NHL Stats API Teams endpoint",
      "metadata": {
        "pycharm": {
          "metadata": false,
          "name": "#%% md\n"
        }
      }
    },
    {
      "cell_type": "code",
      "execution_count": 13,
      "outputs": [
        {
          "name": "stdout",
          "text": [
            "JSON received from NHL API.\ntook 0.15 seconds.\n"
          ],
          "output_type": "stream"
        },
        {
          "data": {
            "text/plain": "\u0027NHL and the NHL Shield are registered trademarks of the National Hockey League. NHL and NHL team marks are the property of the NHL and its teams. © NHL 2019. All Rights Reserved.\u0027"
          },
          "metadata": {},
          "output_type": "execute_result",
          "execution_count": 13
        }
      ],
      "source": "url \u003d \u0027https://statsapi.web.nhl.com/api/v1/teams\u0027\nsave_path \u003d \u0027data/nhl_api/teams.csv\u0027\n\nt \u003d time()\nr \u003d requests.get(url)\njson_data \u003d r.json()\nelapsed \u003d time() - t\nprint(\"JSON received from NHL API.\"\n      \"\\ntook {0:.2f} seconds.\"\n      .format(elapsed))\njson_data[\u0027copyright\u0027]",
      "metadata": {
        "pycharm": {
          "metadata": false,
          "name": "#%%\n",
          "is_executing": false
        }
      }
    },
    {
      "cell_type": "markdown",
      "source": "### Save results to a .csv file",
      "metadata": {
        "pycharm": {
          "metadata": false,
          "name": "#%% md\n"
        }
      }
    },
    {
      "cell_type": "code",
      "execution_count": 11,
      "outputs": [
        {
          "name": "stdout",
          "text": [
            "----- DataFrame with NHL Draft Data loaded\nin 0.01 seconds\nwith 31 rows\nand 15 columns\n-- Column names:\n Index([\u0027abbreviation\u0027, \u0027active\u0027, \u0027conference\u0027, \u0027division\u0027, \u0027firstYearOfPlay\u0027,\n       \u0027franchise\u0027, \u0027franchiseId\u0027, \u0027id\u0027, \u0027link\u0027, \u0027locationName\u0027, \u0027name\u0027,\n       \u0027officialSiteUrl\u0027, \u0027shortName\u0027, \u0027teamName\u0027, \u0027venue\u0027],\n      dtype\u003d\u0027object\u0027)\nsaved to file:\n data/nhl_api/teams.csv\n"
          ],
          "output_type": "stream"
        }
      ],
      "source": "t \u003d time()\ndf_raw \u003d pd.DataFrame(json_data[\u0027teams\u0027])\nelapsed \u003d time() - t\nprint(\"----- DataFrame with NHL Draft Data loaded\"\n      \"\\nin {0:.2f} seconds\".format(elapsed) + \n      \"\\nwith {0:,} rows\\nand {1:,} columns\"\n      .format(df_raw.shape[0], df_raw.shape[1]) + \n      \"\\n-- Column names:\\n\", df_raw.columns)\ndf_raw.to_csv(save_path, index\u003dFalse)\nprint(\"saved to file:\\n\", save_path)",
      "metadata": {
        "pycharm": {
          "metadata": false,
          "name": "#%%\n",
          "is_executing": false
        }
      }
    },
    {
      "cell_type": "markdown",
      "source": "## Prospects\n### Get NHL Draft Prospects info from the NHL Stats API Teams endpoint",
      "metadata": {
        "pycharm": {
          "metadata": false,
          "name": "#%% md\n"
        }
      }
    },
    {
      "cell_type": "code",
      "execution_count": 18,
      "outputs": [
        {
          "name": "stdout",
          "text": [
            "JSON received from NHL API.\ntook 0.63 seconds.\n"
          ],
          "output_type": "stream"
        },
        {
          "data": {
            "text/plain": "\u0027NHL and the NHL Shield are registered trademarks of the National Hockey League. NHL and NHL team marks are the property of the NHL and its teams. © NHL 2019. All Rights Reserved.\u0027"
          },
          "metadata": {},
          "output_type": "execute_result",
          "execution_count": 18
        }
      ],
      "source": "url \u003d \u0027https://statsapi.web.nhl.com/api/v1/draft/prospects\u0027\nsave_path \u003d \u0027data/nhl_api/prospects.csv\u0027\n\nt \u003d time()\nr \u003d requests.get(url)\njson_data \u003d r.json()\nelapsed \u003d time() - t\nprint(\"JSON received from NHL API.\"\n      \"\\ntook {0:.2f} seconds.\"\n      .format(elapsed))\njson_data[\u0027copyright\u0027]",
      "metadata": {
        "pycharm": {
          "metadata": false,
          "name": "#%%\n",
          "is_executing": false
        }
      }
    },
    {
      "cell_type": "markdown",
      "source": "### Save results to a .csv file",
      "metadata": {
        "pycharm": {
          "metadata": false
        }
      }
    },
    {
      "cell_type": "code",
      "execution_count": 21,
      "outputs": [
        {
          "name": "stdout",
          "text": [
            "----- DataFrame with NHL Draft Data loaded\nin 0.07 seconds\nwith 9,632 rows\nand 20 columns\n-- Column names:\n Index([\u0027amateurLeague\u0027, \u0027amateurTeam\u0027, \u0027birthCity\u0027, \u0027birthCountry\u0027,\n       \u0027birthDate\u0027, \u0027birthStateProvince\u0027, \u0027draftStatus\u0027, \u0027firstName\u0027,\n       \u0027fullName\u0027, \u0027height\u0027, \u0027id\u0027, \u0027lastName\u0027, \u0027link\u0027, \u0027nationality\u0027,\n       \u0027nhlPlayerId\u0027, \u0027primaryPosition\u0027, \u0027prospectCategory\u0027, \u0027ranks\u0027,\n       \u0027shootsCatches\u0027, \u0027weight\u0027],\n      dtype\u003d\u0027object\u0027)\n",
            "saved to file:\n data/nhl_api/prospects.csv\n"
          ],
          "output_type": "stream"
        }
      ],
      "source": "t \u003d time()\ndf_raw \u003d pd.DataFrame(json_data[\u0027prospects\u0027])\nelapsed \u003d time() - t\nprint(\"----- DataFrame with NHL Draft Data loaded\"\n      \"\\nin {0:.2f} seconds\".format(elapsed) + \n      \"\\nwith {0:,} rows\\nand {1:,} columns\"\n      .format(df_raw.shape[0], df_raw.shape[1]) + \n      \"\\n-- Column names:\\n\", df_raw.columns)\ndf_raw.to_csv(save_path, index\u003dFalse)\nprint(\"saved to file:\\n\", save_path)",
      "metadata": {
        "pycharm": {
          "metadata": false,
          "name": "#%%\n",
          "is_executing": false
        }
      }
    },
    {
      "cell_type": "markdown",
      "source": "## Attendance\n### Get arena attendance info from the NHL Records API Attendance endpoint\nSeems to return only limited information, perhaps the call to the API needs to be modified.",
      "metadata": {
        "pycharm": {
          "metadata": false,
          "name": "#%% md\n",
          "is_executing": false
        }
      }
    },
    {
      "cell_type": "code",
      "execution_count": 26,
      "outputs": [
        {
          "name": "stdout",
          "text": [
            "JSON received from NHL API.\ntook 0.20 seconds.\n"
          ],
          "output_type": "stream"
        }
      ],
      "source": "url \u003d \u0027https://records.nhl.com/site/api/attendance\u0027\nsave_path \u003d \u0027data/nhl_api/attendance.csv\u0027\n\nt \u003d time()\nr \u003d requests.get(url)\njson_data \u003d r.json()\nelapsed \u003d time() - t\nprint(\"JSON received from NHL API.\"\n      \"\\ntook {0:.2f} seconds.\"\n      .format(elapsed))",
      "metadata": {
        "pycharm": {
          "metadata": false,
          "name": "#%%\n",
          "is_executing": false
        }
      }
    },
    {
      "cell_type": "markdown",
      "source": "### Save results to a .csv file",
      "metadata": {
        "pycharm": {
          "metadata": false
        }
      }
    },
    {
      "cell_type": "code",
      "execution_count": 27,
      "outputs": [
        {
          "name": "stdout",
          "text": [
            "----- DataFrame with NHL Draft Data loaded\nin 0.01 seconds\nwith 44 rows\nand 5 columns\n-- Column names:\n Index([\u0027id\u0027, \u0027playoffAttendance\u0027, \u0027regularAttendance\u0027, \u0027seasonId\u0027,\n       \u0027totalAttendance\u0027],\n      dtype\u003d\u0027object\u0027)\nsaved to file:\n data/nhl_api/attendance.csv\n"
          ],
          "output_type": "stream"
        }
      ],
      "source": "t \u003d time()\ndf_raw \u003d pd.DataFrame(json_data[\u0027data\u0027])\nelapsed \u003d time() - t\nprint(\"----- DataFrame with NHL Draft Data loaded\"\n      \"\\nin {0:.2f} seconds\".format(elapsed) + \n      \"\\nwith {0:,} rows\\nand {1:,} columns\"\n      .format(df_raw.shape[0], df_raw.shape[1]) + \n      \"\\n-- Column names:\\n\", df_raw.columns)\ndf_raw.to_csv(save_path, index\u003dFalse)\nprint(\"saved to file:\\n\", save_path)",
      "metadata": {
        "pycharm": {
          "metadata": false,
          "name": "#%%\n",
          "is_executing": false
        }
      }
    },
    {
      "cell_type": "code",
      "execution_count": 28,
      "outputs": [
        {
          "data": {
            "text/plain": "    id  playoffAttendance  regularAttendance  seasonId  totalAttendance\n0    1          1606364.0         21545024.0  20162017       23151388.0\n1    2          1684638.0         21615397.0  20152016       23300035.0\n2    3          1701336.0         21533419.0  20142015       23234755.0\n3    4          1775557.0         21758902.0  20132014       23534459.0\n4    5          1631683.0         12792723.0  20122013       14424406.0\n5    6          1592270.0         21468141.0  20112012       23060411.0\n6    7          1667624.0         21113926.0  20102011       22781550.0\n7    8          1702371.0         20996455.0  20092010       22698826.0\n8    9          1639602.0         21475223.0  20082009       23114825.0\n9   10          1587054.0         21236255.0  20072008       22823309.0\n10  11          1496501.0         20861787.0  20062007       22358288.0\n11  12          1530405.0         20854169.0  20052006       22384574.0\n12  13                NaN                NaN  20042005              NaN\n13  14          1708691.0         20356199.0  20032004       22064890.0\n14  15          1636120.0         20408704.0  20022003       22044824.0\n15  16          1691174.0         20614613.0  20012002       22305787.0\n16  17          1584011.0         20373379.0  20002001       21957390.0\n17  18          1524629.0         18800139.0  19992000       20324768.0\n18  19          1509411.0         18001741.0  19981999       19511152.0\n19  20          1507416.0         17264678.0  19971998       18772094.0\n20  21          1494878.0         17640529.0  19961997       19135407.0\n21  22          1540140.0         17041614.0  19951996       18581754.0\n22  23          1329130.0          9233884.0  19941995       10563014.0\n23  24          1440095.0         16105604.0  19931994       17545699.0\n24  25          1346034.0         14158177.0  19921993       15504211.0\n25  26          1327920.0         12769676.0  19911992       14097596.0\n26  27          1442203.0         12343897.0  19901991       13786100.0\n27  28          1355593.0         12579651.0  19891990       13935244.0\n28  29          1327214.0         12417969.0  19881989       13745183.0\n29  30          1336901.0         12117512.0  19871988       13454413.0\n30  31          1383967.0         11855880.0  19861987       13239847.0\n31  32          1152503.0         11621000.0  19851986       12773503.0\n32  33          1107500.0         11633730.0  19841985       12741230.0\n33  34          1107400.0         11359386.0  19831984       12466786.0\n34  35          1088222.0         10940610.0  19821983       12028832.0\n35  36          1058948.0         10710894.0  19811982       11769842.0\n36  37           966390.0         10726198.0  19801981       11692588.0\n37  38           976699.0         10533623.0  19791980       11510322.0\n38  39           694521.0          7758053.0  19781979        8452574.0\n39  40           686634.0          8526564.0  19771978        9213198.0\n40  41           646279.0          8563890.0  19761977        9210169.0\n41  42           726279.0          9103761.0  19751976        9830040.0\n42  43          1517965.0         22174362.0  20172018       23692327.0\n43  45          1574688.0         22186851.0  20182019       23761539.0",
            "text/html": "\u003cdiv\u003e\n\u003cstyle scoped\u003e\n    .dataframe tbody tr th:only-of-type {\n        vertical-align: middle;\n    }\n\n    .dataframe tbody tr th {\n        vertical-align: top;\n    }\n\n    .dataframe thead th {\n        text-align: right;\n    }\n\u003c/style\u003e\n\u003ctable border\u003d\"1\" class\u003d\"dataframe\"\u003e\n  \u003cthead\u003e\n    \u003ctr style\u003d\"text-align: right;\"\u003e\n      \u003cth\u003e\u003c/th\u003e\n      \u003cth\u003eid\u003c/th\u003e\n      \u003cth\u003eplayoffAttendance\u003c/th\u003e\n      \u003cth\u003eregularAttendance\u003c/th\u003e\n      \u003cth\u003eseasonId\u003c/th\u003e\n      \u003cth\u003etotalAttendance\u003c/th\u003e\n    \u003c/tr\u003e\n  \u003c/thead\u003e\n  \u003ctbody\u003e\n    \u003ctr\u003e\n      \u003cth\u003e0\u003c/th\u003e\n      \u003ctd\u003e1\u003c/td\u003e\n      \u003ctd\u003e1606364.0\u003c/td\u003e\n      \u003ctd\u003e21545024.0\u003c/td\u003e\n      \u003ctd\u003e20162017\u003c/td\u003e\n      \u003ctd\u003e23151388.0\u003c/td\u003e\n    \u003c/tr\u003e\n    \u003ctr\u003e\n      \u003cth\u003e1\u003c/th\u003e\n      \u003ctd\u003e2\u003c/td\u003e\n      \u003ctd\u003e1684638.0\u003c/td\u003e\n      \u003ctd\u003e21615397.0\u003c/td\u003e\n      \u003ctd\u003e20152016\u003c/td\u003e\n      \u003ctd\u003e23300035.0\u003c/td\u003e\n    \u003c/tr\u003e\n    \u003ctr\u003e\n      \u003cth\u003e2\u003c/th\u003e\n      \u003ctd\u003e3\u003c/td\u003e\n      \u003ctd\u003e1701336.0\u003c/td\u003e\n      \u003ctd\u003e21533419.0\u003c/td\u003e\n      \u003ctd\u003e20142015\u003c/td\u003e\n      \u003ctd\u003e23234755.0\u003c/td\u003e\n    \u003c/tr\u003e\n    \u003ctr\u003e\n      \u003cth\u003e3\u003c/th\u003e\n      \u003ctd\u003e4\u003c/td\u003e\n      \u003ctd\u003e1775557.0\u003c/td\u003e\n      \u003ctd\u003e21758902.0\u003c/td\u003e\n      \u003ctd\u003e20132014\u003c/td\u003e\n      \u003ctd\u003e23534459.0\u003c/td\u003e\n    \u003c/tr\u003e\n    \u003ctr\u003e\n      \u003cth\u003e4\u003c/th\u003e\n      \u003ctd\u003e5\u003c/td\u003e\n      \u003ctd\u003e1631683.0\u003c/td\u003e\n      \u003ctd\u003e12792723.0\u003c/td\u003e\n      \u003ctd\u003e20122013\u003c/td\u003e\n      \u003ctd\u003e14424406.0\u003c/td\u003e\n    \u003c/tr\u003e\n    \u003ctr\u003e\n      \u003cth\u003e5\u003c/th\u003e\n      \u003ctd\u003e6\u003c/td\u003e\n      \u003ctd\u003e1592270.0\u003c/td\u003e\n      \u003ctd\u003e21468141.0\u003c/td\u003e\n      \u003ctd\u003e20112012\u003c/td\u003e\n      \u003ctd\u003e23060411.0\u003c/td\u003e\n    \u003c/tr\u003e\n    \u003ctr\u003e\n      \u003cth\u003e6\u003c/th\u003e\n      \u003ctd\u003e7\u003c/td\u003e\n      \u003ctd\u003e1667624.0\u003c/td\u003e\n      \u003ctd\u003e21113926.0\u003c/td\u003e\n      \u003ctd\u003e20102011\u003c/td\u003e\n      \u003ctd\u003e22781550.0\u003c/td\u003e\n    \u003c/tr\u003e\n    \u003ctr\u003e\n      \u003cth\u003e7\u003c/th\u003e\n      \u003ctd\u003e8\u003c/td\u003e\n      \u003ctd\u003e1702371.0\u003c/td\u003e\n      \u003ctd\u003e20996455.0\u003c/td\u003e\n      \u003ctd\u003e20092010\u003c/td\u003e\n      \u003ctd\u003e22698826.0\u003c/td\u003e\n    \u003c/tr\u003e\n    \u003ctr\u003e\n      \u003cth\u003e8\u003c/th\u003e\n      \u003ctd\u003e9\u003c/td\u003e\n      \u003ctd\u003e1639602.0\u003c/td\u003e\n      \u003ctd\u003e21475223.0\u003c/td\u003e\n      \u003ctd\u003e20082009\u003c/td\u003e\n      \u003ctd\u003e23114825.0\u003c/td\u003e\n    \u003c/tr\u003e\n    \u003ctr\u003e\n      \u003cth\u003e9\u003c/th\u003e\n      \u003ctd\u003e10\u003c/td\u003e\n      \u003ctd\u003e1587054.0\u003c/td\u003e\n      \u003ctd\u003e21236255.0\u003c/td\u003e\n      \u003ctd\u003e20072008\u003c/td\u003e\n      \u003ctd\u003e22823309.0\u003c/td\u003e\n    \u003c/tr\u003e\n    \u003ctr\u003e\n      \u003cth\u003e10\u003c/th\u003e\n      \u003ctd\u003e11\u003c/td\u003e\n      \u003ctd\u003e1496501.0\u003c/td\u003e\n      \u003ctd\u003e20861787.0\u003c/td\u003e\n      \u003ctd\u003e20062007\u003c/td\u003e\n      \u003ctd\u003e22358288.0\u003c/td\u003e\n    \u003c/tr\u003e\n    \u003ctr\u003e\n      \u003cth\u003e11\u003c/th\u003e\n      \u003ctd\u003e12\u003c/td\u003e\n      \u003ctd\u003e1530405.0\u003c/td\u003e\n      \u003ctd\u003e20854169.0\u003c/td\u003e\n      \u003ctd\u003e20052006\u003c/td\u003e\n      \u003ctd\u003e22384574.0\u003c/td\u003e\n    \u003c/tr\u003e\n    \u003ctr\u003e\n      \u003cth\u003e12\u003c/th\u003e\n      \u003ctd\u003e13\u003c/td\u003e\n      \u003ctd\u003eNaN\u003c/td\u003e\n      \u003ctd\u003eNaN\u003c/td\u003e\n      \u003ctd\u003e20042005\u003c/td\u003e\n      \u003ctd\u003eNaN\u003c/td\u003e\n    \u003c/tr\u003e\n    \u003ctr\u003e\n      \u003cth\u003e13\u003c/th\u003e\n      \u003ctd\u003e14\u003c/td\u003e\n      \u003ctd\u003e1708691.0\u003c/td\u003e\n      \u003ctd\u003e20356199.0\u003c/td\u003e\n      \u003ctd\u003e20032004\u003c/td\u003e\n      \u003ctd\u003e22064890.0\u003c/td\u003e\n    \u003c/tr\u003e\n    \u003ctr\u003e\n      \u003cth\u003e14\u003c/th\u003e\n      \u003ctd\u003e15\u003c/td\u003e\n      \u003ctd\u003e1636120.0\u003c/td\u003e\n      \u003ctd\u003e20408704.0\u003c/td\u003e\n      \u003ctd\u003e20022003\u003c/td\u003e\n      \u003ctd\u003e22044824.0\u003c/td\u003e\n    \u003c/tr\u003e\n    \u003ctr\u003e\n      \u003cth\u003e15\u003c/th\u003e\n      \u003ctd\u003e16\u003c/td\u003e\n      \u003ctd\u003e1691174.0\u003c/td\u003e\n      \u003ctd\u003e20614613.0\u003c/td\u003e\n      \u003ctd\u003e20012002\u003c/td\u003e\n      \u003ctd\u003e22305787.0\u003c/td\u003e\n    \u003c/tr\u003e\n    \u003ctr\u003e\n      \u003cth\u003e16\u003c/th\u003e\n      \u003ctd\u003e17\u003c/td\u003e\n      \u003ctd\u003e1584011.0\u003c/td\u003e\n      \u003ctd\u003e20373379.0\u003c/td\u003e\n      \u003ctd\u003e20002001\u003c/td\u003e\n      \u003ctd\u003e21957390.0\u003c/td\u003e\n    \u003c/tr\u003e\n    \u003ctr\u003e\n      \u003cth\u003e17\u003c/th\u003e\n      \u003ctd\u003e18\u003c/td\u003e\n      \u003ctd\u003e1524629.0\u003c/td\u003e\n      \u003ctd\u003e18800139.0\u003c/td\u003e\n      \u003ctd\u003e19992000\u003c/td\u003e\n      \u003ctd\u003e20324768.0\u003c/td\u003e\n    \u003c/tr\u003e\n    \u003ctr\u003e\n      \u003cth\u003e18\u003c/th\u003e\n      \u003ctd\u003e19\u003c/td\u003e\n      \u003ctd\u003e1509411.0\u003c/td\u003e\n      \u003ctd\u003e18001741.0\u003c/td\u003e\n      \u003ctd\u003e19981999\u003c/td\u003e\n      \u003ctd\u003e19511152.0\u003c/td\u003e\n    \u003c/tr\u003e\n    \u003ctr\u003e\n      \u003cth\u003e19\u003c/th\u003e\n      \u003ctd\u003e20\u003c/td\u003e\n      \u003ctd\u003e1507416.0\u003c/td\u003e\n      \u003ctd\u003e17264678.0\u003c/td\u003e\n      \u003ctd\u003e19971998\u003c/td\u003e\n      \u003ctd\u003e18772094.0\u003c/td\u003e\n    \u003c/tr\u003e\n    \u003ctr\u003e\n      \u003cth\u003e20\u003c/th\u003e\n      \u003ctd\u003e21\u003c/td\u003e\n      \u003ctd\u003e1494878.0\u003c/td\u003e\n      \u003ctd\u003e17640529.0\u003c/td\u003e\n      \u003ctd\u003e19961997\u003c/td\u003e\n      \u003ctd\u003e19135407.0\u003c/td\u003e\n    \u003c/tr\u003e\n    \u003ctr\u003e\n      \u003cth\u003e21\u003c/th\u003e\n      \u003ctd\u003e22\u003c/td\u003e\n      \u003ctd\u003e1540140.0\u003c/td\u003e\n      \u003ctd\u003e17041614.0\u003c/td\u003e\n      \u003ctd\u003e19951996\u003c/td\u003e\n      \u003ctd\u003e18581754.0\u003c/td\u003e\n    \u003c/tr\u003e\n    \u003ctr\u003e\n      \u003cth\u003e22\u003c/th\u003e\n      \u003ctd\u003e23\u003c/td\u003e\n      \u003ctd\u003e1329130.0\u003c/td\u003e\n      \u003ctd\u003e9233884.0\u003c/td\u003e\n      \u003ctd\u003e19941995\u003c/td\u003e\n      \u003ctd\u003e10563014.0\u003c/td\u003e\n    \u003c/tr\u003e\n    \u003ctr\u003e\n      \u003cth\u003e23\u003c/th\u003e\n      \u003ctd\u003e24\u003c/td\u003e\n      \u003ctd\u003e1440095.0\u003c/td\u003e\n      \u003ctd\u003e16105604.0\u003c/td\u003e\n      \u003ctd\u003e19931994\u003c/td\u003e\n      \u003ctd\u003e17545699.0\u003c/td\u003e\n    \u003c/tr\u003e\n    \u003ctr\u003e\n      \u003cth\u003e24\u003c/th\u003e\n      \u003ctd\u003e25\u003c/td\u003e\n      \u003ctd\u003e1346034.0\u003c/td\u003e\n      \u003ctd\u003e14158177.0\u003c/td\u003e\n      \u003ctd\u003e19921993\u003c/td\u003e\n      \u003ctd\u003e15504211.0\u003c/td\u003e\n    \u003c/tr\u003e\n    \u003ctr\u003e\n      \u003cth\u003e25\u003c/th\u003e\n      \u003ctd\u003e26\u003c/td\u003e\n      \u003ctd\u003e1327920.0\u003c/td\u003e\n      \u003ctd\u003e12769676.0\u003c/td\u003e\n      \u003ctd\u003e19911992\u003c/td\u003e\n      \u003ctd\u003e14097596.0\u003c/td\u003e\n    \u003c/tr\u003e\n    \u003ctr\u003e\n      \u003cth\u003e26\u003c/th\u003e\n      \u003ctd\u003e27\u003c/td\u003e\n      \u003ctd\u003e1442203.0\u003c/td\u003e\n      \u003ctd\u003e12343897.0\u003c/td\u003e\n      \u003ctd\u003e19901991\u003c/td\u003e\n      \u003ctd\u003e13786100.0\u003c/td\u003e\n    \u003c/tr\u003e\n    \u003ctr\u003e\n      \u003cth\u003e27\u003c/th\u003e\n      \u003ctd\u003e28\u003c/td\u003e\n      \u003ctd\u003e1355593.0\u003c/td\u003e\n      \u003ctd\u003e12579651.0\u003c/td\u003e\n      \u003ctd\u003e19891990\u003c/td\u003e\n      \u003ctd\u003e13935244.0\u003c/td\u003e\n    \u003c/tr\u003e\n    \u003ctr\u003e\n      \u003cth\u003e28\u003c/th\u003e\n      \u003ctd\u003e29\u003c/td\u003e\n      \u003ctd\u003e1327214.0\u003c/td\u003e\n      \u003ctd\u003e12417969.0\u003c/td\u003e\n      \u003ctd\u003e19881989\u003c/td\u003e\n      \u003ctd\u003e13745183.0\u003c/td\u003e\n    \u003c/tr\u003e\n    \u003ctr\u003e\n      \u003cth\u003e29\u003c/th\u003e\n      \u003ctd\u003e30\u003c/td\u003e\n      \u003ctd\u003e1336901.0\u003c/td\u003e\n      \u003ctd\u003e12117512.0\u003c/td\u003e\n      \u003ctd\u003e19871988\u003c/td\u003e\n      \u003ctd\u003e13454413.0\u003c/td\u003e\n    \u003c/tr\u003e\n    \u003ctr\u003e\n      \u003cth\u003e30\u003c/th\u003e\n      \u003ctd\u003e31\u003c/td\u003e\n      \u003ctd\u003e1383967.0\u003c/td\u003e\n      \u003ctd\u003e11855880.0\u003c/td\u003e\n      \u003ctd\u003e19861987\u003c/td\u003e\n      \u003ctd\u003e13239847.0\u003c/td\u003e\n    \u003c/tr\u003e\n    \u003ctr\u003e\n      \u003cth\u003e31\u003c/th\u003e\n      \u003ctd\u003e32\u003c/td\u003e\n      \u003ctd\u003e1152503.0\u003c/td\u003e\n      \u003ctd\u003e11621000.0\u003c/td\u003e\n      \u003ctd\u003e19851986\u003c/td\u003e\n      \u003ctd\u003e12773503.0\u003c/td\u003e\n    \u003c/tr\u003e\n    \u003ctr\u003e\n      \u003cth\u003e32\u003c/th\u003e\n      \u003ctd\u003e33\u003c/td\u003e\n      \u003ctd\u003e1107500.0\u003c/td\u003e\n      \u003ctd\u003e11633730.0\u003c/td\u003e\n      \u003ctd\u003e19841985\u003c/td\u003e\n      \u003ctd\u003e12741230.0\u003c/td\u003e\n    \u003c/tr\u003e\n    \u003ctr\u003e\n      \u003cth\u003e33\u003c/th\u003e\n      \u003ctd\u003e34\u003c/td\u003e\n      \u003ctd\u003e1107400.0\u003c/td\u003e\n      \u003ctd\u003e11359386.0\u003c/td\u003e\n      \u003ctd\u003e19831984\u003c/td\u003e\n      \u003ctd\u003e12466786.0\u003c/td\u003e\n    \u003c/tr\u003e\n    \u003ctr\u003e\n      \u003cth\u003e34\u003c/th\u003e\n      \u003ctd\u003e35\u003c/td\u003e\n      \u003ctd\u003e1088222.0\u003c/td\u003e\n      \u003ctd\u003e10940610.0\u003c/td\u003e\n      \u003ctd\u003e19821983\u003c/td\u003e\n      \u003ctd\u003e12028832.0\u003c/td\u003e\n    \u003c/tr\u003e\n    \u003ctr\u003e\n      \u003cth\u003e35\u003c/th\u003e\n      \u003ctd\u003e36\u003c/td\u003e\n      \u003ctd\u003e1058948.0\u003c/td\u003e\n      \u003ctd\u003e10710894.0\u003c/td\u003e\n      \u003ctd\u003e19811982\u003c/td\u003e\n      \u003ctd\u003e11769842.0\u003c/td\u003e\n    \u003c/tr\u003e\n    \u003ctr\u003e\n      \u003cth\u003e36\u003c/th\u003e\n      \u003ctd\u003e37\u003c/td\u003e\n      \u003ctd\u003e966390.0\u003c/td\u003e\n      \u003ctd\u003e10726198.0\u003c/td\u003e\n      \u003ctd\u003e19801981\u003c/td\u003e\n      \u003ctd\u003e11692588.0\u003c/td\u003e\n    \u003c/tr\u003e\n    \u003ctr\u003e\n      \u003cth\u003e37\u003c/th\u003e\n      \u003ctd\u003e38\u003c/td\u003e\n      \u003ctd\u003e976699.0\u003c/td\u003e\n      \u003ctd\u003e10533623.0\u003c/td\u003e\n      \u003ctd\u003e19791980\u003c/td\u003e\n      \u003ctd\u003e11510322.0\u003c/td\u003e\n    \u003c/tr\u003e\n    \u003ctr\u003e\n      \u003cth\u003e38\u003c/th\u003e\n      \u003ctd\u003e39\u003c/td\u003e\n      \u003ctd\u003e694521.0\u003c/td\u003e\n      \u003ctd\u003e7758053.0\u003c/td\u003e\n      \u003ctd\u003e19781979\u003c/td\u003e\n      \u003ctd\u003e8452574.0\u003c/td\u003e\n    \u003c/tr\u003e\n    \u003ctr\u003e\n      \u003cth\u003e39\u003c/th\u003e\n      \u003ctd\u003e40\u003c/td\u003e\n      \u003ctd\u003e686634.0\u003c/td\u003e\n      \u003ctd\u003e8526564.0\u003c/td\u003e\n      \u003ctd\u003e19771978\u003c/td\u003e\n      \u003ctd\u003e9213198.0\u003c/td\u003e\n    \u003c/tr\u003e\n    \u003ctr\u003e\n      \u003cth\u003e40\u003c/th\u003e\n      \u003ctd\u003e41\u003c/td\u003e\n      \u003ctd\u003e646279.0\u003c/td\u003e\n      \u003ctd\u003e8563890.0\u003c/td\u003e\n      \u003ctd\u003e19761977\u003c/td\u003e\n      \u003ctd\u003e9210169.0\u003c/td\u003e\n    \u003c/tr\u003e\n    \u003ctr\u003e\n      \u003cth\u003e41\u003c/th\u003e\n      \u003ctd\u003e42\u003c/td\u003e\n      \u003ctd\u003e726279.0\u003c/td\u003e\n      \u003ctd\u003e9103761.0\u003c/td\u003e\n      \u003ctd\u003e19751976\u003c/td\u003e\n      \u003ctd\u003e9830040.0\u003c/td\u003e\n    \u003c/tr\u003e\n    \u003ctr\u003e\n      \u003cth\u003e42\u003c/th\u003e\n      \u003ctd\u003e43\u003c/td\u003e\n      \u003ctd\u003e1517965.0\u003c/td\u003e\n      \u003ctd\u003e22174362.0\u003c/td\u003e\n      \u003ctd\u003e20172018\u003c/td\u003e\n      \u003ctd\u003e23692327.0\u003c/td\u003e\n    \u003c/tr\u003e\n    \u003ctr\u003e\n      \u003cth\u003e43\u003c/th\u003e\n      \u003ctd\u003e45\u003c/td\u003e\n      \u003ctd\u003e1574688.0\u003c/td\u003e\n      \u003ctd\u003e22186851.0\u003c/td\u003e\n      \u003ctd\u003e20182019\u003c/td\u003e\n      \u003ctd\u003e23761539.0\u003c/td\u003e\n    \u003c/tr\u003e\n  \u003c/tbody\u003e\n\u003c/table\u003e\n\u003c/div\u003e"
          },
          "metadata": {},
          "output_type": "execute_result",
          "execution_count": 28
        }
      ],
      "source": "",
      "metadata": {
        "pycharm": {
          "metadata": false,
          "name": "#%%\n",
          "is_executing": false
        }
      }
    }
  ],
  "metadata": {
    "language_info": {
      "codemirror_mode": {
        "name": "ipython",
        "version": 2
      },
      "file_extension": ".py",
      "mimetype": "text/x-python",
      "name": "python",
      "nbconvert_exporter": "python",
      "pygments_lexer": "ipython2",
      "version": "2.7.6"
    },
    "kernelspec": {
      "name": "python3",
      "language": "python",
      "display_name": "Python 3"
    },
    "stem_cell": {
      "cell_type": "raw",
      "source": "",
      "metadata": {
        "pycharm": {
          "metadata": false
        }
      }
    }
  },
  "nbformat": 4,
  "nbformat_minor": 0
}