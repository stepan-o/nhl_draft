{
  "cells": [
    {
      "cell_type": "markdown",
      "source": "# NHL 2009-2018 Draft dataset\n\nThis notebook describes the process of retrieval\n\n# NHL API\n\nNHL provides two main APIs: Stats API and Records API. Description of some of their endpoints is provided below (taken from [Philip Bulsink](https://gitlab.com/dword4/nhlapi)).",
      "metadata": {
        "pycharm": {
          "metadata": false,
          "name": "#%% md\n"
        }
      }
    },
    {
      "cell_type": "code",
      "execution_count": 1,
      "metadata": {
        "collapsed": true,
        "pycharm": {
          "is_executing": false
        }
      },
      "outputs": [],
      "source": "import requests\nimport pandas as pd\nfrom time import time\nimport os"
    },
    {
      "cell_type": "markdown",
      "source": "## NHL Stats API endpoints\n\nOnly some endpoints are presented here, full description can be found [here](https://gitlab.com/dword4/nhlapi/blob/master/stats-api.md).\n\n* Teams  \n\nGET https://statsapi.web.nhl.com/api/v1/teams   \nReturns a list of data about all teams including their id, venue details, division, conference and franchise information.  \n\nGET https://statsapi.web.nhl.com/api/v1/teams/ID/roster  \nReturns entire roster for a team including id value, name, jersey number and position details.\n\n* People\n\n**GET** https://statsapi.web.nhl.com/api/v1/people/ID  \nGets details for a player, must specify the id value in order to return data.\n\n**GET** https://statsapi.web.nhl.com/api/v1/people/ID/stats  \nComplex endpoint with lots of append options to change what kind of stats you wish to obtain\n\n_Modifiers_  \n?stats\u003dstatsSingleSeason\u0026season\u003d19801981   \nObtains single season statistics for a player  \n\n?stats\u003dhomeAndAway\u0026season\u003d20162017  \nProvides a split between home and away games.\n\n?stats\u003dwinLoss\u0026season\u003d20162017  \nVery similar to the previous modifier except it provides the W/L/OT split instead of Home and Away\n\n?stats\u003dbyMonth\u0026season\u003d20162017  \nMonthly split of stats\n\n?stats\u003dbyDayOfWeek\u0026season\u003d20162017  \nSplit done by day of the week\n\n?stats\u003dvsDivision\u0026season\u003d20162017  \nDivision stats split\n\n?stats\u003dvsConference\u0026season\u003d20162017  \nConference stats split\n\n?stats\u003dvsTeam\u0026season\u003d20162017  \nConference stats split\n\n?stats\u003dgameLog\u0026season\u003d20162017  \nProvides a game log showing stats for each game of a season\n\n?stats\u003dregularSeasonStatRankings\u0026season\u003d20162017   \nReturns where someone stands vs the rest of the league for a specific regularSeasonStatRankings\n\n?stats\u003dgoalsByGameSituation\u0026season\u003d20162017  \nShows number on when goals for a\nplayer happened like how many in the shootout, how many in each period, etc.\n\n?stats\u003donPaceRegularSeason\u0026season\u003d20172018  \nThis only works with the current in-progress season and shows projected totals based on current onPaceRegularSeason\n\n* Draft\n\nGET https://statsapi.web.nhl.com/api/v1/draft  \nGet round-by-round data for current year\u0027s NHL Entry Draft.\n\n**GET** https://statsapi.web.nhl.com/api/v1/draft/YEAR  \nTakes a YYYY format year and returns draft data\n\n* Prospects\n\n**GET** https://statsapi.web.nhl.com/api/v1/draft/prospects  \nGet all NHL Entry Draft prospects.\n\nGET https://statsapi.web.nhl.com/api/v1/draft/prospects/ID  \nGet an NHL Entry Draft prospect.",
      "metadata": {
        "pycharm": {
          "metadata": false,
          "name": "#%% md\n"
        }
      }
    },
    {
      "cell_type": "markdown",
      "source": "## NHL Records API endpoints\n\nOnly some endpoints are presented here, full description can be found [here](https://gitlab.com/dword4/nhlapi/blob/master/records-api.md).\n\nAll queries are prefixed with https://records.nhl.com/site/api and are GET\nrequests unless otherwise noted.\n\n**Filtering**\n\nThis is slightly different than the normal NHL API, see the following example:\nhttps://records.nhl.com/site/api/draft?cayenneExp\u003ddraftYear\u003d2017%20and%20draftedByTeamId\u003d15\n\nThe %20 value translates to a space, this needs to be taken into account as removing the spaces\nwill break the query, so anything after cayenneExp can have spaces when separating two\nor more conditions.\n\nOften you can filter by information returned in an unfiltered query so using\nthe draft example you can append roundNumber\u003d4 onto the cayenneExp to only look at 4th\nround selections.\n\n* Draft\n\n**GET** https://records.nhl.com/site/api/draft  \nReturns ALOT of draft data, looks to be every pick ever\n\n_Filtering_  \n?cayenneExp\u003ddraftYear\u003d2017  \nThis filters by a single year.\n\ndraftedByTeamId\u003dID  \ndrill down to a specific teams drafting\n",
      "metadata": {
        "pycharm": {
          "metadata": false,
          "name": "#%% md\n"
        }
      }
    },
    {
      "cell_type": "code",
      "execution_count": 3,
      "outputs": [
        {
          "data": {
            "text/plain": "[\u0027.git\u0027,\n \u0027.gitattributes\u0027,\n \u0027.gitignore\u0027,\n \u0027.idea\u0027,\n \u0027data\u0027,\n \u0027design\u0027,\n \u0027main.py\u0027,\n \u0027models\u0027,\n \u0027notebooks\u0027,\n \u0027README.md\u0027,\n \u0027requirements.txt\u0027]"
          },
          "metadata": {},
          "output_type": "execute_result",
          "execution_count": 3
        }
      ],
      "source": "os.chdir(\u0027Documents/repos/nhl_draft\u0027)\nos.listdir()",
      "metadata": {
        "pycharm": {
          "metadata": false,
          "name": "#%%\n",
          "is_executing": false
        }
      }
    },
    {
      "cell_type": "code",
      "execution_count": 14,
      "outputs": [
        {
          "name": "stdout",
          "text": [
            "JSON received from NHL API.took 0.94 seconds.\n----- DataFrame with NHL Draft Data loaded\nin 0.08 seconds\nwith 11,587 rows\nand 25 columns\n-- Column names:\n Index([\u0027amateurClubName\u0027, \u0027amateurLeague\u0027, \u0027birthDate\u0027, \u0027birthPlace\u0027,\n       \u0027countryCode\u0027, \u0027csPlayerId\u0027, \u0027draftYear\u0027, \u0027draftedByTeamId\u0027,\n       \u0027firstName\u0027, \u0027height\u0027, \u0027id\u0027, \u0027lastName\u0027, \u0027overallPickNumber\u0027,\n       \u0027pickInRound\u0027, \u0027playerId\u0027, \u0027playerName\u0027, \u0027position\u0027, \u0027removedOutright\u0027,\n       \u0027removedOutrightWhy\u0027, \u0027roundNumber\u0027, \u0027shootsCatches\u0027,\n       \u0027supplementalDraft\u0027, \u0027teamPickHistory\u0027, \u0027triCode\u0027, \u0027weight\u0027],\n      dtype\u003d\u0027object\u0027)\n",
            "saved to file:\n ../../data/nhl_api/nhl_draft_all.csv\n"
          ],
          "output_type": "stream"
        }
      ],
      "source": "url \u003d \u0027https://records.nhl.com/site/api/draft\u0027\nsave_path \u003d \u0027data/nhl_api/nhl_draft_all.csv\u0027\n\nt \u003d time()\nr \u003d requests.get(url)\njson_data \u003d r.json()\nelapsed \u003d time() - t\nprint(\"JSON received from NHL API.\"\n      \"took {0:.2f} seconds.\"\n      .format(elapsed))\nt \u003d time()\ndf_raw \u003d pd.DataFrame(json_data[\u0027data\u0027])\nelapsed \u003d time() - t\nprint(\"----- DataFrame with NHL Draft Data loaded\"\n      \"\\nin {0:.2f} seconds\".format(elapsed) + \n      \"\\nwith {0:,} rows\\nand {1:,} columns\"\n      .format(df_raw.shape[0], df_raw.shape[1]) + \n      \"\\n-- Column names:\\n\", df_raw.columns)\ndf_raw.to_csv(save_path, index\u003dFalse)\nprint(\"saved to file:\\n\", save_path)",
      "metadata": {
        "pycharm": {
          "metadata": false,
          "name": "#%%\n",
          "is_executing": false
        }
      }
    },
    {
      "cell_type": "markdown",
      "source": "## Teams\n### Get team info from the NHL Stats API Teams endpoint",
      "metadata": {
        "pycharm": {
          "metadata": false,
          "name": "#%% md\n"
        }
      }
    },
    {
      "cell_type": "code",
      "execution_count": 13,
      "outputs": [
        {
          "name": "stdout",
          "text": [
            "JSON received from NHL API.\ntook 0.15 seconds.\n"
          ],
          "output_type": "stream"
        },
        {
          "data": {
            "text/plain": "\u0027NHL and the NHL Shield are registered trademarks of the National Hockey League. NHL and NHL team marks are the property of the NHL and its teams. © NHL 2019. All Rights Reserved.\u0027"
          },
          "metadata": {},
          "output_type": "execute_result",
          "execution_count": 13
        }
      ],
      "source": "url \u003d \u0027https://statsapi.web.nhl.com/api/v1/teams\u0027\nsave_path \u003d \u0027data/nhl_api/teams.csv\u0027\n\nt \u003d time()\nr \u003d requests.get(url)\njson_data \u003d r.json()\nelapsed \u003d time() - t\nprint(\"JSON received from NHL API.\"\n      \"\\ntook {0:.2f} seconds.\"\n      .format(elapsed))\njson_data[\u0027copyright\u0027]",
      "metadata": {
        "pycharm": {
          "metadata": false,
          "name": "#%%\n",
          "is_executing": false
        }
      }
    },
    {
      "cell_type": "markdown",
      "source": "### Save results to a .csv file",
      "metadata": {
        "pycharm": {
          "metadata": false,
          "name": "#%% md\n"
        }
      }
    },
    {
      "cell_type": "code",
      "execution_count": 11,
      "outputs": [
        {
          "name": "stdout",
          "text": [
            "----- DataFrame with NHL Draft Data loaded\nin 0.01 seconds\nwith 31 rows\nand 15 columns\n-- Column names:\n Index([\u0027abbreviation\u0027, \u0027active\u0027, \u0027conference\u0027, \u0027division\u0027, \u0027firstYearOfPlay\u0027,\n       \u0027franchise\u0027, \u0027franchiseId\u0027, \u0027id\u0027, \u0027link\u0027, \u0027locationName\u0027, \u0027name\u0027,\n       \u0027officialSiteUrl\u0027, \u0027shortName\u0027, \u0027teamName\u0027, \u0027venue\u0027],\n      dtype\u003d\u0027object\u0027)\nsaved to file:\n data/nhl_api/teams.csv\n"
          ],
          "output_type": "stream"
        }
      ],
      "source": "t \u003d time()\ndf_raw \u003d pd.DataFrame(json_data[\u0027teams\u0027])\nelapsed \u003d time() - t\nprint(\"----- DataFrame with NHL Draft Data loaded\"\n      \"\\nin {0:.2f} seconds\".format(elapsed) + \n      \"\\nwith {0:,} rows\\nand {1:,} columns\"\n      .format(df_raw.shape[0], df_raw.shape[1]) + \n      \"\\n-- Column names:\\n\", df_raw.columns)\ndf_raw.to_csv(save_path, index\u003dFalse)\nprint(\"saved to file:\\n\", save_path)",
      "metadata": {
        "pycharm": {
          "metadata": false,
          "name": "#%%\n",
          "is_executing": false
        }
      }
    },
    {
      "cell_type": "markdown",
      "source": "## Prospects\n### Get NHL Draft Prospects info from the NHL Stats API Teams endpoint",
      "metadata": {
        "pycharm": {
          "metadata": false,
          "name": "#%% md\n"
        }
      }
    },
    {
      "cell_type": "code",
      "execution_count": 18,
      "outputs": [
        {
          "name": "stdout",
          "text": [
            "JSON received from NHL API.\ntook 0.63 seconds.\n"
          ],
          "output_type": "stream"
        },
        {
          "data": {
            "text/plain": "\u0027NHL and the NHL Shield are registered trademarks of the National Hockey League. NHL and NHL team marks are the property of the NHL and its teams. © NHL 2019. All Rights Reserved.\u0027"
          },
          "metadata": {},
          "output_type": "execute_result",
          "execution_count": 18
        }
      ],
      "source": "url \u003d \u0027https://statsapi.web.nhl.com/api/v1/draft/prospects\u0027\nsave_path \u003d \u0027data/nhl_api/prospects.csv\u0027\n\nt \u003d time()\nr \u003d requests.get(url)\njson_data \u003d r.json()\nelapsed \u003d time() - t\nprint(\"JSON received from NHL API.\"\n      \"\\ntook {0:.2f} seconds.\"\n      .format(elapsed))\njson_data[\u0027copyright\u0027]",
      "metadata": {
        "pycharm": {
          "metadata": false,
          "name": "#%%\n",
          "is_executing": false
        }
      }
    },
    {
      "cell_type": "markdown",
      "source": "### Save results to a .csv file",
      "metadata": {
        "pycharm": {
          "metadata": false
        }
      }
    },
    {
      "cell_type": "code",
      "execution_count": 21,
      "outputs": [
        {
          "name": "stdout",
          "text": [
            "----- DataFrame with NHL Draft Data loaded\nin 0.07 seconds\nwith 9,632 rows\nand 20 columns\n-- Column names:\n Index([\u0027amateurLeague\u0027, \u0027amateurTeam\u0027, \u0027birthCity\u0027, \u0027birthCountry\u0027,\n       \u0027birthDate\u0027, \u0027birthStateProvince\u0027, \u0027draftStatus\u0027, \u0027firstName\u0027,\n       \u0027fullName\u0027, \u0027height\u0027, \u0027id\u0027, \u0027lastName\u0027, \u0027link\u0027, \u0027nationality\u0027,\n       \u0027nhlPlayerId\u0027, \u0027primaryPosition\u0027, \u0027prospectCategory\u0027, \u0027ranks\u0027,\n       \u0027shootsCatches\u0027, \u0027weight\u0027],\n      dtype\u003d\u0027object\u0027)\n",
            "saved to file:\n data/nhl_api/prospects.csv\n"
          ],
          "output_type": "stream"
        }
      ],
      "source": "t \u003d time()\ndf_raw \u003d pd.DataFrame(json_data[\u0027prospects\u0027])\nelapsed \u003d time() - t\nprint(\"----- DataFrame with NHL Draft Data loaded\"\n      \"\\nin {0:.2f} seconds\".format(elapsed) + \n      \"\\nwith {0:,} rows\\nand {1:,} columns\"\n      .format(df_raw.shape[0], df_raw.shape[1]) + \n      \"\\n-- Column names:\\n\", df_raw.columns)\ndf_raw.to_csv(save_path, index\u003dFalse)\nprint(\"saved to file:\\n\", save_path)",
      "metadata": {
        "pycharm": {
          "metadata": false,
          "name": "#%%\n",
          "is_executing": false
        }
      }
    },
    {
      "cell_type": "markdown",
      "source": "## Attendance\n### Get arena attendance info from the NHL Records API Attendance endpoint\nSeems to return only limited information, perhaps the call to the API needs to be modified.",
      "metadata": {
        "pycharm": {
          "metadata": false,
          "name": "#%% md\n",
          "is_executing": false
        }
      }
    },
    {
      "cell_type": "code",
      "execution_count": 26,
      "outputs": [
        {
          "name": "stdout",
          "text": [
            "JSON received from NHL API.\ntook 0.20 seconds.\n"
          ],
          "output_type": "stream"
        }
      ],
      "source": "url \u003d \u0027https://records.nhl.com/site/api/attendance\u0027\nsave_path \u003d \u0027data/nhl_api/attendance.csv\u0027\n\nt \u003d time()\nr \u003d requests.get(url)\njson_data \u003d r.json()\nelapsed \u003d time() - t\nprint(\"JSON received from NHL API.\"\n      \"\\ntook {0:.2f} seconds.\"\n      .format(elapsed))",
      "metadata": {
        "pycharm": {
          "metadata": false,
          "name": "#%%\n",
          "is_executing": false
        }
      }
    },
    {
      "cell_type": "markdown",
      "source": "### Save results to a .csv file",
      "metadata": {
        "pycharm": {
          "metadata": false
        }
      }
    },
    {
      "cell_type": "code",
      "execution_count": 27,
      "outputs": [
        {
          "name": "stdout",
          "text": [
            "----- DataFrame with NHL Draft Data loaded\nin 0.01 seconds\nwith 44 rows\nand 5 columns\n-- Column names:\n Index([\u0027id\u0027, \u0027playoffAttendance\u0027, \u0027regularAttendance\u0027, \u0027seasonId\u0027,\n       \u0027totalAttendance\u0027],\n      dtype\u003d\u0027object\u0027)\nsaved to file:\n data/nhl_api/attendance.csv\n"
          ],
          "output_type": "stream"
        }
      ],
      "source": "t \u003d time()\ndf_raw \u003d pd.DataFrame(json_data[\u0027data\u0027])\nelapsed \u003d time() - t\nprint(\"----- DataFrame with NHL Draft Data loaded\"\n      \"\\nin {0:.2f} seconds\".format(elapsed) + \n      \"\\nwith {0:,} rows\\nand {1:,} columns\"\n      .format(df_raw.shape[0], df_raw.shape[1]) + \n      \"\\n-- Column names:\\n\", df_raw.columns)\ndf_raw.to_csv(save_path, index\u003dFalse)\nprint(\"saved to file:\\n\", save_path)",
      "metadata": {
        "pycharm": {
          "metadata": false,
          "name": "#%%\n",
          "is_executing": false
        }
      }
    },
    {
      "cell_type": "markdown",
      "source": "## Detailed records\n### Get detailed records from the NHL Records API Records endpoint\n#### Main records directory with restURLs for each record category",
      "metadata": {
        "pycharm": {
          "metadata": false,
          "name": "#%% md\n",
          "is_executing": false
        }
      }
    },
    {
      "cell_type": "code",
      "execution_count": 35,
      "outputs": [
        {
          "name": "stdout",
          "text": [
            "JSON received from NHL API.\ntook 0.25 seconds.\n----- DataFrame with NHL Draft Data loaded\nin 0.01 seconds\nwith 657 rows\nand 6 columns\n-- Column names:\n Index([\u0027description\u0027, \u0027descriptionKey\u0027, \u0027id\u0027, \u0027restUrl\u0027, \u0027sequence\u0027,\n       \u0027videoId\u0027],\n      dtype\u003d\u0027object\u0027)\nsaved to file:\n data/nhl_api/records/records_main.csv\n"
          ],
          "output_type": "stream"
        }
      ],
      "source": "url \u003d \u0027https://records.nhl.com/site/api/record-detail\u0027\nsave_path \u003d \u0027data/nhl_api/records/records_main.csv\u0027\n\n# get data from NHL API\nt \u003d time()\nr \u003d requests.get(url)\njson_data \u003d r.json()\nelapsed \u003d time() - t\nprint(\"JSON received from NHL API.\"\n      \"\\ntook {0:.2f} seconds.\"\n      .format(elapsed))\n\n# records results to a .csv file\nt \u003d time()\ndf_records \u003d pd.DataFrame(json_data[\u0027data\u0027])\nelapsed \u003d time() - t\nprint(\"----- DataFrame with NHL Draft Data loaded\"\n      \"\\nin {0:.2f} seconds\".format(elapsed) + \n      \"\\nwith {0:,} rows\\nand {1:,} columns\"\n      .format(df_records.shape[0], df_records.shape[1]) + \n      \"\\n-- Column names:\\n\", df_records.columns)\ndf_records.to_csv(save_path, index\u003dFalse)\nprint(\"saved to file:\\n\", save_path)",
      "metadata": {
        "pycharm": {
          "metadata": false,
          "name": "#%%\n",
          "is_executing": false
        }
      }
    },
    {
      "cell_type": "code",
      "execution_count": 36,
      "outputs": [
        {
          "data": {
            "text/plain": "                                           description  \\\n0                           Most Goals, Rookie, Season   \n1                             Most Goals, Rookie, Game   \n2                   Most Goals, Rookie, First NHL Game   \n3                         Most Assists, Rookie, Season   \n4                           Most Assists, Rookie, Game   \n5                 Most Assists, Rookie, First NHL Game   \n6                          Most Points, Rookie, Season   \n7                            Most Points, Rookie, Game   \n8                  Most Points, Rookie, First NHL Game   \n9                Most Goals, Rookie Defenseman, Season   \n10             Most Assists, Rookie Defenseman, Season   \n11              Most Points, Rookie Defenseman, Season   \n12                         Most Seasons Played, Career   \n13                           Most Games Played, Career   \n14       Most Games Played, Career, Including Playoffs   \n15          Most Consecutive Games Played, NHL History   \n16                                  Most Goals, Career   \n17              Most Goals, Career, Including Playoffs   \n18                                  Most Goals, Season   \n19              Most Goals, Season, Including Playoffs   \n20           Most Goals, 50 Games From Start of Season   \n21                                    Most Goals, Game   \n22                               Most Goals, Road Game   \n23                                  Most Goals, Period   \n24                                Most Assists, Career   \n25            Most Assists, Career, Including Playoffs   \n26                                Most Assists, Season   \n27            Most Assists, Season, Including Playoffs   \n28                                  Most Assists, Game   \n29                             Most Assists, Road Game   \n..                                                 ...   \n627                      Most Losses, November, Season   \n628                      Most Losses, December, Season   \n629                       Most Losses, January, Season   \n630                      Most Losses, February, Season   \n631                         Most Losses, March, Season   \n632                         Most Losses, April, Season   \n633               Longest Home Winning Streaks, Season   \n634               Longest Road Winning Streaks, Season   \n635            Longest Winning Streaks, Rookie, Season   \n636       Longest Home Winning Streaks, Rookie, Season   \n637       Longest Road Winning Streaks, Rookie, Season   \n638                  Most Consecutive Shutouts, Season   \n639              Multi-Goal/Assist/Point Games, Career   \n640              Multi-Goal/Assist/Point Games, Career   \n641              Multi-Goal/Assist/Point Games, Season   \n642        Multi-Goal/Assist/Point Games, Playoff Year   \n643  Multi-Goal/Assist/Point Games, Defensemen, Career   \n644  Multi-Goal/Assist/Point Games, Defensemen, Career   \n645  Multi-Goal/Assist/Point Games, Defensemen, Season   \n646  Multi-Goal/Assist/Point Games, Defensemen, Pla...   \n647              Multi-Goal/Assist/Point Games, Rookie   \n648  Multi-Goal/Assist/Point Games, Rookie, Playoff...   \n649  Most Shots on Goal, Both Teams, Period (Since ...   \n650  Most Shots on Goal, One Team, Game (Since 1959...   \n651  Most Shots on Goal, Both Teams, Game (Since 19...   \n652  Most Shots on Goal, One Team, Period (Since 19...   \n653  Most Shots on Goal, Both Teams, Period (Since ...   \n654  Most Shots on Goal, One Team, One OT Period (S...   \n655  Most Shots on Goal, Both Teams, One OT Period ...   \n656  Most Shots on Goal, One Team, Entire Overtime ...   \n\n                                     descriptionKey  \\\n0                      most-goals-rookie-one-season   \n1           most-goals-rookie-first-season-one-game   \n2                      most-goals-rookie-first-game   \n3                    most-assists-rookie-one-season   \n4         most-assists-rookie-first-season-one-game   \n5                    most-assists-rookie-first-game   \n6                     most-points-rookie-one-season   \n7          most-points-rookie-first-season-one-game   \n8                     most-points-rookie-first-game   \n9           most-goals-rookie-defenseman-one-season   \n10        most-assists-rookie-defenseman-one-season   \n11         most-points-rookie-defenseman-one-season   \n12                                     most-seasons   \n13                                most-games-played   \n14      most-games-played-career-including-playoffs   \n15                    most-consecutive-games-played   \n16                                most-goals-career   \n17             most-goals-career-including-playoffs   \n18                     skater-most-goals-one-season   \n19         most-goals-one-season-including-playoffs   \n20            most-goals-50-games-from-season-start   \n21                              most-goals-one-game   \n22                         most-goals-one-road-game   \n23                            most-goals-one-period   \n24                              most-assists-career   \n25           most-assists-career-including-playoffs   \n26                   skater-most-assists-one-season   \n27       most-assists-one-season-including-playoffs   \n28                            most-assists-one-game   \n29                       most-assists-one-road-game   \n..                                              ...   \n627                            most-losses-november   \n628                            most-losses-december   \n629                             most-losses-january   \n630                            most-losses-february   \n631                               most-losses-march   \n632                               most-losses-april   \n633         longest-home-winning-streaks-one-season   \n634         longest-road-winning-streaks-one-season   \n635       longest-winning-streaks-rookie-one-season   \n636  longest-home-winning-streaks-rookie-one-season   \n637  longest-road-winning-streaks-rookie-one-season   \n638                most-consecutive-shutouts-season   \n639                      multi-point-scoring-career   \n640             multi-point-scoring-career-playoffs   \n641                      multi-point-scoring-season   \n642                multi-point-scoring-playoff-year   \n643           multi-point-scoring-defensemen-career   \n644  multi-point-scoring-defensemen-career-playoffs   \n645           multi-point-scoring-defensemen-season   \n646     multi-point-scoring-defensemen-playoff-year   \n647                      multi-point-scoring-rookie   \n648         multi-point-scoring-rookie-playoff-year   \n649                most-shots-both-teams-one-period   \n650           most-shots-one-team-one-game-playoffs   \n651         most-shots-both-teams-one-game-playoffs   \n652         most-shots-one-team-one-period-playoffs   \n653       most-shots-both-teams-one-period-playoffs   \n654      most-shots-one-team-one-ot-period-playoffs   \n655    most-shots-both-teams-one-ot-period-playoffs   \n656                 most-shots-one-team-ot-playoffs   \n\n                                               restUrl  \n0    /site/api/skater-regular-season-scoring?cayenn...  \n1    /site/api/skater-first-season-game-scoring?cay...  \n2    /site/api/skater-first-game-scoring?cayenneExp...  \n3    /site/api/skater-regular-season-scoring?cayenn...  \n4    /site/api/skater-first-season-game-scoring?cay...  \n5    /site/api/skater-first-game-scoring?cayenneExp...  \n6    /site/api/skater-regular-season-scoring?cayenn...  \n7    /site/api/skater-first-season-game-scoring?cay...  \n8    /site/api/skater-first-game-scoring?cayenneExp...  \n9    /site/api/skater-regular-season-scoring?cayenn...  \n10   /site/api/skater-regular-season-scoring?cayenn...  \n11   /site/api/skater-regular-season-scoring?cayenn...  \n12   /site/api/skater-career-scoring-regular-season...  \n13   /site/api/skater-career-scoring-regular-season...  \n14   /site/api/skater-career-scoring-regular-plus-p...  \n15   /site/api/games-played-streak-skaters?cayenneE...  \n16   /site/api/skater-career-scoring-regular-season...  \n17   /site/api/skater-career-scoring-regular-plus-p...  \n18   /site/api/skater-regular-season-scoring?cayenn...  \n19   /site/api/skater-regular-plus-playoff-scoring?...  \n20   /site/api/skater-most-goals-1st-50-games?cayen...  \n21   /site/api/skater-game-goals?cayenneExp\u003dgameTyp...  \n22   /site/api/skater-game-goals?cayenneExp\u003dgameTyp...  \n23   /site/api/skater-period-scoring?cayenneExp\u003dgam...  \n24   /site/api/skater-career-scoring-regular-season...  \n25   /site/api/skater-career-scoring-regular-plus-p...  \n26   /site/api/skater-regular-season-scoring?cayenn...  \n27   /site/api/skater-regular-plus-playoff-scoring?...  \n28   /site/api/skater-game-assists?cayenneExp\u003dgameT...  \n29   /site/api/skater-game-assists?cayenneExp\u003dgameT...  \n..                                                 ...  \n627  /site/api/team-record-november?cayenneExp\u003d los...  \n628  /site/api/team-record-december?cayenneExp\u003d los...  \n629  /site/api/team-record-january?cayenneExp\u003d loss...  \n630  /site/api/team-record-february?cayenneExp\u003d los...  \n631  /site/api/team-record-march?cayenneExp\u003d losses...  \n632  /site/api/team-record-april?cayenneExp\u003d losses...  \n633  /site/api/goalie-home-win-streak?cayenneExp\u003dga...  \n634  /site/api/goalie-road-win-streak?cayenneExp\u003dga...  \n635  /site/api/goalie-win-streak?cayenneExp\u003drookie ...  \n636  /site/api/goalie-home-win-streak?cayenneExp\u003dro...  \n637  /site/api/goalie-road-win-streak?cayenneExp\u003dro...  \n638  /site/api/goalie-shutout-games-streak-regular-...  \n639  /site/api/skater-multipoint-games-career?cayen...  \n640  /site/api/skater-multipoint-games-career?cayen...  \n641  /site/api/skater-multipoint-games-season?cayen...  \n642  /site/api/skater-multipoint-games-season?cayen...  \n643  /site/api/skater-multipoint-games-career?cayen...  \n644  /site/api/skater-multipoint-games-career?cayen...  \n645  /site/api/skater-multipoint-games-season?cayen...  \n646  /site/api/skater-multipoint-games-season?cayen...  \n647  /site/api/skater-multipoint-games-season?cayen...  \n648  /site/api/skater-multipoint-games-season?cayen...  \n649  /site/api/team-period-scoring-both-teams?cayen...  \n650  /site/api/team-game-record-and-scoring?cayenne...  \n651  /site/api/team-game-record-and-scoring-both-te...  \n652  /site/api/team-period-scoring?cayenneExp\u003dshots...  \n653  /site/api/team-period-scoring-both-teams?cayen...  \n654  /site/api/team-playoff-ot-period-scoring-one-t...  \n655  /site/api/team-playoff-ot-period-scoring-both-...  \n656  /site/api/team-playoff-ot-shot-totals-one-team...  \n\n[657 rows x 3 columns]",
            "text/html": "\u003cdiv\u003e\n\u003cstyle scoped\u003e\n    .dataframe tbody tr th:only-of-type {\n        vertical-align: middle;\n    }\n\n    .dataframe tbody tr th {\n        vertical-align: top;\n    }\n\n    .dataframe thead th {\n        text-align: right;\n    }\n\u003c/style\u003e\n\u003ctable border\u003d\"1\" class\u003d\"dataframe\"\u003e\n  \u003cthead\u003e\n    \u003ctr style\u003d\"text-align: right;\"\u003e\n      \u003cth\u003e\u003c/th\u003e\n      \u003cth\u003edescription\u003c/th\u003e\n      \u003cth\u003edescriptionKey\u003c/th\u003e\n      \u003cth\u003erestUrl\u003c/th\u003e\n    \u003c/tr\u003e\n  \u003c/thead\u003e\n  \u003ctbody\u003e\n    \u003ctr\u003e\n      \u003cth\u003e0\u003c/th\u003e\n      \u003ctd\u003eMost Goals, Rookie, Season\u003c/td\u003e\n      \u003ctd\u003emost-goals-rookie-one-season\u003c/td\u003e\n      \u003ctd\u003e/site/api/skater-regular-season-scoring?cayenn...\u003c/td\u003e\n    \u003c/tr\u003e\n    \u003ctr\u003e\n      \u003cth\u003e1\u003c/th\u003e\n      \u003ctd\u003eMost Goals, Rookie, Game\u003c/td\u003e\n      \u003ctd\u003emost-goals-rookie-first-season-one-game\u003c/td\u003e\n      \u003ctd\u003e/site/api/skater-first-season-game-scoring?cay...\u003c/td\u003e\n    \u003c/tr\u003e\n    \u003ctr\u003e\n      \u003cth\u003e2\u003c/th\u003e\n      \u003ctd\u003eMost Goals, Rookie, First NHL Game\u003c/td\u003e\n      \u003ctd\u003emost-goals-rookie-first-game\u003c/td\u003e\n      \u003ctd\u003e/site/api/skater-first-game-scoring?cayenneExp...\u003c/td\u003e\n    \u003c/tr\u003e\n    \u003ctr\u003e\n      \u003cth\u003e3\u003c/th\u003e\n      \u003ctd\u003eMost Assists, Rookie, Season\u003c/td\u003e\n      \u003ctd\u003emost-assists-rookie-one-season\u003c/td\u003e\n      \u003ctd\u003e/site/api/skater-regular-season-scoring?cayenn...\u003c/td\u003e\n    \u003c/tr\u003e\n    \u003ctr\u003e\n      \u003cth\u003e4\u003c/th\u003e\n      \u003ctd\u003eMost Assists, Rookie, Game\u003c/td\u003e\n      \u003ctd\u003emost-assists-rookie-first-season-one-game\u003c/td\u003e\n      \u003ctd\u003e/site/api/skater-first-season-game-scoring?cay...\u003c/td\u003e\n    \u003c/tr\u003e\n    \u003ctr\u003e\n      \u003cth\u003e5\u003c/th\u003e\n      \u003ctd\u003eMost Assists, Rookie, First NHL Game\u003c/td\u003e\n      \u003ctd\u003emost-assists-rookie-first-game\u003c/td\u003e\n      \u003ctd\u003e/site/api/skater-first-game-scoring?cayenneExp...\u003c/td\u003e\n    \u003c/tr\u003e\n    \u003ctr\u003e\n      \u003cth\u003e6\u003c/th\u003e\n      \u003ctd\u003eMost Points, Rookie, Season\u003c/td\u003e\n      \u003ctd\u003emost-points-rookie-one-season\u003c/td\u003e\n      \u003ctd\u003e/site/api/skater-regular-season-scoring?cayenn...\u003c/td\u003e\n    \u003c/tr\u003e\n    \u003ctr\u003e\n      \u003cth\u003e7\u003c/th\u003e\n      \u003ctd\u003eMost Points, Rookie, Game\u003c/td\u003e\n      \u003ctd\u003emost-points-rookie-first-season-one-game\u003c/td\u003e\n      \u003ctd\u003e/site/api/skater-first-season-game-scoring?cay...\u003c/td\u003e\n    \u003c/tr\u003e\n    \u003ctr\u003e\n      \u003cth\u003e8\u003c/th\u003e\n      \u003ctd\u003eMost Points, Rookie, First NHL Game\u003c/td\u003e\n      \u003ctd\u003emost-points-rookie-first-game\u003c/td\u003e\n      \u003ctd\u003e/site/api/skater-first-game-scoring?cayenneExp...\u003c/td\u003e\n    \u003c/tr\u003e\n    \u003ctr\u003e\n      \u003cth\u003e9\u003c/th\u003e\n      \u003ctd\u003eMost Goals, Rookie Defenseman, Season\u003c/td\u003e\n      \u003ctd\u003emost-goals-rookie-defenseman-one-season\u003c/td\u003e\n      \u003ctd\u003e/site/api/skater-regular-season-scoring?cayenn...\u003c/td\u003e\n    \u003c/tr\u003e\n    \u003ctr\u003e\n      \u003cth\u003e10\u003c/th\u003e\n      \u003ctd\u003eMost Assists, Rookie Defenseman, Season\u003c/td\u003e\n      \u003ctd\u003emost-assists-rookie-defenseman-one-season\u003c/td\u003e\n      \u003ctd\u003e/site/api/skater-regular-season-scoring?cayenn...\u003c/td\u003e\n    \u003c/tr\u003e\n    \u003ctr\u003e\n      \u003cth\u003e11\u003c/th\u003e\n      \u003ctd\u003eMost Points, Rookie Defenseman, Season\u003c/td\u003e\n      \u003ctd\u003emost-points-rookie-defenseman-one-season\u003c/td\u003e\n      \u003ctd\u003e/site/api/skater-regular-season-scoring?cayenn...\u003c/td\u003e\n    \u003c/tr\u003e\n    \u003ctr\u003e\n      \u003cth\u003e12\u003c/th\u003e\n      \u003ctd\u003eMost Seasons Played, Career\u003c/td\u003e\n      \u003ctd\u003emost-seasons\u003c/td\u003e\n      \u003ctd\u003e/site/api/skater-career-scoring-regular-season...\u003c/td\u003e\n    \u003c/tr\u003e\n    \u003ctr\u003e\n      \u003cth\u003e13\u003c/th\u003e\n      \u003ctd\u003eMost Games Played, Career\u003c/td\u003e\n      \u003ctd\u003emost-games-played\u003c/td\u003e\n      \u003ctd\u003e/site/api/skater-career-scoring-regular-season...\u003c/td\u003e\n    \u003c/tr\u003e\n    \u003ctr\u003e\n      \u003cth\u003e14\u003c/th\u003e\n      \u003ctd\u003eMost Games Played, Career, Including Playoffs\u003c/td\u003e\n      \u003ctd\u003emost-games-played-career-including-playoffs\u003c/td\u003e\n      \u003ctd\u003e/site/api/skater-career-scoring-regular-plus-p...\u003c/td\u003e\n    \u003c/tr\u003e\n    \u003ctr\u003e\n      \u003cth\u003e15\u003c/th\u003e\n      \u003ctd\u003eMost Consecutive Games Played, NHL History\u003c/td\u003e\n      \u003ctd\u003emost-consecutive-games-played\u003c/td\u003e\n      \u003ctd\u003e/site/api/games-played-streak-skaters?cayenneE...\u003c/td\u003e\n    \u003c/tr\u003e\n    \u003ctr\u003e\n      \u003cth\u003e16\u003c/th\u003e\n      \u003ctd\u003eMost Goals, Career\u003c/td\u003e\n      \u003ctd\u003emost-goals-career\u003c/td\u003e\n      \u003ctd\u003e/site/api/skater-career-scoring-regular-season...\u003c/td\u003e\n    \u003c/tr\u003e\n    \u003ctr\u003e\n      \u003cth\u003e17\u003c/th\u003e\n      \u003ctd\u003eMost Goals, Career, Including Playoffs\u003c/td\u003e\n      \u003ctd\u003emost-goals-career-including-playoffs\u003c/td\u003e\n      \u003ctd\u003e/site/api/skater-career-scoring-regular-plus-p...\u003c/td\u003e\n    \u003c/tr\u003e\n    \u003ctr\u003e\n      \u003cth\u003e18\u003c/th\u003e\n      \u003ctd\u003eMost Goals, Season\u003c/td\u003e\n      \u003ctd\u003eskater-most-goals-one-season\u003c/td\u003e\n      \u003ctd\u003e/site/api/skater-regular-season-scoring?cayenn...\u003c/td\u003e\n    \u003c/tr\u003e\n    \u003ctr\u003e\n      \u003cth\u003e19\u003c/th\u003e\n      \u003ctd\u003eMost Goals, Season, Including Playoffs\u003c/td\u003e\n      \u003ctd\u003emost-goals-one-season-including-playoffs\u003c/td\u003e\n      \u003ctd\u003e/site/api/skater-regular-plus-playoff-scoring?...\u003c/td\u003e\n    \u003c/tr\u003e\n    \u003ctr\u003e\n      \u003cth\u003e20\u003c/th\u003e\n      \u003ctd\u003eMost Goals, 50 Games From Start of Season\u003c/td\u003e\n      \u003ctd\u003emost-goals-50-games-from-season-start\u003c/td\u003e\n      \u003ctd\u003e/site/api/skater-most-goals-1st-50-games?cayen...\u003c/td\u003e\n    \u003c/tr\u003e\n    \u003ctr\u003e\n      \u003cth\u003e21\u003c/th\u003e\n      \u003ctd\u003eMost Goals, Game\u003c/td\u003e\n      \u003ctd\u003emost-goals-one-game\u003c/td\u003e\n      \u003ctd\u003e/site/api/skater-game-goals?cayenneExp\u003dgameTyp...\u003c/td\u003e\n    \u003c/tr\u003e\n    \u003ctr\u003e\n      \u003cth\u003e22\u003c/th\u003e\n      \u003ctd\u003eMost Goals, Road Game\u003c/td\u003e\n      \u003ctd\u003emost-goals-one-road-game\u003c/td\u003e\n      \u003ctd\u003e/site/api/skater-game-goals?cayenneExp\u003dgameTyp...\u003c/td\u003e\n    \u003c/tr\u003e\n    \u003ctr\u003e\n      \u003cth\u003e23\u003c/th\u003e\n      \u003ctd\u003eMost Goals, Period\u003c/td\u003e\n      \u003ctd\u003emost-goals-one-period\u003c/td\u003e\n      \u003ctd\u003e/site/api/skater-period-scoring?cayenneExp\u003dgam...\u003c/td\u003e\n    \u003c/tr\u003e\n    \u003ctr\u003e\n      \u003cth\u003e24\u003c/th\u003e\n      \u003ctd\u003eMost Assists, Career\u003c/td\u003e\n      \u003ctd\u003emost-assists-career\u003c/td\u003e\n      \u003ctd\u003e/site/api/skater-career-scoring-regular-season...\u003c/td\u003e\n    \u003c/tr\u003e\n    \u003ctr\u003e\n      \u003cth\u003e25\u003c/th\u003e\n      \u003ctd\u003eMost Assists, Career, Including Playoffs\u003c/td\u003e\n      \u003ctd\u003emost-assists-career-including-playoffs\u003c/td\u003e\n      \u003ctd\u003e/site/api/skater-career-scoring-regular-plus-p...\u003c/td\u003e\n    \u003c/tr\u003e\n    \u003ctr\u003e\n      \u003cth\u003e26\u003c/th\u003e\n      \u003ctd\u003eMost Assists, Season\u003c/td\u003e\n      \u003ctd\u003eskater-most-assists-one-season\u003c/td\u003e\n      \u003ctd\u003e/site/api/skater-regular-season-scoring?cayenn...\u003c/td\u003e\n    \u003c/tr\u003e\n    \u003ctr\u003e\n      \u003cth\u003e27\u003c/th\u003e\n      \u003ctd\u003eMost Assists, Season, Including Playoffs\u003c/td\u003e\n      \u003ctd\u003emost-assists-one-season-including-playoffs\u003c/td\u003e\n      \u003ctd\u003e/site/api/skater-regular-plus-playoff-scoring?...\u003c/td\u003e\n    \u003c/tr\u003e\n    \u003ctr\u003e\n      \u003cth\u003e28\u003c/th\u003e\n      \u003ctd\u003eMost Assists, Game\u003c/td\u003e\n      \u003ctd\u003emost-assists-one-game\u003c/td\u003e\n      \u003ctd\u003e/site/api/skater-game-assists?cayenneExp\u003dgameT...\u003c/td\u003e\n    \u003c/tr\u003e\n    \u003ctr\u003e\n      \u003cth\u003e29\u003c/th\u003e\n      \u003ctd\u003eMost Assists, Road Game\u003c/td\u003e\n      \u003ctd\u003emost-assists-one-road-game\u003c/td\u003e\n      \u003ctd\u003e/site/api/skater-game-assists?cayenneExp\u003dgameT...\u003c/td\u003e\n    \u003c/tr\u003e\n    \u003ctr\u003e\n      \u003cth\u003e...\u003c/th\u003e\n      \u003ctd\u003e...\u003c/td\u003e\n      \u003ctd\u003e...\u003c/td\u003e\n      \u003ctd\u003e...\u003c/td\u003e\n    \u003c/tr\u003e\n    \u003ctr\u003e\n      \u003cth\u003e627\u003c/th\u003e\n      \u003ctd\u003eMost Losses, November, Season\u003c/td\u003e\n      \u003ctd\u003emost-losses-november\u003c/td\u003e\n      \u003ctd\u003e/site/api/team-record-november?cayenneExp\u003d los...\u003c/td\u003e\n    \u003c/tr\u003e\n    \u003ctr\u003e\n      \u003cth\u003e628\u003c/th\u003e\n      \u003ctd\u003eMost Losses, December, Season\u003c/td\u003e\n      \u003ctd\u003emost-losses-december\u003c/td\u003e\n      \u003ctd\u003e/site/api/team-record-december?cayenneExp\u003d los...\u003c/td\u003e\n    \u003c/tr\u003e\n    \u003ctr\u003e\n      \u003cth\u003e629\u003c/th\u003e\n      \u003ctd\u003eMost Losses, January, Season\u003c/td\u003e\n      \u003ctd\u003emost-losses-january\u003c/td\u003e\n      \u003ctd\u003e/site/api/team-record-january?cayenneExp\u003d loss...\u003c/td\u003e\n    \u003c/tr\u003e\n    \u003ctr\u003e\n      \u003cth\u003e630\u003c/th\u003e\n      \u003ctd\u003eMost Losses, February, Season\u003c/td\u003e\n      \u003ctd\u003emost-losses-february\u003c/td\u003e\n      \u003ctd\u003e/site/api/team-record-february?cayenneExp\u003d los...\u003c/td\u003e\n    \u003c/tr\u003e\n    \u003ctr\u003e\n      \u003cth\u003e631\u003c/th\u003e\n      \u003ctd\u003eMost Losses, March, Season\u003c/td\u003e\n      \u003ctd\u003emost-losses-march\u003c/td\u003e\n      \u003ctd\u003e/site/api/team-record-march?cayenneExp\u003d losses...\u003c/td\u003e\n    \u003c/tr\u003e\n    \u003ctr\u003e\n      \u003cth\u003e632\u003c/th\u003e\n      \u003ctd\u003eMost Losses, April, Season\u003c/td\u003e\n      \u003ctd\u003emost-losses-april\u003c/td\u003e\n      \u003ctd\u003e/site/api/team-record-april?cayenneExp\u003d losses...\u003c/td\u003e\n    \u003c/tr\u003e\n    \u003ctr\u003e\n      \u003cth\u003e633\u003c/th\u003e\n      \u003ctd\u003eLongest Home Winning Streaks, Season\u003c/td\u003e\n      \u003ctd\u003elongest-home-winning-streaks-one-season\u003c/td\u003e\n      \u003ctd\u003e/site/api/goalie-home-win-streak?cayenneExp\u003dga...\u003c/td\u003e\n    \u003c/tr\u003e\n    \u003ctr\u003e\n      \u003cth\u003e634\u003c/th\u003e\n      \u003ctd\u003eLongest Road Winning Streaks, Season\u003c/td\u003e\n      \u003ctd\u003elongest-road-winning-streaks-one-season\u003c/td\u003e\n      \u003ctd\u003e/site/api/goalie-road-win-streak?cayenneExp\u003dga...\u003c/td\u003e\n    \u003c/tr\u003e\n    \u003ctr\u003e\n      \u003cth\u003e635\u003c/th\u003e\n      \u003ctd\u003eLongest Winning Streaks, Rookie, Season\u003c/td\u003e\n      \u003ctd\u003elongest-winning-streaks-rookie-one-season\u003c/td\u003e\n      \u003ctd\u003e/site/api/goalie-win-streak?cayenneExp\u003drookie ...\u003c/td\u003e\n    \u003c/tr\u003e\n    \u003ctr\u003e\n      \u003cth\u003e636\u003c/th\u003e\n      \u003ctd\u003eLongest Home Winning Streaks, Rookie, Season\u003c/td\u003e\n      \u003ctd\u003elongest-home-winning-streaks-rookie-one-season\u003c/td\u003e\n      \u003ctd\u003e/site/api/goalie-home-win-streak?cayenneExp\u003dro...\u003c/td\u003e\n    \u003c/tr\u003e\n    \u003ctr\u003e\n      \u003cth\u003e637\u003c/th\u003e\n      \u003ctd\u003eLongest Road Winning Streaks, Rookie, Season\u003c/td\u003e\n      \u003ctd\u003elongest-road-winning-streaks-rookie-one-season\u003c/td\u003e\n      \u003ctd\u003e/site/api/goalie-road-win-streak?cayenneExp\u003dro...\u003c/td\u003e\n    \u003c/tr\u003e\n    \u003ctr\u003e\n      \u003cth\u003e638\u003c/th\u003e\n      \u003ctd\u003eMost Consecutive Shutouts, Season\u003c/td\u003e\n      \u003ctd\u003emost-consecutive-shutouts-season\u003c/td\u003e\n      \u003ctd\u003e/site/api/goalie-shutout-games-streak-regular-...\u003c/td\u003e\n    \u003c/tr\u003e\n    \u003ctr\u003e\n      \u003cth\u003e639\u003c/th\u003e\n      \u003ctd\u003eMulti-Goal/Assist/Point Games, Career\u003c/td\u003e\n      \u003ctd\u003emulti-point-scoring-career\u003c/td\u003e\n      \u003ctd\u003e/site/api/skater-multipoint-games-career?cayen...\u003c/td\u003e\n    \u003c/tr\u003e\n    \u003ctr\u003e\n      \u003cth\u003e640\u003c/th\u003e\n      \u003ctd\u003eMulti-Goal/Assist/Point Games, Career\u003c/td\u003e\n      \u003ctd\u003emulti-point-scoring-career-playoffs\u003c/td\u003e\n      \u003ctd\u003e/site/api/skater-multipoint-games-career?cayen...\u003c/td\u003e\n    \u003c/tr\u003e\n    \u003ctr\u003e\n      \u003cth\u003e641\u003c/th\u003e\n      \u003ctd\u003eMulti-Goal/Assist/Point Games, Season\u003c/td\u003e\n      \u003ctd\u003emulti-point-scoring-season\u003c/td\u003e\n      \u003ctd\u003e/site/api/skater-multipoint-games-season?cayen...\u003c/td\u003e\n    \u003c/tr\u003e\n    \u003ctr\u003e\n      \u003cth\u003e642\u003c/th\u003e\n      \u003ctd\u003eMulti-Goal/Assist/Point Games, Playoff Year\u003c/td\u003e\n      \u003ctd\u003emulti-point-scoring-playoff-year\u003c/td\u003e\n      \u003ctd\u003e/site/api/skater-multipoint-games-season?cayen...\u003c/td\u003e\n    \u003c/tr\u003e\n    \u003ctr\u003e\n      \u003cth\u003e643\u003c/th\u003e\n      \u003ctd\u003eMulti-Goal/Assist/Point Games, Defensemen, Career\u003c/td\u003e\n      \u003ctd\u003emulti-point-scoring-defensemen-career\u003c/td\u003e\n      \u003ctd\u003e/site/api/skater-multipoint-games-career?cayen...\u003c/td\u003e\n    \u003c/tr\u003e\n    \u003ctr\u003e\n      \u003cth\u003e644\u003c/th\u003e\n      \u003ctd\u003eMulti-Goal/Assist/Point Games, Defensemen, Career\u003c/td\u003e\n      \u003ctd\u003emulti-point-scoring-defensemen-career-playoffs\u003c/td\u003e\n      \u003ctd\u003e/site/api/skater-multipoint-games-career?cayen...\u003c/td\u003e\n    \u003c/tr\u003e\n    \u003ctr\u003e\n      \u003cth\u003e645\u003c/th\u003e\n      \u003ctd\u003eMulti-Goal/Assist/Point Games, Defensemen, Season\u003c/td\u003e\n      \u003ctd\u003emulti-point-scoring-defensemen-season\u003c/td\u003e\n      \u003ctd\u003e/site/api/skater-multipoint-games-season?cayen...\u003c/td\u003e\n    \u003c/tr\u003e\n    \u003ctr\u003e\n      \u003cth\u003e646\u003c/th\u003e\n      \u003ctd\u003eMulti-Goal/Assist/Point Games, Defensemen, Pla...\u003c/td\u003e\n      \u003ctd\u003emulti-point-scoring-defensemen-playoff-year\u003c/td\u003e\n      \u003ctd\u003e/site/api/skater-multipoint-games-season?cayen...\u003c/td\u003e\n    \u003c/tr\u003e\n    \u003ctr\u003e\n      \u003cth\u003e647\u003c/th\u003e\n      \u003ctd\u003eMulti-Goal/Assist/Point Games, Rookie\u003c/td\u003e\n      \u003ctd\u003emulti-point-scoring-rookie\u003c/td\u003e\n      \u003ctd\u003e/site/api/skater-multipoint-games-season?cayen...\u003c/td\u003e\n    \u003c/tr\u003e\n    \u003ctr\u003e\n      \u003cth\u003e648\u003c/th\u003e\n      \u003ctd\u003eMulti-Goal/Assist/Point Games, Rookie, Playoff...\u003c/td\u003e\n      \u003ctd\u003emulti-point-scoring-rookie-playoff-year\u003c/td\u003e\n      \u003ctd\u003e/site/api/skater-multipoint-games-season?cayen...\u003c/td\u003e\n    \u003c/tr\u003e\n    \u003ctr\u003e\n      \u003cth\u003e649\u003c/th\u003e\n      \u003ctd\u003eMost Shots on Goal, Both Teams, Period (Since ...\u003c/td\u003e\n      \u003ctd\u003emost-shots-both-teams-one-period\u003c/td\u003e\n      \u003ctd\u003e/site/api/team-period-scoring-both-teams?cayen...\u003c/td\u003e\n    \u003c/tr\u003e\n    \u003ctr\u003e\n      \u003cth\u003e650\u003c/th\u003e\n      \u003ctd\u003eMost Shots on Goal, One Team, Game (Since 1959...\u003c/td\u003e\n      \u003ctd\u003emost-shots-one-team-one-game-playoffs\u003c/td\u003e\n      \u003ctd\u003e/site/api/team-game-record-and-scoring?cayenne...\u003c/td\u003e\n    \u003c/tr\u003e\n    \u003ctr\u003e\n      \u003cth\u003e651\u003c/th\u003e\n      \u003ctd\u003eMost Shots on Goal, Both Teams, Game (Since 19...\u003c/td\u003e\n      \u003ctd\u003emost-shots-both-teams-one-game-playoffs\u003c/td\u003e\n      \u003ctd\u003e/site/api/team-game-record-and-scoring-both-te...\u003c/td\u003e\n    \u003c/tr\u003e\n    \u003ctr\u003e\n      \u003cth\u003e652\u003c/th\u003e\n      \u003ctd\u003eMost Shots on Goal, One Team, Period (Since 19...\u003c/td\u003e\n      \u003ctd\u003emost-shots-one-team-one-period-playoffs\u003c/td\u003e\n      \u003ctd\u003e/site/api/team-period-scoring?cayenneExp\u003dshots...\u003c/td\u003e\n    \u003c/tr\u003e\n    \u003ctr\u003e\n      \u003cth\u003e653\u003c/th\u003e\n      \u003ctd\u003eMost Shots on Goal, Both Teams, Period (Since ...\u003c/td\u003e\n      \u003ctd\u003emost-shots-both-teams-one-period-playoffs\u003c/td\u003e\n      \u003ctd\u003e/site/api/team-period-scoring-both-teams?cayen...\u003c/td\u003e\n    \u003c/tr\u003e\n    \u003ctr\u003e\n      \u003cth\u003e654\u003c/th\u003e\n      \u003ctd\u003eMost Shots on Goal, One Team, One OT Period (S...\u003c/td\u003e\n      \u003ctd\u003emost-shots-one-team-one-ot-period-playoffs\u003c/td\u003e\n      \u003ctd\u003e/site/api/team-playoff-ot-period-scoring-one-t...\u003c/td\u003e\n    \u003c/tr\u003e\n    \u003ctr\u003e\n      \u003cth\u003e655\u003c/th\u003e\n      \u003ctd\u003eMost Shots on Goal, Both Teams, One OT Period ...\u003c/td\u003e\n      \u003ctd\u003emost-shots-both-teams-one-ot-period-playoffs\u003c/td\u003e\n      \u003ctd\u003e/site/api/team-playoff-ot-period-scoring-both-...\u003c/td\u003e\n    \u003c/tr\u003e\n    \u003ctr\u003e\n      \u003cth\u003e656\u003c/th\u003e\n      \u003ctd\u003eMost Shots on Goal, One Team, Entire Overtime ...\u003c/td\u003e\n      \u003ctd\u003emost-shots-one-team-ot-playoffs\u003c/td\u003e\n      \u003ctd\u003e/site/api/team-playoff-ot-shot-totals-one-team...\u003c/td\u003e\n    \u003c/tr\u003e\n  \u003c/tbody\u003e\n\u003c/table\u003e\n\u003cp\u003e657 rows × 3 columns\u003c/p\u003e\n\u003c/div\u003e"
          },
          "metadata": {},
          "output_type": "execute_result",
          "execution_count": 36
        }
      ],
      "source": "cols \u003d [\u0027description\u0027, \u0027descriptionKey\u0027, \u0027restUrl\u0027]\ndf_records[cols]",
      "metadata": {
        "pycharm": {
          "metadata": false,
          "name": "#%%\n",
          "is_executing": false
        }
      }
    },
    {
      "cell_type": "markdown",
      "source": "#### Get detailed records using restUrls obtained above",
      "metadata": {
        "pycharm": {
          "metadata": false,
          "name": "#%% md\n"
        }
      }
    },
    {
      "cell_type": "code",
      "execution_count": 37,
      "outputs": [
        {
          "name": "stdout",
          "text": [
            "Most Goals, Rookie, Season\n\n",
            "JSON received from NHL API.\ntook 0.49 seconds.\n----- DataFrame with NHL Draft Data loaded\nin 0.03 seconds\nwith 3,377 rows\nand 35 columns\n-- Column names:\n Index([\u0027activePlayer\u0027, \u0027assists\u0027, \u0027assistsPerGpMin20\u0027, \u0027firstGoals\u0027,\n       \u0027firstName\u0027, \u0027fiveGoalGames\u0027, \u0027fourGoalGames\u0027, \u0027gameWinningGoals\u0027,\n       \u0027gamesInSchedule\u0027, \u0027gamesPlayed\u0027, \u0027goals\u0027, \u0027goalsPerGpMin20\u0027,\n       \u0027goalsPerGpMin50\u0027, \u0027id\u0027, \u0027lastName\u0027, \u0027overtimeAssists\u0027, \u0027overtimeGoals\u0027,\n       \u0027overtimePoints\u0027, \u0027penalties\u0027, \u0027penaltyMinutes\u0027, \u0027playerId\u0027, \u0027points\u0027,\n       \u0027pointsPerGpMin50\u0027, \u0027positionCode\u0027, \u0027powerPlayGoals\u0027, \u0027rookieFlag\u0027,\n       \u0027seasonId\u0027, \u0027sevenGoalGames\u0027, \u0027shorthandedGoals\u0027, \u0027shots\u0027,\n       \u0027sixGoalGames\u0027, \u0027teamAbbrevs\u0027, \u0027teamNames\u0027, \u0027threeGoalGames\u0027,\n       \u0027threeOrMoreGoalGames\u0027],\n      dtype\u003d\u0027object\u0027)\nsaved to file:\n data/nhl_api/records/most-goals-rookie-one-season.csv\n"
          ],
          "output_type": "stream"
        }
      ],
      "source": "url_records \u003d \u0027https://records.nhl.com\u0027\nline \u003d 0\nprint(df_records.loc[line, \u0027description\u0027] + \u0027\\n\u0027)\nurl \u003d url_records + df_records.loc[line, \u0027restUrl\u0027]\nsave_path \u003d \u0027data/nhl_api/records/\u0027 + \\\n            df_records.loc[line, \u0027descriptionKey\u0027] + \\\n            \u0027.csv\u0027\n\n# request data from NHL API\nt \u003d time()\nr \u003d requests.get(url)\njson_data \u003d r.json()\nelapsed \u003d time() - t\nprint(\"JSON received from NHL API.\"\n      \"\\ntook {0:.2f} seconds.\"\n      .format(elapsed))\n\n# record results to file\nt \u003d time()\ndf_raw \u003d pd.DataFrame(json_data[\u0027data\u0027])\nelapsed \u003d time() - t\nprint(\"----- DataFrame with NHL Draft Data loaded\"\n      \"\\nin {0:.2f} seconds\".format(elapsed) + \n      \"\\nwith {0:,} rows\\nand {1:,} columns\"\n      .format(df_raw.shape[0], df_raw.shape[1]) + \n      \"\\n-- Column names:\\n\", df_raw.columns)\ndf_raw.to_csv(save_path, index\u003dFalse)\nprint(\"saved to file:\\n\", save_path)",
      "metadata": {
        "pycharm": {
          "metadata": false,
          "name": "#%%\n",
          "is_executing": false
        }
      }
    },
    {
      "cell_type": "code",
      "execution_count": 39,
      "outputs": [
        {
          "data": {
            "text/plain": "20052006    83\n20162017    82\n19811982    78\n19841985    76\n19801981    73\n19921993    71\n20172018    70\n19821983    68\n20182019    67\n20102011    66\n20152016    65\n20022003    64\n19871988    63\n20072008    63\n20002001    63\n19741975    62\n19951996    61\n20132014    61\n20112012    59\n19961997    59\n20082009    58\n19992000    58\n19911992    56\n19671968    56\n19931994    55\n19831984    54\n19891990    54\n19851986    53\n19721973    52\n20062007    52\n            ..\n19301931    13\n19401941    12\n19581959    12\n19461947    12\n19601961    11\n19341935    11\n19271928    11\n19491950    11\n19621963    11\n19591960    11\n19281929    10\n19321933    10\n19391940    10\n19331934    10\n19631964     9\n19541955     8\n19451946     8\n19191920     8\n19661967     8\n19651966     7\n19311932     7\n19371938     6\n19571958     6\n19231924     5\n19361937     4\n19381939     4\n19351936     3\n19211922     3\n19181919     3\n19221923     2\nName: seasonId, Length: 100, dtype: int64"
          },
          "metadata": {},
          "output_type": "execute_result",
          "execution_count": 39
        }
      ],
      "source": "df_raw[\u0027seasonId\u0027].value_counts()",
      "metadata": {
        "pycharm": {
          "metadata": false,
          "name": "#%%\n",
          "is_executing": false
        }
      }
    },
    {
      "cell_type": "code",
      "execution_count": 42,
      "outputs": [
        {
          "data": {
            "text/plain": "      activePlayer  assists  assistsPerGpMin20  firstGoals firstName  \\\n260          False        6                NaN           2      Odie   \n1587         False        8                NaN           1   Sprague   \n2401         False        3                NaN           0     Punch   \n\n      fiveGoalGames  fourGoalGames  gameWinningGoals  gamesInSchedule  \\\n260             0.0            1.0                 1               18   \n1587            NaN            NaN                 2               18   \n2401            NaN            NaN                 1               18   \n\n      gamesPlayed  ...  rookieFlag  seasonId  sevenGoalGames  \\\n260            18  ...        True  19181919             0.0   \n1587           18  ...        True  19181919             NaN   \n2401            8  ...        True  19181919             NaN   \n\n      shorthandedGoals shots  sixGoalGames  teamAbbrevs  \\\n260                NaN   NaN           0.0          MTL   \n1587               NaN   NaN           NaN          SEN   \n2401               NaN   NaN           NaN          SEN   \n\n                   teamNames  threeGoalGames  threeOrMoreGoalGames  \n260       Montréal Canadiens             0.0                   1.0  \n1587  Ottawa Senators (1917)             NaN                   NaN  \n2401  Ottawa Senators (1917)             NaN                   NaN  \n\n[3 rows x 35 columns]",
            "text/html": "\u003cdiv\u003e\n\u003cstyle scoped\u003e\n    .dataframe tbody tr th:only-of-type {\n        vertical-align: middle;\n    }\n\n    .dataframe tbody tr th {\n        vertical-align: top;\n    }\n\n    .dataframe thead th {\n        text-align: right;\n    }\n\u003c/style\u003e\n\u003ctable border\u003d\"1\" class\u003d\"dataframe\"\u003e\n  \u003cthead\u003e\n    \u003ctr style\u003d\"text-align: right;\"\u003e\n      \u003cth\u003e\u003c/th\u003e\n      \u003cth\u003eactivePlayer\u003c/th\u003e\n      \u003cth\u003eassists\u003c/th\u003e\n      \u003cth\u003eassistsPerGpMin20\u003c/th\u003e\n      \u003cth\u003efirstGoals\u003c/th\u003e\n      \u003cth\u003efirstName\u003c/th\u003e\n      \u003cth\u003efiveGoalGames\u003c/th\u003e\n      \u003cth\u003efourGoalGames\u003c/th\u003e\n      \u003cth\u003egameWinningGoals\u003c/th\u003e\n      \u003cth\u003egamesInSchedule\u003c/th\u003e\n      \u003cth\u003egamesPlayed\u003c/th\u003e\n      \u003cth\u003e...\u003c/th\u003e\n      \u003cth\u003erookieFlag\u003c/th\u003e\n      \u003cth\u003eseasonId\u003c/th\u003e\n      \u003cth\u003esevenGoalGames\u003c/th\u003e\n      \u003cth\u003eshorthandedGoals\u003c/th\u003e\n      \u003cth\u003eshots\u003c/th\u003e\n      \u003cth\u003esixGoalGames\u003c/th\u003e\n      \u003cth\u003eteamAbbrevs\u003c/th\u003e\n      \u003cth\u003eteamNames\u003c/th\u003e\n      \u003cth\u003ethreeGoalGames\u003c/th\u003e\n      \u003cth\u003ethreeOrMoreGoalGames\u003c/th\u003e\n    \u003c/tr\u003e\n  \u003c/thead\u003e\n  \u003ctbody\u003e\n    \u003ctr\u003e\n      \u003cth\u003e260\u003c/th\u003e\n      \u003ctd\u003eFalse\u003c/td\u003e\n      \u003ctd\u003e6\u003c/td\u003e\n      \u003ctd\u003eNaN\u003c/td\u003e\n      \u003ctd\u003e2\u003c/td\u003e\n      \u003ctd\u003eOdie\u003c/td\u003e\n      \u003ctd\u003e0.0\u003c/td\u003e\n      \u003ctd\u003e1.0\u003c/td\u003e\n      \u003ctd\u003e1\u003c/td\u003e\n      \u003ctd\u003e18\u003c/td\u003e\n      \u003ctd\u003e18\u003c/td\u003e\n      \u003ctd\u003e...\u003c/td\u003e\n      \u003ctd\u003eTrue\u003c/td\u003e\n      \u003ctd\u003e19181919\u003c/td\u003e\n      \u003ctd\u003e0.0\u003c/td\u003e\n      \u003ctd\u003eNaN\u003c/td\u003e\n      \u003ctd\u003eNaN\u003c/td\u003e\n      \u003ctd\u003e0.0\u003c/td\u003e\n      \u003ctd\u003eMTL\u003c/td\u003e\n      \u003ctd\u003eMontréal Canadiens\u003c/td\u003e\n      \u003ctd\u003e0.0\u003c/td\u003e\n      \u003ctd\u003e1.0\u003c/td\u003e\n    \u003c/tr\u003e\n    \u003ctr\u003e\n      \u003cth\u003e1587\u003c/th\u003e\n      \u003ctd\u003eFalse\u003c/td\u003e\n      \u003ctd\u003e8\u003c/td\u003e\n      \u003ctd\u003eNaN\u003c/td\u003e\n      \u003ctd\u003e1\u003c/td\u003e\n      \u003ctd\u003eSprague\u003c/td\u003e\n      \u003ctd\u003eNaN\u003c/td\u003e\n      \u003ctd\u003eNaN\u003c/td\u003e\n      \u003ctd\u003e2\u003c/td\u003e\n      \u003ctd\u003e18\u003c/td\u003e\n      \u003ctd\u003e18\u003c/td\u003e\n      \u003ctd\u003e...\u003c/td\u003e\n      \u003ctd\u003eTrue\u003c/td\u003e\n      \u003ctd\u003e19181919\u003c/td\u003e\n      \u003ctd\u003eNaN\u003c/td\u003e\n      \u003ctd\u003eNaN\u003c/td\u003e\n      \u003ctd\u003eNaN\u003c/td\u003e\n      \u003ctd\u003eNaN\u003c/td\u003e\n      \u003ctd\u003eSEN\u003c/td\u003e\n      \u003ctd\u003eOttawa Senators (1917)\u003c/td\u003e\n      \u003ctd\u003eNaN\u003c/td\u003e\n      \u003ctd\u003eNaN\u003c/td\u003e\n    \u003c/tr\u003e\n    \u003ctr\u003e\n      \u003cth\u003e2401\u003c/th\u003e\n      \u003ctd\u003eFalse\u003c/td\u003e\n      \u003ctd\u003e3\u003c/td\u003e\n      \u003ctd\u003eNaN\u003c/td\u003e\n      \u003ctd\u003e0\u003c/td\u003e\n      \u003ctd\u003ePunch\u003c/td\u003e\n      \u003ctd\u003eNaN\u003c/td\u003e\n      \u003ctd\u003eNaN\u003c/td\u003e\n      \u003ctd\u003e1\u003c/td\u003e\n      \u003ctd\u003e18\u003c/td\u003e\n      \u003ctd\u003e8\u003c/td\u003e\n      \u003ctd\u003e...\u003c/td\u003e\n      \u003ctd\u003eTrue\u003c/td\u003e\n      \u003ctd\u003e19181919\u003c/td\u003e\n      \u003ctd\u003eNaN\u003c/td\u003e\n      \u003ctd\u003eNaN\u003c/td\u003e\n      \u003ctd\u003eNaN\u003c/td\u003e\n      \u003ctd\u003eNaN\u003c/td\u003e\n      \u003ctd\u003eSEN\u003c/td\u003e\n      \u003ctd\u003eOttawa Senators (1917)\u003c/td\u003e\n      \u003ctd\u003eNaN\u003c/td\u003e\n      \u003ctd\u003eNaN\u003c/td\u003e\n    \u003c/tr\u003e\n  \u003c/tbody\u003e\n\u003c/table\u003e\n\u003cp\u003e3 rows × 35 columns\u003c/p\u003e\n\u003c/div\u003e"
          },
          "metadata": {},
          "output_type": "execute_result",
          "execution_count": 42
        }
      ],
      "source": "mask \u003d df_raw[\u0027seasonId\u0027] \u003d\u003d 19181919\ncols \u003d [\u0027firstName\u0027, \u0027lastName\u0027, \u0027positionCode\u0027, \u0027seasonId\u0027, \u0027goals\u0027, \u0027assists\u0027]\ndf_raw[mask]",
      "metadata": {
        "pycharm": {
          "metadata": false,
          "name": "#%%\n",
          "is_executing": false
        }
      }
    },
    {
      "cell_type": "code",
      "execution_count": null,
      "outputs": [],
      "source": "df_raw\n",
      "metadata": {
        "pycharm": {
          "metadata": false,
          "name": "#%%\n"
        }
      }
    }
  ],
  "metadata": {
    "language_info": {
      "codemirror_mode": {
        "name": "ipython",
        "version": 2
      },
      "file_extension": ".py",
      "mimetype": "text/x-python",
      "name": "python",
      "nbconvert_exporter": "python",
      "pygments_lexer": "ipython2",
      "version": "2.7.6"
    },
    "kernelspec": {
      "name": "python3",
      "language": "python",
      "display_name": "Python 3"
    },
    "stem_cell": {
      "cell_type": "raw",
      "source": "",
      "metadata": {
        "pycharm": {
          "metadata": false
        }
      }
    }
  },
  "nbformat": 4,
  "nbformat_minor": 0
}