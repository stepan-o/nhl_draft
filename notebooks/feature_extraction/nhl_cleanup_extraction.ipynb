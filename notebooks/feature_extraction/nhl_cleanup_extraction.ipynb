{
  "cells": [
    {
      "cell_type": "markdown",
      "source": "# NHL 2009-2018 Draft data\n\nDataset downloaded from [Kaggle](http://localhost:8888/?token\u003db1eb61f8ed72cf51005640919abafb625e74268313819ce3).\n\n# Data cleanup and feature extraction",
      "metadata": {
        "pycharm": {
          "metadata": false
        }
      }
    },
    {
      "cell_type": "markdown",
      "source": "## Load data",
      "metadata": {
        "pycharm": {
          "metadata": false
        }
      }
    },
    {
      "cell_type": "code",
      "execution_count": 1,
      "outputs": [],
      "source": "import numpy as np\nimport pandas as pd\nfrom glob import glob\nfrom time import time\nimport os",
      "metadata": {
        "pycharm": {
          "metadata": false,
          "name": "#%%\n",
          "is_executing": false
        }
      }
    },
    {
      "cell_type": "code",
      "execution_count": 4,
      "outputs": [
        {
          "data": {
            "text/plain": "[\u00272009.csv\u0027,\n \u00272010.csv\u0027,\n \u00272011.csv\u0027,\n \u00272012.csv\u0027,\n \u00272013.csv\u0027,\n \u00272014.csv\u0027,\n \u00272015.csv\u0027,\n \u00272016.csv\u0027,\n \u00272017.csv\u0027,\n \u00272018.csv\u0027]"
          },
          "metadata": {},
          "output_type": "execute_result",
          "execution_count": 4
        }
      ],
      "source": "draft_data_path \u003d \u0027../../data/nhl-draft-picks-2009-2018/\u0027\nos.listdir(draft_data_path)",
      "metadata": {
        "pycharm": {
          "metadata": false,
          "name": "#%%\n",
          "is_executing": false
        }
      }
    },
    {
      "cell_type": "code",
      "execution_count": 5,
      "outputs": [
        {
          "name": "stdout",
          "text": [
            "----- DataFrame with NHL Draft Data loaded\nin 0.21 seconds\nwith 2,119 rows\nand 21 columns\n-- Column names:\n Index([\u0027Overall\u0027, \u0027Team\u0027, \u0027Player\u0027, \u0027Nat.\u0027, \u0027Pos\u0027, \u0027Age\u0027, \u0027To\u0027, \u0027Amateur Team\u0027,\n       \u0027GP\u0027, \u0027G\u0027, \u0027A\u0027, \u0027PTS\u0027, \u0027+/-\u0027, \u0027PIM\u0027, \u0027GP.1\u0027, \u0027W\u0027, \u0027L\u0027, \u0027T/O\u0027, \u0027SV%\u0027,\n       \u0027GAA\u0027, \u0027year\u0027],\n      dtype\u003d\u0027object\u0027)\n"
          ],
          "output_type": "stream"
        }
      ],
      "source": "t \u003d time()\n# glob all .csv files from NHL Draft data\npattern \u003d \u0027*.csv\u0027\ncsv_files \u003d glob(draft_data_path + pattern)\n\n#  Iterate over csv_files\nframes \u003d []\nfor csv in csv_files:\n    #  Read csv into a DataFrame: df\n    df \u003d pd.read_csv(csv)\n    df[\u0027year\u0027] \u003d int(csv[-8:-4])\n    # Append df to frames\n    frames.append(df)\ndf \u003d pd.concat(frames)\nelapsed \u003d time() - t\nprint(\"----- DataFrame with NHL Draft Data loaded\"\n      \"\\nin {0:.2f} seconds\".format(elapsed) + \n      \"\\nwith {0:,} rows\\nand {1:,} columns\"\n      .format(df.shape[0], df.shape[1]) + \n      \"\\n-- Column names:\\n\", df.columns)",
      "metadata": {
        "pycharm": {
          "metadata": false,
          "name": "#%%\n",
          "is_executing": false
        }
      }
    },
    {
      "cell_type": "code",
      "execution_count": 6,
      "outputs": [
        {
          "name": "stdout",
          "text": [
            "\u003cclass \u0027pandas.core.frame.DataFrame\u0027\u003e\nInt64Index: 2119 entries, 0 to 216\nData columns (total 21 columns):\nOverall         2119 non-null int64\nTeam            2119 non-null object\nPlayer          2119 non-null object\nNat.            2118 non-null object\nPos             2118 non-null object\nAge             2118 non-null float64\nTo              728 non-null float64\nAmateur Team    2118 non-null object\nGP              728 non-null float64\nG               728 non-null float64\nA               728 non-null float64\nPTS             728 non-null float64\n+/-             724 non-null float64\nPIM             728 non-null float64\nGP.1            55 non-null float64\nW               54 non-null float64\nL               54 non-null float64\nT/O             54 non-null float64\nSV%             55 non-null float64\nGAA             55 non-null float64\nyear            2119 non-null int64\ndtypes: float64(14), int64(2), object(5)\nmemory usage: 364.2+ KB\n"
          ],
          "output_type": "stream"
        }
      ],
      "source": "df.info()",
      "metadata": {
        "pycharm": {
          "metadata": false,
          "name": "#%%\n",
          "is_executing": false
        }
      }
    },
    {
      "cell_type": "markdown",
      "source": "## Data cleanup\n\nCleanup summary:\n\n* summarized positions\n    * corrected for consistency\n    * C/RW, C/LW, _etc._, C/W, F \u003d C\n    * L/RW, W \u003d RW\n    * player who can play center are assumed to be centers for the purposes of this analysis\n    * universal (left/right) wingers are assumed to be right wingers",
      "metadata": {
        "pycharm": {
          "metadata": false
        }
      }
    },
    {
      "cell_type": "code",
      "execution_count": 7,
      "outputs": [
        {
          "data": {
            "text/plain": "D        718\nC        517\nLW       319\nRW       283\nG        219\nC/LW      31\nC/RW      14\nW          9\nC RW       2\nF          2\nC; LW      2\nL/RW       1\nC/W        1\nName: Pos, dtype: int64"
          },
          "metadata": {},
          "output_type": "execute_result",
          "execution_count": 7
        }
      ],
      "source": "df[\u0027Pos\u0027].value_counts()",
      "metadata": {
        "pycharm": {
          "metadata": false,
          "name": "#%%\n",
          "is_executing": false
        }
      }
    },
    {
      "cell_type": "code",
      "execution_count": 8,
      "outputs": [
        {
          "data": {
            "text/plain": "D     718\nC     569\nLW    319\nRW    293\nG     219\nName: Pos, dtype: int64"
          },
          "metadata": {},
          "output_type": "execute_result",
          "execution_count": 8
        }
      ],
      "source": "df[\u0027Pos\u0027] \u003d df[\u0027Pos\u0027].str.replace(\"C RW\", \"C\")\ndf[\u0027Pos\u0027] \u003d df[\u0027Pos\u0027].str.replace(\"C; LW\", \"C\")\ndf[\u0027Pos\u0027] \u003d df[\u0027Pos\u0027].str.replace(\"F\", \"C\")\ndf[\u0027Pos\u0027] \u003d df[\u0027Pos\u0027].str.replace(\"C/W\", \"C\")\ndf[\u0027Pos\u0027] \u003d df[\u0027Pos\u0027].str.replace(\"C/LW\", \"C\")\ndf[\u0027Pos\u0027] \u003d df[\u0027Pos\u0027].str.replace(\"C/RW\", \"C\")\ndf[\u0027Pos\u0027] \u003d df[\u0027Pos\u0027].str.replace(\"L/RW\", \"RW\")\nmask \u003d df[\u0027Pos\u0027] \u003d\u003d \"W\"\ndf[\u0027Pos\u0027] \u003d np.where(mask, \"RW\", df[\u0027Pos\u0027])\ndf[\u0027Pos\u0027].value_counts()",
      "metadata": {
        "pycharm": {
          "metadata": false,
          "name": "#%%\n",
          "is_executing": false
        }
      }
    },
    {
      "cell_type": "markdown",
      "source": "## New features\n* `year`: int, year of NHL draft, extracted from .csv file names\n* `num_teams`: int, number of teams in each draft year\n* `round_ratio`: float, ratio of each pick: \n    * $\\text{round_ratio}\u003d\\large{\\frac{\\text{# Overall}}{\\text{number of teams}}}$ \n    * number of teams represents number of picks per round\n    * each overall pick number (e.g., 171) is divided by the number of picks per round to determine in which round (and how late in the round, via the ratio) was each prospect selected\n    * \\- 1 is needed to ensure proper boundary between rounds\n    * so, for example, for pick #171 $\\text{round ratio}\u003d\\frac{171 - 1}{30} \u003d 5.67$\n* `round`: int, round in which a prospect was selected\n    * `round_ratio` is rounded down and 1 is added\n    * $\\text{round} \u003d \\text{int}(\\text{round ratio}) + 1$\n* `1st_round`: boolean, whether the prospect was selected in the $1^{st}$ round\n    * one-hot encoding for $1^{st}$ round picks\n    * True if `round` \u003d\u003d 1, False otherwise\n* `gpg`: float, average goals per game\n* `apg`: float, average assists per game\n* `ppg`: float, average points per game",
      "metadata": {
        "pycharm": {
          "metadata": false
        }
      }
    },
    {
      "cell_type": "code",
      "execution_count": 9,
      "outputs": [
        {
          "name": "stdout",
          "text": [
            "New column \u0027num_teams\u0027 added to df.\n"
          ],
          "output_type": "stream"
        }
      ],
      "source": "num_teams \u003d df.groupby(\u0027year\u0027)[\u0027Team\u0027].nunique()\nnum_teams.name \u003d \u0027num_teams\u0027\ndf \u003d pd.merge(df, num_teams, \n              right_on\u003dnum_teams.index,\n              left_on\u003d\u0027year\u0027)\nprint(\"New column \u0027num_teams\u0027 added to df.\")",
      "metadata": {
        "pycharm": {
          "metadata": false,
          "name": "#%%\n",
          "is_executing": false
        }
      }
    },
    {
      "cell_type": "code",
      "execution_count": 10,
      "outputs": [
        {
          "name": "stdout",
          "text": [
            "New columns \u0027round_ratio\u0027, \u0027round\u0027, and \u00271st_round added to df.\n"
          ],
          "output_type": "stream"
        }
      ],
      "source": "df[\u0027round_ratio\u0027] \u003d (df[\u0027Overall\u0027] - 1)/ df[\u0027num_teams\u0027]\ndf[\u0027round\u0027] \u003d df[\u0027round_ratio\u0027].astype(\u0027int\u0027) + 1\ndf[\u00271st_round\u0027] \u003d df[\u0027round\u0027] \u003d\u003d 1\nprint(\"New columns \u0027round_ratio\u0027, \u0027round\u0027, and \u00271st_round added to df.\")",
      "metadata": {
        "pycharm": {
          "metadata": false,
          "name": "#%%\n",
          "is_executing": false
        }
      }
    },
    {
      "cell_type": "code",
      "execution_count": 22,
      "outputs": [
        {
          "name": "stdout",
          "text": [
            "New columns `gpg`, `apg`, and `ppg` added to df.\n"
          ],
          "output_type": "stream"
        }
      ],
      "source": "df[\u0027gpg\u0027] \u003d df[\u0027G\u0027] / df[\u0027GP\u0027]\ndf[\u0027apg\u0027] \u003d df[\u0027A\u0027] / df[\u0027GP\u0027]\ndf[\u0027ppg\u0027] \u003d df[\u0027PTS\u0027] / df[\u0027GP\u0027]\nprint(\"New columns `gpg`, `apg`, and `ppg` added to df.\")",
      "metadata": {
        "pycharm": {
          "metadata": false,
          "name": "#%%\n",
          "is_executing": false
        }
      }
    },
    {
      "cell_type": "markdown",
      "source": "## Sanity checks",
      "metadata": {
        "pycharm": {
          "metadata": false
        }
      }
    },
    {
      "cell_type": "code",
      "execution_count": 11,
      "outputs": [
        {
          "data": {
            "text/plain": "year\n2009    30\n2010    30\n2011    30\n2012    30\n2013    30\n2014    30\n2015    30\n2016    30\n2017    31\n2018    31\nName: Team, dtype: int64"
          },
          "metadata": {},
          "output_type": "execute_result",
          "execution_count": 11
        }
      ],
      "source": "df.groupby(\u0027year\u0027)[\u0027Team\u0027].nunique()",
      "metadata": {
        "pycharm": {
          "metadata": false,
          "name": "#%%\n",
          "is_executing": false
        }
      }
    },
    {
      "cell_type": "code",
      "execution_count": 12,
      "outputs": [
        {
          "name": "stdout",
          "text": [
            "#1 pick in 2016 was Auston Matthews picked by the Toronto Maple Leafs.\n\nPicks by round:\nTotal picks by round in 2016:\n"
          ],
          "output_type": "stream"
        },
        {
          "data": {
            "text/plain": "1    30\n2    30\n3    30\n4    30\n5    30\n6    30\n7    30\n8     1\nName: round, dtype: int64"
          },
          "metadata": {},
          "output_type": "execute_result",
          "execution_count": 12
        }
      ],
      "source": "year \u003d 2016\npick \u003d 1\n# #1 overall pick from 2016\nmask1 \u003d df[\u0027year\u0027] \u003d\u003d year\nmask2 \u003d df[\u0027Overall\u0027] \u003d\u003d pick\nprint(\"#{0} pick in {1} was {2} picked by the {3}.\"\n      .format(pick, year, \n              df.loc[mask1 \u0026 mask2, \u0027Player\u0027]\n                .values[0].split(\u0027\\\\\u0027)[0],\n              df.loc[mask1 \u0026 mask2, \u0027Team\u0027].values[0]))\nprint(\"\\nPicks by round:\")\nsubset \u003d df.loc[mask1, \n       [\u0027Player\u0027, \u0027Overall\u0027, \n        \u0027round\u0027, \u0027round_ratio\u0027]]\nprint(\"Total picks by round in {0}:\"\n      .format(year))\nsubset[\u0027round\u0027].value_counts().sort_index()",
      "metadata": {
        "pycharm": {
          "metadata": false,
          "name": "#%%\n",
          "is_executing": false
        }
      }
    },
    {
      "cell_type": "markdown",
      "source": "### Counts by #overall\nAs there are 10 draft seasons, almost all #overall should have 10 players drafted.",
      "metadata": {
        "pycharm": {
          "metadata": false
        }
      }
    },
    {
      "cell_type": "code",
      "execution_count": 13,
      "outputs": [
        {
          "data": {
            "text/plain": "0.9631336405529954"
          },
          "metadata": {},
          "output_type": "execute_result",
          "execution_count": 13
        }
      ],
      "source": "counts \u003d df[\u0027Overall\u0027].value_counts()\nlen(counts[counts \u003d\u003d 10]) / len(counts)",
      "metadata": {
        "pycharm": {
          "metadata": false,
          "name": "#%%\n",
          "is_executing": false
        }
      }
    },
    {
      "cell_type": "markdown",
      "source": "Displaying all #overall, for which there are NOT 10 players (\"anomalies\").",
      "metadata": {
        "pycharm": {
          "metadata": false
        }
      }
    },
    {
      "cell_type": "code",
      "execution_count": 14,
      "outputs": [
        {
          "data": {
            "text/plain": "118    9\n211    8\n215    2\n212    2\n214    2\n216    2\n213    2\n217    2\nName: Overall, dtype: int64"
          },
          "metadata": {},
          "output_type": "execute_result",
          "execution_count": 14
        }
      ],
      "source": "# overall picks with not 10 counts\ncounts[counts !\u003d 10]",
      "metadata": {
        "pycharm": {
          "metadata": false,
          "name": "#%%\n",
          "is_executing": false
        }
      }
    },
    {
      "cell_type": "markdown",
      "source": "Most draft picks (by # overall) have been selected 10 times, corresponding to 10 drafts that took place from 2009 to 2018.",
      "metadata": {
        "pycharm": {
          "metadata": false,
          "name": "#%% md\n"
        }
      }
    },
    {
      "cell_type": "code",
      "execution_count": 17,
      "outputs": [
        {
          "data": {
            "text/plain": "2009    210\n2010    210\n2011    211\n2012    211\n2013    211\n2014    210\n2015    211\n2016    211\n2017    217\n2018    217\nName: year, dtype: int64"
          },
          "metadata": {},
          "output_type": "execute_result",
          "execution_count": 17
        }
      ],
      "source": "df[\u0027year\u0027].value_counts().sort_index()",
      "metadata": {
        "pycharm": {
          "metadata": false,
          "name": "#%%\n",
          "is_executing": false
        }
      }
    },
    {
      "cell_type": "markdown",
      "source": "Last two seasons had slightly longer drafts (217 players total, compared to 210 or 211 prior to 2017), hence the odd number of picks of overall numbers above 215 seen above.",
      "metadata": {
        "pycharm": {
          "metadata": false,
          "name": "#%% md\n"
        }
      }
    },
    {
      "cell_type": "markdown",
      "source": "Goals/assists/points per game",
      "metadata": {
        "pycharm": {
          "metadata": false,
          "name": "#%% md\n"
        }
      }
    },
    {
      "cell_type": "code",
      "execution_count": 29,
      "outputs": [
        {
          "name": "stdout",
          "text": [
            "GPG * GP \u003d 279.0\nG \u003d 279.0\nAPG * GP \u003d 354.0\nA \u003d 354.0\nPPG * GP \u003d 633.0\nPTS \u003d 633.0\n"
          ],
          "output_type": "stream"
        }
      ],
      "source": "focus_id \u003d 0\nprint(\"GPG * GP \u003d\", df.loc[focus_id, \u0027gpg\u0027] \n      * df.loc[focus_id, \u0027GP\u0027])\nprint(\"G \u003d\", df.loc[focus_id, \u0027G\u0027])\nprint(\"APG * GP \u003d\", df.loc[focus_id, \u0027apg\u0027] \n      * df.loc[focus_id, \u0027GP\u0027])\nprint(\"A \u003d\", df.loc[focus_id, \u0027A\u0027])\nprint(\"PPG * GP \u003d\", df.loc[focus_id, \u0027ppg\u0027] \n      * df.loc[focus_id, \u0027GP\u0027])\nprint(\"PTS \u003d\", df.loc[focus_id, \u0027PTS\u0027])",
      "metadata": {
        "pycharm": {
          "metadata": false,
          "name": "#%%\n",
          "is_executing": false
        }
      }
    },
    {
      "cell_type": "markdown",
      "source": "## Record results to a new .csv file",
      "metadata": {
        "pycharm": {
          "metadata": false,
          "name": "#%% md\n"
        }
      }
    },
    {
      "cell_type": "code",
      "execution_count": 30,
      "outputs": [
        {
          "name": "stdout",
          "text": [
            "DataFrame saved to file:\n ../../data/nhl_draft_picks_2009-2018.csv \ntook 0.09 seconds\n"
          ],
          "output_type": "stream"
        }
      ],
      "source": "save_path \u003d \u0027../../data/nhl_draft_picks_2009-2018.csv\u0027\nt \u003d time()\ndf.to_csv(save_path)\nelapsed \u003d time() - t\nprint(\"DataFrame saved to file:\\n\", save_path,\n      \"\\ntook {0:.2f} seconds\".format(elapsed))\n",
      "metadata": {
        "pycharm": {
          "metadata": false,
          "name": "#%%\n",
          "is_executing": false
        }
      }
    }
  ],
  "metadata": {
    "language_info": {
      "codemirror_mode": {
        "name": "ipython",
        "version": 2
      },
      "file_extension": ".py",
      "mimetype": "text/x-python",
      "name": "python",
      "nbconvert_exporter": "python",
      "pygments_lexer": "ipython2",
      "version": "2.7.6"
    },
    "kernelspec": {
      "name": "python3",
      "language": "python",
      "display_name": "Python 3"
    },
    "stem_cell": {
      "cell_type": "raw",
      "source": "",
      "metadata": {
        "pycharm": {
          "metadata": false
        }
      }
    }
  },
  "nbformat": 4,
  "nbformat_minor": 0
}