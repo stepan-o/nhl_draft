{
  "cells": [
    {
      "cell_type": "markdown",
      "source": "# NHL Draft dataset\n# Statistical Tests on data from the NHL API\nThis notebook presents statistical tests performed on the NHL Draft data obtained from NHL Records API. Previous steps included data collection and data cleaning.",
      "metadata": {
        "pycharm": {
          "metadata": false
        }
      }
    },
    {
      "cell_type": "markdown",
      "source": "### Data collection summary\nDataset generated from a JSON received from the NHL Records API, contains response to the request for all draft records.  \n\nFor details, see notebook `notebooks/feature_extraction/nhl_api.ipynb`.",
      "metadata": {
        "pycharm": {
          "metadata": false
        }
      }
    },
    {
      "cell_type": "markdown",
      "source": "### Data cleanup summary\n* fixed capitalizations for Amateur Club Names, Player Names\n* fixed inconsistent team names for some Russian Amateur Club Names\n    * e.g., \u0027Ska Leningrad\u0027, \u0027St. Petersburg Ska\u0027, \u0027Ska St. Petersburg\u0027, \u0027Leningrad Ska\u0027, \u0027St. Petersburg Ska St. Petersburg\u0027 was replaced with \u0027Ska\u0027\n    * team names fixed only for Ska, Ska2, Cska, and Cska 2\n* fixed 2 erratic height values and 3 weight values (replaced with mean)\n* fixed inconsistent names for Russian leagues\n    * \u0027Russia\u0027, \u0027RUS\u0027, \u0027RUSSIA\u0027, \u0027RUSSIA-1\u0027 were changed to \u0027Russia\u0027\n    * \u0027RUSSIA-JR.\u0027, \u0027RUSSIA JR. 2\u0027 were changed to \u0027Russia-Jr.\u0027\n* removed redundant positions\n    * all players who can play center are assumed to be centers\n        * C/RW (17 players), C/LW (30 players), F (362 players) \u003d C\n    * player who can play both wings are assumed to play the right wing\n        * LW/RW (13 players) \u003d RW\n    * mixed D positions are assumed to be D\n        * LW/D (1 player), D/F (1 player) \u003d D\n* filtered columns and renamed them to shorten their labels\n\n* data problems identified but not currently addressed:\n    * inconsistencies in some Amateur Club Names (e.g., \u0027London Knights\u0027 and \u0027London\u0027)\n    * `pickInRound` appears to have erratic values (will be addressed in this notebook)\n\n* data problems potentially present (not verified)\n    * inconsistent names for Russian teams other than CSKA and SKA (those were fixed)\n\nFor details, see notebook `notebooks/feature_extraction/nhl_draft_api_cleanup.ipynb`",
      "metadata": {
        "pycharm": {
          "metadata": false
        }
      }
    },
    {
      "cell_type": "markdown",
      "source": "## Preparations\n### Import dependencies",
      "metadata": {
        "pycharm": {
          "metadata": false,
          "name": "#%% md\n"
        }
      }
    },
    {
      "cell_type": "code",
      "execution_count": 42,
      "outputs": [],
      "source": "import matplotlib.pyplot as plt\nimport numpy as np\nimport pandas as pd\nfrom scipy.stats import norm\nfrom time import time\nimport os",
      "metadata": {
        "pycharm": {
          "metadata": false,
          "name": "#%%\n",
          "is_executing": false
        }
      }
    },
    {
      "cell_type": "markdown",
      "source": "### Load data",
      "metadata": {
        "pycharm": {
          "metadata": false
        }
      }
    },
    {
      "cell_type": "code",
      "source": "os.chdir(\u0027Documents/repos/nhl_draft/\u0027)\nos.listdir()",
      "metadata": {
        "pycharm": {
          "metadata": false,
          "name": "#%%\n",
          "is_executing": false
        }
      },
      "execution_count": 3,
      "outputs": [
        {
          "data": {
            "text/plain": "[\u0027.git\u0027,\n \u0027.gitattributes\u0027,\n \u0027.gitignore\u0027,\n \u0027.idea\u0027,\n \u0027data\u0027,\n \u0027design\u0027,\n \u0027main.py\u0027,\n \u0027models\u0027,\n \u0027notebooks\u0027,\n \u0027README.md\u0027,\n \u0027requirements.txt\u0027]"
          },
          "metadata": {},
          "output_type": "execute_result",
          "execution_count": 3
        }
      ]
    },
    {
      "cell_type": "code",
      "execution_count": 8,
      "outputs": [
        {
          "name": "stdout",
          "text": [
            "----- DataFrame with NHL Draft Data loaded\nin 0.07 seconds\nwith 11,587 rows\nand 15 columns\n-- Column names:\n Index([\u0027name\u0027, \u0027nat\u0027, \u0027dob\u0027, \u0027bp\u0027, \u0027ateam\u0027, \u0027league\u0027, \u0027year\u0027, \u0027dteam\u0027,\n       \u0027overall\u0027, \u0027removed\u0027, \u0027why\u0027, \u0027height\u0027, \u0027weight\u0027, \u0027pos\u0027, \u0027shoots\u0027],\n      dtype\u003d\u0027object\u0027)\n"
          ],
          "output_type": "stream"
        }
      ],
      "source": "file \u003d \u0027data/nhl_api/nhl_draft_all_cleaned.csv\u0027\nt \u003d time()\ndf \u003d pd.read_csv(file)\nelapsed \u003d time() - t\nprint(\"----- DataFrame with NHL Draft Data loaded\"\n      \"\\nin {0:.2f} seconds\".format(elapsed) + \n      \"\\nwith {0:,} rows\\nand {1:,} columns\"\n      .format(df.shape[0], df.shape[1]) + \n      \"\\n-- Column names:\\n\", df.columns)",
      "metadata": {
        "pycharm": {
          "metadata": false,
          "name": "#%%\n",
          "is_executing": false
        }
      }
    },
    {
      "cell_type": "markdown",
      "source": "### Types of Statistical Hypothesis Tests\n\nFrom [machinelearningmastery.com](https://machinelearningmastery.com/statistical-hypothesis-tests-in-python-cheat-sheet/):\n\nThere are hundreds of statistical hypothesis tests available, with multiple types of tests available for a given concern, answers that they give to a question are probabilistic in their nature rather than exact. Some of the commonly used ones in Machine Learning include:\n\n* Normality Tests\n    * Shapiro-Wilk Test\n    * D’Agostino’s K^2 Test\n    * Anderson-Darling Test\n* Correlation Tests\n    * Pearson’s Correlation Coefficient\n    * Spearman’s Rank Correlation\n    * Kendall’s Rank Correlation\n    * Chi-Squared Test\n* Parametric Statistical Hypothesis Tests\n    * Student’s t-test\n    * Paired Student’s t-test\n    * Analysis of Variance Test (ANOVA)\n    * Repeated Measures ANOVA Test\n* Nonparametric Statistical Hypothesis Tests\n    * Mann-Whitney U Test\n    * Wilcoxon Signed-Rank Test\n    * Kruskal-Wallis H Test\n    * Friedman Test\n\n### Characteristics of each test\n    \nEach test has its application scope, assumptions, and interpretation of results.\n\n_Note_, when it comes to assumptions such as the expected distribution of data or sample size, the results of a given test are likely to degrade gracefully rather than become immediately unusable if an assumption is violated.\n\n### Requirements to data samples\n\nGenerally, data samples need to be representative of the domain and large enough to expose their distribution to analysis.\n\nIn some cases, the data can be corrected to meet the assumptions, such as correcting a nearly normal distribution to be normal by removing outliers, or using a correction to the degrees of freedom in a statistical test when samples have differing variance, to name two examples.\n\nIn the case of NHL Draft dataset, we have complete draft records for 2009-2018 NHL Draft seasons, so these records represent a **full population of players drafted to the NHL from 2009 to 2018.**",
      "metadata": {
        "pycharm": {
          "metadata": false
        }
      }
    },
    {
      "cell_type": "markdown",
      "source": "## Normality tests\nThis section lists statistical tests that you can use to check if data has a [Gaussian distribution](https://en.wikipedia.org/wiki/Normal_distribution). \n\nNormality tests can be used to check if the data has a [Gaussian (normal) distribution](http://hyperphysics.phy-astr.gsu.edu/hbase/Math/gaufcn.html). \n\n* Gaussian distribution can serve as an appropriate approximation for physical events in cases when the number of events is very large. \n* It can provide an excellent approximation to a number of practical situations.\n* The Gaussian distribution is a _continuous_ function which approximates the exact [binomial distribution](http://hyperphysics.phy-astr.gsu.edu/hbase/Math/disfcn.html#c2) of events.\n* The main properties are that the normal distribution is symmetric about its mean, and decreasing in both directions from the center. \n    * Though this is true of other distributions as well, these signals are often enough to conclude the normal distribution is a good approximation.\n* The normal distribution is sometimes informally called the bell curve. \n    * However, many other distributions are bell-shaped (such as the Cauchy, Student\u0027s t-, and logistic distributions).\n\nThe probability density function (PDF) of the normal distribution is defined as:\n\n$ P(x) \u003d \\frac{1} {\\sqrt{2 \\sigma^2 \\pi}}$$e^{ - \\frac{(x - \\mu)^2} {2 \\sigma^2}}$\n\nwhere $\\mu$ is the mean and $\\sigma$ is the standard deviation of the distribution. The function has its peak at the mean and its \"spread\" increases with the standard deviation.\n\n\nThe normal distribution is useful because of the [central limit theorem](https://en.wikipedia.org/wiki/Central_limit_theorem). In its most general form, under some conditions (which include finite variance), it states that averages of samples of observations of random variables independently drawn from independent distributions converge in distribution to the normal, that is, they become normally distributed when the number of observations is sufficiently large.\n### Distribution of player heights",
      "metadata": {
        "pycharm": {
          "metadata": false
        }
      }
    },
    {
      "cell_type": "code",
      "execution_count": 45,
      "outputs": [
        {
          "name": "stderr",
          "text": [
            "C:\\Anaconda3\\envs\\nhl_draft\\lib\\site-packages\\pandas\\plotting\\_core.py:1344: MatplotlibDeprecationWarning: \nThe \u0027normed\u0027 kwarg was deprecated in Matplotlib 2.1 and will be removed in 3.1. Use \u0027density\u0027 instead.\n  n, bins, patches \u003d ax.hist(y, bins\u003dbins, bottom\u003dbottom, **kwds)\n"
          ],
          "output_type": "stream"
        },
        {
          "data": {
            "text/plain": "count    11502.000000\nmean        72.664785\nstd          2.086986\nmin         65.000000\n25%         71.000000\n50%         73.000000\n75%         74.000000\nmax         81.000000\nName: height, dtype: float64"
          },
          "metadata": {},
          "output_type": "execute_result",
          "execution_count": 45
        },
        {
          "data": {
            "text/plain": "\u003cFigure size 432x288 with 1 Axes\u003e",
            "image/png": "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\u003d\n"
          },
          "metadata": {
            "needs_background": "light"
          },
          "output_type": "display_data"
        }
      ],
      "source": "f, ax \u003d plt.subplots(1)\n\n# plot data\ncol \u003d \u0027height\u0027\ndf[col].plot(kind\u003d\u0027hist\u0027, bins\u003d15, ax\u003dax,\n             normed\u003dTrue,\n             title\u003d\"Height of all drafted players\")\ncol_mean \u003d df[col].mean()\nax.axvline(col_mean, color\u003d\u0027black\u0027, linestyle\u003d\u0027--\u0027)\nax.text(col_mean * 0.99, 0.01, \"Mean: {0:.2f}\".format(col_mean),\n        rotation\u003d\u0027vertical\u0027)\nax.set_ylabel(\"Number of players\")\nax.set_xlabel(\"Height (in inches)\")\n\n# fit a normal curve\nmu \u003d col_mean # distribution mean\nsigma \u003d df[col].std() # standard deviation\n# generate x in range of mu +/- 5 sigma\nx \u003d np.linspace(mu - 5 * sigma, mu + 5 * sigma,\n                1000)\n# initialize a normal distribution\nnd \u003d norm(df[col].mean(), df[col].std())\n# calculate PDF\ny \u003d nd.pdf(x)\n# plot fitted distribution\nax.plot(x, y, color\u003d\u0027red\u0027)\n\ndf[col].describe()",
      "metadata": {
        "pycharm": {
          "metadata": false,
          "name": "#%%\n",
          "is_executing": false
        }
      }
    },
    {
      "cell_type": "code",
      "execution_count": 43,
      "outputs": [],
      "source": "\n",
      "metadata": {
        "pycharm": {
          "metadata": false,
          "name": "#%%\n",
          "is_executing": false
        }
      }
    }
  ],
  "metadata": {
    "language_info": {
      "codemirror_mode": {
        "name": "ipython",
        "version": 2
      },
      "file_extension": ".py",
      "mimetype": "text/x-python",
      "name": "python",
      "nbconvert_exporter": "python",
      "pygments_lexer": "ipython2",
      "version": "2.7.6"
    },
    "kernelspec": {
      "name": "python3",
      "language": "python",
      "display_name": "Python 3"
    },
    "stem_cell": {
      "cell_type": "raw",
      "source": "",
      "metadata": {
        "pycharm": {
          "metadata": false
        }
      }
    }
  },
  "nbformat": 4,
  "nbformat_minor": 0
}