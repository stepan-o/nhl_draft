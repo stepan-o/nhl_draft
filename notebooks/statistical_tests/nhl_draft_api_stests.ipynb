{
  "cells": [
    {
      "cell_type": "markdown",
      "source": "# NHL Draft data from NHL Records API\n# Statistical Tests\nThis notebook presents statistical tests performed on the NHL Draft data obtained from NHL Records API. Previous steps included data collection and data cleaning.",
      "metadata": {
        "pycharm": {
          "metadata": false
        }
      }
    },
    {
      "cell_type": "markdown",
      "source": "### Data collection summary\nDataset generated from a JSON received from the NHL Records API, contains response to the request for all draft records.  \n\nFor details, see notebook `notebooks/feature_extraction/nhl_api.ipynb`.",
      "metadata": {
        "pycharm": {
          "metadata": false
        }
      }
    },
    {
      "cell_type": "markdown",
      "source": "### Data cleanup summary\n* fixed capitalizations for Amateur Club Names, Player Names\n* fixed inconsistent team names for some Russian Amateur Club Names\n    * e.g., \u0027Ska Leningrad\u0027, \u0027St. Petersburg Ska\u0027, \u0027Ska St. Petersburg\u0027, \u0027Leningrad Ska\u0027, \u0027St. Petersburg Ska St. Petersburg\u0027 was replaced with \u0027Ska\u0027\n    * team names fixed only for Ska, Ska2, Cska, and Cska 2\n* fixed 2 erratic height values and 3 weight values (replaced with mean)\n* fixed inconsistent names for Russian leagues\n    * \u0027Russia\u0027, \u0027RUS\u0027, \u0027RUSSIA\u0027, \u0027RUSSIA-1\u0027 were changed to \u0027Russia\u0027\n    * \u0027RUSSIA-JR.\u0027, \u0027RUSSIA JR. 2\u0027 were changed to \u0027Russia-Jr.\u0027\n* removed redundant positions\n    * all players who can play center are assumed to be centers\n        * C/RW (17 players), C/LW (30 players), F (362 players) \u003d C\n    * player who can play both wings are assumed to play the right wing\n        * LW/RW (13 players) \u003d RW\n    * mixed D positions are assumed to be D\n        * LW/D (1 player), D/F (1 player) \u003d D\n* filtered columns and renamed them to shorten their labels\n\n* data problems identified but not currently addressed:\n    * inconsistencies in some Amateur Club Names (e.g., \u0027London Knights\u0027 and \u0027London\u0027)\n    * `pickInRound` appears to have erratic values (will be addressed in this notebook)\n\n* data problems potentially present (not verified)\n    * inconsistent names for Russian teams other than CSKA and SKA (those were fixed)\n\nFor details, see notebook `notebooks/feature_extraction/nhl_draft_api_cleanup.ipynb`",
      "metadata": {
        "pycharm": {
          "metadata": false
        }
      }
    },
    {
      "cell_type": "code",
      "execution_count": null,
      "outputs": [],
      "source": "",
      "metadata": {
        "pycharm": {
          "metadata": false,
          "name": "#%%\n"
        }
      }
    }
  ],
  "metadata": {
    "language_info": {
      "codemirror_mode": {
        "name": "ipython",
        "version": 2
      },
      "file_extension": ".py",
      "mimetype": "text/x-python",
      "name": "python",
      "nbconvert_exporter": "python",
      "pygments_lexer": "ipython2",
      "version": "2.7.6"
    },
    "kernelspec": {
      "name": "pycharm-c7f522c3",
      "language": "python",
      "display_name": "PyCharm (nhl_draft)"
    },
    "stem_cell": {
      "cell_type": "raw",
      "source": "",
      "metadata": {
        "pycharm": {
          "metadata": false
        }
      }
    }
  },
  "nbformat": 4,
  "nbformat_minor": 0
}