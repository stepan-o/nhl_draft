{
  "cells": [
    {
      "cell_type": "markdown",
      "metadata": {
        "collapsed": true,
        "pycharm": {
          "name": "#%% md\n"
        }
      },
      "source": [
        "# NHL Draft dataset\n",
        "# Modeling\n",
        "# Records\n",
        "## Most Goals by a Rookie in a Single Season\n",
        "This notebook presents modeling performed on NHL Records data obtained from NHL Records API Records endpoint.\n",
        "### Data collection summary\n",
        "Dataset generated from a JSON received from the NHL Records API, contains response to the request for all draft records.\n",
        "\n",
        "For details, see notebook `notebooks/feature_extraction/nhl_api.ipynb`."
      ]
    },
    {
      "cell_type": "markdown",
      "metadata": {
        "pycharm": {
          "metadata": false
        }
      },
      "source": [
        "## Preparations\n",
        "### Import dependencies"
      ]
    },
    {
      "cell_type": "code",
      "execution_count": 1,
      "metadata": {
        "pycharm": {
          "is_executing": false,
          "metadata": false,
          "name": "#%%\n"
        }
      },
      "outputs": [
        {
          "data": {
            "text/plain": "[\u0027.git\u0027,\n \u0027.gitattributes\u0027,\n \u0027.gitignore\u0027,\n \u0027.idea\u0027,\n \u0027data\u0027,\n \u0027img\u0027,\n \u0027main.py\u0027,\n \u0027methodology\u0027,\n \u0027models\u0027,\n \u0027notebooks\u0027,\n \u0027README.md\u0027,\n \u0027references\u0027,\n \u0027reports\u0027,\n \u0027requirements.txt\u0027,\n \u0027src\u0027]"
          },
          "metadata": {},
          "output_type": "execute_result",
          "execution_count": 1
        }
      ],
      "source": "import numpy as np\nimport pandas as pd\nimport os\nimport matplotlib.pyplot as plt\nfrom matplotlib.colors import ListedColormap\nfrom pydotplus import graph_from_dot_data\nfrom sklearn.preprocessing import LabelEncoder\nfrom sklearn.linear_model import Perceptron\nfrom sklearn.linear_model import LogisticRegression\nfrom sklearn.svm import SVC\nfrom sklearn.tree import DecisionTreeClassifier, export_graphviz\nfrom sklearn.ensemble import RandomForestClassifier\nfrom sklearn.neighbors import KNeighborsClassifier\nfrom sklearn.metrics import accuracy_score\n\nos.chdir(\u0027Documents/repos/nhl_draft/\u0027) # might need to comment this out\n\nfrom src.io_utils import csv_to_df_rec\nfrom src.class_utils import fit_class\n\nos.listdir()"
    },
    {
      "cell_type": "markdown",
      "metadata": {
        "pycharm": {
          "metadata": false
        }
      },
      "source": [
        "### Load data"
      ]
    },
    {
      "cell_type": "code",
      "execution_count": 2,
      "metadata": {
        "pycharm": {
          "is_executing": false,
          "metadata": false,
          "name": "#%%\n"
        }
      },
      "outputs": [
        {
          "name": "stdout",
          "text": [
            "----- NHL Records\n--- Most Goals, Rookie, Season \n\n----- DataFrame with NHL Records Data loaded\nin 0.13 seconds\nwith 3,377 rows\nand 62 columns\n-- Column names:\n Index([\u0027activePlayer\u0027, \u0027assists\u0027, \u0027assistsPerGpMin20\u0027, \u0027firstGoals\u0027,\n       \u0027firstName\u0027, \u0027fiveGoalGames\u0027, \u0027fourGoalGames\u0027, \u0027gameWinningGoals\u0027,\n       \u0027gamesInSchedule\u0027, \u0027gamesPlayed\u0027, \u0027goals\u0027, \u0027goalsPerGpMin20\u0027,\n       \u0027goalsPerGpMin50\u0027, \u0027id\u0027, \u0027lastName\u0027, \u0027overtimeAssists\u0027, \u0027overtimeGoals\u0027,\n       \u0027overtimePoints\u0027, \u0027penalties\u0027, \u0027penaltyMinutes\u0027, \u0027playerId\u0027, \u0027points\u0027,\n       \u0027pointsPerGpMin50\u0027, \u0027positionCode\u0027, \u0027powerPlayGoals\u0027, \u0027rookieFlag\u0027,\n       \u0027seasonId\u0027, \u0027sevenGoalGames\u0027, \u0027shorthandedGoals\u0027, \u0027shots\u0027,\n       \u0027sixGoalGames\u0027, \u0027teamAbbrevs\u0027, \u0027teamNames\u0027, \u0027threeGoalGames\u0027,\n       \u0027threeOrMoreGoalGames\u0027, \u0027assists_norm\u0027, \u0027firstGoals_norm\u0027,\n       \u0027gameWinningGoals_norm\u0027, \u0027gamesPlayed_norm\u0027, \u0027goals_norm\u0027,\n       \u0027overtimeGoals_norm\u0027, \u0027overtimePoints_norm\u0027, \u0027penalties_norm\u0027,\n       \u0027penaltyMinutes_norm\u0027, \u0027points_norm\u0027, \u0027powerPlayGoals_norm\u0027,\n       \u0027shots_norm\u0027, \u0027assists_std\u0027, \u0027firstGoals_std\u0027, \u0027gameWinningGoals_std\u0027,\n       \u0027gamesPlayed_std\u0027, \u0027goals_std\u0027, \u0027overtimeGoals_std\u0027,\n       \u0027overtimePoints_std\u0027, \u0027penalties_std\u0027, \u0027penaltyMinutes_std\u0027,\n       \u0027points_std\u0027, \u0027powerPlayGoals_std\u0027, \u0027shots_std\u0027, \u0027def\u0027,\n       \u0027overtimeAssists_norm\u0027, \u0027overtimeAssists_std\u0027],\n      dtype\u003d\u0027object\u0027)\n"
          ],
          "output_type": "stream"
        }
      ],
      "source": "rec_name \u003d \u0027most-goals-rookie-one-season\u0027\nsuffix \u003d \u0027_new_cols\u0027\ndf, name \u003d csv_to_df_rec(rec_name, suffix)"
    },
    {
      "cell_type": "code",
      "execution_count": 3,
      "metadata": {
        "pycharm": {
          "is_executing": false,
          "metadata": false,
          "name": "#%%\n"
        }
      },
      "outputs": [
        {
          "name": "stdout",
          "text": [
            "\u003cclass \u0027pandas.core.frame.DataFrame\u0027\u003e\nRangeIndex: 3377 entries, 0 to 3376\nData columns (total 62 columns):\nactivePlayer             3377 non-null bool\nassists                  3377 non-null int64\nassistsPerGpMin20        731 non-null float64\nfirstGoals               3377 non-null int64\nfirstName                3377 non-null object\nfiveGoalGames            308 non-null float64\nfourGoalGames            308 non-null float64\ngameWinningGoals         3377 non-null int64\ngamesInSchedule          3377 non-null int64\ngamesPlayed              3377 non-null int64\ngoals                    3377 non-null int64\ngoalsPerGpMin20          340 non-null float64\ngoalsPerGpMin50          4 non-null float64\nid                       3377 non-null int64\nlastName                 3377 non-null object\novertimeAssists          3377 non-null int64\novertimeGoals            3377 non-null int64\novertimePoints           3377 non-null int64\npenalties                3377 non-null int64\npenaltyMinutes           3377 non-null int64\nplayerId                 3377 non-null int64\npoints                   3377 non-null int64\npointsPerGpMin50         235 non-null float64\npositionCode             3377 non-null object\npowerPlayGoals           3191 non-null float64\nrookieFlag               3377 non-null bool\nseasonId                 3377 non-null int64\nsevenGoalGames           308 non-null float64\nshorthandedGoals         3191 non-null float64\nshots                    2885 non-null float64\nsixGoalGames             308 non-null float64\nteamAbbrevs              3377 non-null object\nteamNames                3377 non-null object\nthreeGoalGames           308 non-null float64\nthreeOrMoreGoalGames     308 non-null float64\nassists_norm             3377 non-null float64\nfirstGoals_norm          3377 non-null float64\ngameWinningGoals_norm    3377 non-null float64\ngamesPlayed_norm         3377 non-null float64\ngoals_norm               3377 non-null float64\novertimeGoals_norm       3377 non-null float64\novertimePoints_norm      3377 non-null float64\npenalties_norm           3377 non-null float64\npenaltyMinutes_norm      3377 non-null float64\npoints_norm              3377 non-null float64\npowerPlayGoals_norm      3191 non-null float64\nshots_norm               2885 non-null float64\nassists_std              3377 non-null float64\nfirstGoals_std           3377 non-null float64\ngameWinningGoals_std     3377 non-null float64\ngamesPlayed_std          3377 non-null float64\ngoals_std                3377 non-null float64\novertimeGoals_std        3377 non-null float64\novertimePoints_std       3377 non-null float64\npenalties_std            3377 non-null float64\npenaltyMinutes_std       3377 non-null float64\npoints_std               3377 non-null float64\npowerPlayGoals_std       3191 non-null float64\nshots_std                2885 non-null float64\ndef                      3377 non-null bool\novertimeAssists_norm     3377 non-null float64\novertimeAssists_std      3377 non-null float64\ndtypes: bool(3), float64(39), int64(15), object(5)\nmemory usage: 1.5+ MB\n"
          ],
          "output_type": "stream"
        }
      ],
      "source": "df.info()"
    },
    {
      "cell_type": "markdown",
      "metadata": {
        "pycharm": {
          "metadata": false,
          "name": "#%% md\n"
        }
      },
      "source": [
        "## Select features and target\n",
        "### Two features: goals and assists"
      ]
    },
    {
      "cell_type": "markdown",
      "metadata": {
        "pycharm": {
          "metadata": false,
          "name": "#%% md\n"
        }
      },
      "source": "## Classification algorithms\nClassification algorithms are fitted on data and decision boundaries are plotted."
    },
    {
      "cell_type": "code",
      "execution_count": 4,
      "metadata": {
        "pycharm": {
          "is_executing": false,
          "metadata": false,
          "name": "#%%\n"
        }
      },
      "outputs": [
        {
          "name": "stdout",
          "text": [
            "----- Fitting classification algorithms to predict def from goals gamesPlayed \nTotal samples in the dataset: 3,377\nLabels counts in y_train: [1898  465] \nLabels counts in y_test: [814 200] \nLabels counts in y: [2712  665]\n\n --- Features scaled using StandardScaler.\n\n----- Fitting PERC\n",
            "Plot saved to file img/decision_boundaries/goals_gamesPlayed_perc.png\n\n - took 0.61 seconds.\n\n----- Fitting LR\n",
            "Plot saved to file img/decision_boundaries/goals_gamesPlayed_lr.png\n\n - took 0.63 seconds.\n\n----- Fitting TREE\n",
            "Plot saved to file img/decision_boundaries/goals_gamesPlayed_tree.png\n\n - took 0.58 seconds.\n"
          ],
          "output_type": "stream"
        },
        {
          "name": "stderr",
          "text": [
            "C:\\Anaconda3\\envs\\nhl_draft\\lib\\site-packages\\sklearn\\linear_model\\logistic.py:432: FutureWarning: Default solver will be changed to \u0027lbfgs\u0027 in 0.22. Specify a solver to silence this warning.\n  FutureWarning)\n"
          ],
          "output_type": "stream"
        }
      ],
      "source": "xcol1 \u003d \u0027goals\u0027\nxcol2 \u003d \u0027gamesPlayed\u0027\nycol \u003d \u0027def\u0027\nX \u003d df[[xcol1, xcol2]]\ny \u003d df[ycol]\n\nfit_class(X, y, classifier\u003d[\u0027perc\u0027, \u0027lr\u0027, \u0027tree\u0027], scale\u003d\u0027norm\u0027,\n          plot_result\u003d\u0027save\u0027, xlabel\u003dxcol1, ylabel\u003dxcol2)"
    },
    {
      "cell_type": "markdown",
      "metadata": {
        "pycharm": {
          "metadata": false,
          "name": "#%% md\n"
        }
      },
      "source": "## Multi-class classification\n### Encoding target"
    },
    {
      "cell_type": "code",
      "execution_count": 9,
      "metadata": {
        "pycharm": {
          "is_executing": false,
          "metadata": false,
          "name": "#%%\n"
        }
      },
      "outputs": [
        {
          "name": "stdout",
          "text": [
            "Positions encoded!\n----- Fitting classification algorithms to predict pos from goals assists \nTotal samples in the dataset: 3,377\nLabels counts in y_train: [703 465 605 590] \nLabels counts in y_test: [301 200 260 253] \nLabels counts in y: [1004  665  865  843]\n\n --- Features scaled using StandardScaler.\n\n----- Fitting PERC\n",
            "Plot saved to file img/decision_boundaries/multi-class/goals_assists_perc.png\n\n - took 0.96 seconds.\n\n----- Fitting LR\n",
            "Plot saved to file img/decision_boundaries/multi-class/goals_assists_lr.png\n\n - took 0.97 seconds.\n\n----- Fitting TREE\n",
            "Plot saved to file img/decision_boundaries/multi-class/goals_assists_tree.png\n\n - took 1.32 seconds.\n"
          ],
          "output_type": "stream"
        },
        {
          "name": "stderr",
          "text": [
            "C:\\Anaconda3\\envs\\nhl_draft\\lib\\site-packages\\sklearn\\linear_model\\logistic.py:432: FutureWarning: Default solver will be changed to \u0027lbfgs\u0027 in 0.22. Specify a solver to silence this warning.\n  FutureWarning)\nC:\\Anaconda3\\envs\\nhl_draft\\lib\\site-packages\\sklearn\\linear_model\\logistic.py:469: FutureWarning: Default multi_class will be changed to \u0027auto\u0027 in 0.22. Specify the multi_class option to silence this warning.\n  \"this warning.\", FutureWarning)\n"
          ],
          "output_type": "stream"
        }
      ],
      "source": "le \u003d LabelEncoder()\ndf[\u0027pos\u0027] \u003d le.fit_transform(df[\u0027positionCode\u0027])\nprint(\"Positions encoded!\")\n\nxcol1 \u003d \u0027goals\u0027\nxcol2 \u003d \u0027assists\u0027\nycol \u003d \u0027pos\u0027\nX \u003d df[[xcol1, xcol2]]\ny \u003d df[ycol]\n\nfit_class(X, y, classifier\u003d[\u0027perc\u0027, \u0027lr\u0027, \u0027tree\u0027], \n          scale\u003d\u0027norm\u0027, plot_resolution\u003d0.001,\n          plot_result\u003d\u0027save\u0027, xlabel\u003dxcol1, ylabel\u003dxcol2, \n          save_path\u003d\"multi-class/\")"
    },
    {
      "cell_type": "markdown",
      "metadata": {
        "pycharm": {
          "metadata": false
        }
      },
      "source": "## All features"
    },
    {
      "cell_type": "code",
      "execution_count": null,
      "metadata": {
        "pycharm": {
          "metadata": false,
          "name": "#%%\n"
        }
      },
      "outputs": [],
      "source": [
        "mask \u003d pd.Series(df.columns).str.contains(\u0027std\u0027)\n",
        "x_cols \u003d df.columns[mask]\n",
        "X \u003d df[x_cols]\n"
      ]
    }
  ],
  "metadata": {
    "hide_input": false,
    "kernelspec": {
      "display_name": "Python 3",
      "language": "python",
      "name": "python3"
    },
    "language_info": {
      "codemirror_mode": {
        "name": "ipython",
        "version": 3
      },
      "file_extension": ".py",
      "mimetype": "text/x-python",
      "name": "python",
      "nbconvert_exporter": "python",
      "pygments_lexer": "ipython3",
      "version": "3.7.3"
    },
    "latex_envs": {
      "LaTeX_envs_menu_present": true,
      "autoclose": false,
      "autocomplete": true,
      "bibliofile": "biblio.bib",
      "cite_by": "apalike",
      "current_citInitial": 1,
      "eqLabelWithNumbers": true,
      "eqNumInitial": 1,
      "hotkeys": {
        "equation": "Ctrl-E",
        "itemize": "Ctrl-I"
      },
      "labels_anchors": false,
      "latex_user_defs": false,
      "report_style_numbering": false,
      "user_envs_cfg": false
    },
    "toc": {
      "base_numbering": 1,
      "nav_menu": {},
      "number_sections": true,
      "sideBar": true,
      "skip_h1_title": true,
      "title_cell": "Table of Contents",
      "title_sidebar": "Contents",
      "toc_cell": false,
      "toc_position": {},
      "toc_section_display": true,
      "toc_window_display": true
    },
    "varInspector": {
      "cols": {
        "lenName": 16,
        "lenType": 16,
        "lenVar": 40
      },
      "kernels_config": {
        "python": {
          "delete_cmd_postfix": "",
          "delete_cmd_prefix": "del ",
          "library": "var_list.py",
          "varRefreshCmd": "print(var_dic_list())"
        },
        "r": {
          "delete_cmd_postfix": ") ",
          "delete_cmd_prefix": "rm(",
          "library": "var_list.r",
          "varRefreshCmd": "cat(var_dic_list()) "
        }
      },
      "types_to_exclude": [
        "module",
        "function",
        "builtin_function_or_method",
        "instance",
        "_Feature"
      ],
      "window_display": false
    }
  },
  "nbformat": 4,
  "nbformat_minor": 1
}